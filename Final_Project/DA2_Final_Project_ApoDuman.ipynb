{
 "cells": [
  {
   "attachments": {},
   "cell_type": "markdown",
   "id": "68f03b37-1f0b-454c-b91b-dbab2dca25c2",
   "metadata": {},
   "source": [
    "# DA2 FINAL PROJECT - The Effect of Age on Money Spent on Shopping in 2022\n",
    "\n",
    "* In this project, it's aimed to examine the change in the money spent by shopping mall customers on shopping according to age in 2022. In addition to age, the effects of variables such as gender, shopping category, payment method and shopping mall on age and money spent will also be the subject of this analysis."
   ]
  },
  {
   "cell_type": "markdown",
   "id": "c395e862-0710-4aa2-a49c-e7bc62b75d78",
   "metadata": {},
   "source": [
    "- $y^E=\\beta_0+\\beta_1 x_1 +\\beta_2x_2$\n",
    "  \n",
    "- y= money on spent on purchasing\n",
    "- x1= age\n",
    "- x2= conditional on/controlling variables"
   ]
  },
  {
   "cell_type": "code",
   "execution_count": 81,
   "id": "f63f1108-63c5-46db-815a-8abc66e78daf",
   "metadata": {},
   "outputs": [],
   "source": [
    "# importing packages\n",
    "import os\n",
    "import sys\n",
    "import warnings\n",
    "\n",
    "import numpy as np\n",
    "import pandas as pd\n",
    "from mizani.formatters import percent_format\n",
    "from plotnine import *\n",
    "from datetime import datetime\n",
    "from scipy.stats import norm\n",
    "import statsmodels.api as sm\n",
    "import statsmodels.formula.api as smf\n",
    "from mizani import transforms\n",
    "from stargazer.stargazer import Stargazer\n",
    "from IPython.core.display import HTML\n",
    "import matplotlib.pyplot as plt\n",
    "import seaborn as sns\n",
    "import plotly.express as px\n",
    "from plotnine import ggplot, aes, geom_bar, labs, theme_minimal\n",
    "\n",
    "\n",
    "\n",
    "\n",
    "warnings.filterwarnings(\"ignore\")\n"
   ]
  },
  {
   "cell_type": "code",
   "execution_count": 82,
   "id": "041cd4d1-281d-466f-8b13-3487312c3233",
   "metadata": {},
   "outputs": [],
   "source": [
    "# importing the prewritten helper functions\n",
    "from py_helper_functions import *"
   ]
  },
  {
   "cell_type": "code",
   "execution_count": 83,
   "id": "1ef1bfb2-b736-4b8b-bad1-82c1f0e8a698",
   "metadata": {},
   "outputs": [],
   "source": [
    "# reading the raw data from github\n",
    "df = pd.read_csv(\"https://raw.githubusercontent.com/ab-dum/DataAnalysis2/main/Final_Project/customer_shopping_data.csv\")"
   ]
  },
  {
   "cell_type": "code",
   "execution_count": 84,
   "id": "93ed8b8e-3407-4e61-976c-a4958f32f487",
   "metadata": {},
   "outputs": [
    {
     "data": {
      "text/html": [
       "<div>\n",
       "<style scoped>\n",
       "    .dataframe tbody tr th:only-of-type {\n",
       "        vertical-align: middle;\n",
       "    }\n",
       "\n",
       "    .dataframe tbody tr th {\n",
       "        vertical-align: top;\n",
       "    }\n",
       "\n",
       "    .dataframe thead th {\n",
       "        text-align: right;\n",
       "    }\n",
       "</style>\n",
       "<table border=\"1\" class=\"dataframe\">\n",
       "  <thead>\n",
       "    <tr style=\"text-align: right;\">\n",
       "      <th></th>\n",
       "      <th>invoice_no</th>\n",
       "      <th>customer_id</th>\n",
       "      <th>gender</th>\n",
       "      <th>age</th>\n",
       "      <th>category</th>\n",
       "      <th>quantity</th>\n",
       "      <th>price</th>\n",
       "      <th>payment_method</th>\n",
       "      <th>invoice_date</th>\n",
       "      <th>shopping_mall</th>\n",
       "    </tr>\n",
       "  </thead>\n",
       "  <tbody>\n",
       "    <tr>\n",
       "      <th>0</th>\n",
       "      <td>I138884</td>\n",
       "      <td>C241288</td>\n",
       "      <td>Female</td>\n",
       "      <td>28</td>\n",
       "      <td>Clothing</td>\n",
       "      <td>5</td>\n",
       "      <td>1500.40</td>\n",
       "      <td>Credit Card</td>\n",
       "      <td>5/8/2022</td>\n",
       "      <td>Kanyon</td>\n",
       "    </tr>\n",
       "    <tr>\n",
       "      <th>1</th>\n",
       "      <td>I317333</td>\n",
       "      <td>C111565</td>\n",
       "      <td>Male</td>\n",
       "      <td>21</td>\n",
       "      <td>Shoes</td>\n",
       "      <td>3</td>\n",
       "      <td>1800.51</td>\n",
       "      <td>Debit Card</td>\n",
       "      <td>12/12/2021</td>\n",
       "      <td>Forum Istanbul</td>\n",
       "    </tr>\n",
       "    <tr>\n",
       "      <th>2</th>\n",
       "      <td>I127801</td>\n",
       "      <td>C266599</td>\n",
       "      <td>Male</td>\n",
       "      <td>20</td>\n",
       "      <td>Clothing</td>\n",
       "      <td>1</td>\n",
       "      <td>300.08</td>\n",
       "      <td>Cash</td>\n",
       "      <td>9/11/2021</td>\n",
       "      <td>Metrocity</td>\n",
       "    </tr>\n",
       "    <tr>\n",
       "      <th>3</th>\n",
       "      <td>I173702</td>\n",
       "      <td>C988172</td>\n",
       "      <td>Female</td>\n",
       "      <td>66</td>\n",
       "      <td>Shoes</td>\n",
       "      <td>5</td>\n",
       "      <td>3000.85</td>\n",
       "      <td>Credit Card</td>\n",
       "      <td>16/05/2021</td>\n",
       "      <td>Metropol AVM</td>\n",
       "    </tr>\n",
       "    <tr>\n",
       "      <th>4</th>\n",
       "      <td>I337046</td>\n",
       "      <td>C189076</td>\n",
       "      <td>Female</td>\n",
       "      <td>53</td>\n",
       "      <td>Books</td>\n",
       "      <td>4</td>\n",
       "      <td>60.60</td>\n",
       "      <td>Cash</td>\n",
       "      <td>24/10/2021</td>\n",
       "      <td>Kanyon</td>\n",
       "    </tr>\n",
       "    <tr>\n",
       "      <th>...</th>\n",
       "      <td>...</td>\n",
       "      <td>...</td>\n",
       "      <td>...</td>\n",
       "      <td>...</td>\n",
       "      <td>...</td>\n",
       "      <td>...</td>\n",
       "      <td>...</td>\n",
       "      <td>...</td>\n",
       "      <td>...</td>\n",
       "      <td>...</td>\n",
       "    </tr>\n",
       "    <tr>\n",
       "      <th>99452</th>\n",
       "      <td>I219422</td>\n",
       "      <td>C441542</td>\n",
       "      <td>Female</td>\n",
       "      <td>45</td>\n",
       "      <td>Souvenir</td>\n",
       "      <td>5</td>\n",
       "      <td>58.65</td>\n",
       "      <td>Credit Card</td>\n",
       "      <td>21/09/2022</td>\n",
       "      <td>Kanyon</td>\n",
       "    </tr>\n",
       "    <tr>\n",
       "      <th>99453</th>\n",
       "      <td>I325143</td>\n",
       "      <td>C569580</td>\n",
       "      <td>Male</td>\n",
       "      <td>27</td>\n",
       "      <td>Food &amp; Beverage</td>\n",
       "      <td>2</td>\n",
       "      <td>10.46</td>\n",
       "      <td>Cash</td>\n",
       "      <td>22/09/2021</td>\n",
       "      <td>Forum Istanbul</td>\n",
       "    </tr>\n",
       "    <tr>\n",
       "      <th>99454</th>\n",
       "      <td>I824010</td>\n",
       "      <td>C103292</td>\n",
       "      <td>Male</td>\n",
       "      <td>63</td>\n",
       "      <td>Food &amp; Beverage</td>\n",
       "      <td>2</td>\n",
       "      <td>10.46</td>\n",
       "      <td>Debit Card</td>\n",
       "      <td>28/03/2021</td>\n",
       "      <td>Metrocity</td>\n",
       "    </tr>\n",
       "    <tr>\n",
       "      <th>99455</th>\n",
       "      <td>I702964</td>\n",
       "      <td>C800631</td>\n",
       "      <td>Male</td>\n",
       "      <td>56</td>\n",
       "      <td>Technology</td>\n",
       "      <td>4</td>\n",
       "      <td>4200.00</td>\n",
       "      <td>Cash</td>\n",
       "      <td>16/03/2021</td>\n",
       "      <td>Istinye Park</td>\n",
       "    </tr>\n",
       "    <tr>\n",
       "      <th>99456</th>\n",
       "      <td>I232867</td>\n",
       "      <td>C273973</td>\n",
       "      <td>Female</td>\n",
       "      <td>36</td>\n",
       "      <td>Souvenir</td>\n",
       "      <td>3</td>\n",
       "      <td>35.19</td>\n",
       "      <td>Credit Card</td>\n",
       "      <td>15/10/2022</td>\n",
       "      <td>Mall of Istanbul</td>\n",
       "    </tr>\n",
       "  </tbody>\n",
       "</table>\n",
       "<p>99457 rows × 10 columns</p>\n",
       "</div>"
      ],
      "text/plain": [
       "      invoice_no customer_id  gender  age         category  quantity    price  \\\n",
       "0        I138884     C241288  Female   28         Clothing         5  1500.40   \n",
       "1        I317333     C111565    Male   21            Shoes         3  1800.51   \n",
       "2        I127801     C266599    Male   20         Clothing         1   300.08   \n",
       "3        I173702     C988172  Female   66            Shoes         5  3000.85   \n",
       "4        I337046     C189076  Female   53            Books         4    60.60   \n",
       "...          ...         ...     ...  ...              ...       ...      ...   \n",
       "99452    I219422     C441542  Female   45         Souvenir         5    58.65   \n",
       "99453    I325143     C569580    Male   27  Food & Beverage         2    10.46   \n",
       "99454    I824010     C103292    Male   63  Food & Beverage         2    10.46   \n",
       "99455    I702964     C800631    Male   56       Technology         4  4200.00   \n",
       "99456    I232867     C273973  Female   36         Souvenir         3    35.19   \n",
       "\n",
       "      payment_method invoice_date     shopping_mall  \n",
       "0        Credit Card     5/8/2022            Kanyon  \n",
       "1         Debit Card   12/12/2021    Forum Istanbul  \n",
       "2               Cash    9/11/2021         Metrocity  \n",
       "3        Credit Card   16/05/2021      Metropol AVM  \n",
       "4               Cash   24/10/2021            Kanyon  \n",
       "...              ...          ...               ...  \n",
       "99452    Credit Card   21/09/2022            Kanyon  \n",
       "99453           Cash   22/09/2021    Forum Istanbul  \n",
       "99454     Debit Card   28/03/2021         Metrocity  \n",
       "99455           Cash   16/03/2021      Istinye Park  \n",
       "99456    Credit Card   15/10/2022  Mall of Istanbul  \n",
       "\n",
       "[99457 rows x 10 columns]"
      ]
     },
     "execution_count": 84,
     "metadata": {},
     "output_type": "execute_result"
    }
   ],
   "source": [
    "df"
   ]
  },
  {
   "cell_type": "code",
   "execution_count": 85,
   "id": "bbd02a83-395c-4ca8-bf3a-f8c7bc2c6b12",
   "metadata": {},
   "outputs": [
    {
     "data": {
      "text/html": [
       "<div>\n",
       "<style scoped>\n",
       "    .dataframe tbody tr th:only-of-type {\n",
       "        vertical-align: middle;\n",
       "    }\n",
       "\n",
       "    .dataframe tbody tr th {\n",
       "        vertical-align: top;\n",
       "    }\n",
       "\n",
       "    .dataframe thead th {\n",
       "        text-align: right;\n",
       "    }\n",
       "</style>\n",
       "<table border=\"1\" class=\"dataframe\">\n",
       "  <thead>\n",
       "    <tr style=\"text-align: right;\">\n",
       "      <th></th>\n",
       "      <th>invoice_no</th>\n",
       "      <th>customer_id</th>\n",
       "      <th>gender</th>\n",
       "      <th>age</th>\n",
       "      <th>category</th>\n",
       "      <th>quantity</th>\n",
       "      <th>price</th>\n",
       "      <th>payment_method</th>\n",
       "      <th>invoice_date</th>\n",
       "      <th>shopping_mall</th>\n",
       "    </tr>\n",
       "  </thead>\n",
       "  <tbody>\n",
       "    <tr>\n",
       "      <th>0</th>\n",
       "      <td>I138884</td>\n",
       "      <td>C241288</td>\n",
       "      <td>Female</td>\n",
       "      <td>28</td>\n",
       "      <td>Clothing</td>\n",
       "      <td>5</td>\n",
       "      <td>1500.40</td>\n",
       "      <td>Credit Card</td>\n",
       "      <td>2022-08-05</td>\n",
       "      <td>Kanyon</td>\n",
       "    </tr>\n",
       "    <tr>\n",
       "      <th>5</th>\n",
       "      <td>I227836</td>\n",
       "      <td>C657758</td>\n",
       "      <td>Female</td>\n",
       "      <td>28</td>\n",
       "      <td>Clothing</td>\n",
       "      <td>5</td>\n",
       "      <td>1500.40</td>\n",
       "      <td>Credit Card</td>\n",
       "      <td>2022-05-24</td>\n",
       "      <td>Forum Istanbul</td>\n",
       "    </tr>\n",
       "    <tr>\n",
       "      <th>6</th>\n",
       "      <td>I121056</td>\n",
       "      <td>C151197</td>\n",
       "      <td>Female</td>\n",
       "      <td>49</td>\n",
       "      <td>Cosmetics</td>\n",
       "      <td>1</td>\n",
       "      <td>40.66</td>\n",
       "      <td>Cash</td>\n",
       "      <td>2022-03-13</td>\n",
       "      <td>Istinye Park</td>\n",
       "    </tr>\n",
       "    <tr>\n",
       "      <th>10</th>\n",
       "      <td>I306368</td>\n",
       "      <td>C240286</td>\n",
       "      <td>Female</td>\n",
       "      <td>36</td>\n",
       "      <td>Food &amp; Beverage</td>\n",
       "      <td>2</td>\n",
       "      <td>10.46</td>\n",
       "      <td>Cash</td>\n",
       "      <td>2022-12-25</td>\n",
       "      <td>Metrocity</td>\n",
       "    </tr>\n",
       "    <tr>\n",
       "      <th>11</th>\n",
       "      <td>I139207</td>\n",
       "      <td>C191708</td>\n",
       "      <td>Female</td>\n",
       "      <td>29</td>\n",
       "      <td>Books</td>\n",
       "      <td>1</td>\n",
       "      <td>15.15</td>\n",
       "      <td>Credit Card</td>\n",
       "      <td>2022-10-28</td>\n",
       "      <td>Emaar Square Mall</td>\n",
       "    </tr>\n",
       "    <tr>\n",
       "      <th>...</th>\n",
       "      <td>...</td>\n",
       "      <td>...</td>\n",
       "      <td>...</td>\n",
       "      <td>...</td>\n",
       "      <td>...</td>\n",
       "      <td>...</td>\n",
       "      <td>...</td>\n",
       "      <td>...</td>\n",
       "      <td>...</td>\n",
       "      <td>...</td>\n",
       "    </tr>\n",
       "    <tr>\n",
       "      <th>99434</th>\n",
       "      <td>I186560</td>\n",
       "      <td>C117024</td>\n",
       "      <td>Female</td>\n",
       "      <td>39</td>\n",
       "      <td>Shoes</td>\n",
       "      <td>1</td>\n",
       "      <td>600.17</td>\n",
       "      <td>Cash</td>\n",
       "      <td>2022-03-21</td>\n",
       "      <td>Kanyon</td>\n",
       "    </tr>\n",
       "    <tr>\n",
       "      <th>99435</th>\n",
       "      <td>I141871</td>\n",
       "      <td>C298790</td>\n",
       "      <td>Female</td>\n",
       "      <td>62</td>\n",
       "      <td>Clothing</td>\n",
       "      <td>3</td>\n",
       "      <td>900.24</td>\n",
       "      <td>Cash</td>\n",
       "      <td>2022-02-02</td>\n",
       "      <td>Emaar Square Mall</td>\n",
       "    </tr>\n",
       "    <tr>\n",
       "      <th>99436</th>\n",
       "      <td>I579905</td>\n",
       "      <td>C265057</td>\n",
       "      <td>Female</td>\n",
       "      <td>57</td>\n",
       "      <td>Clothing</td>\n",
       "      <td>5</td>\n",
       "      <td>1500.40</td>\n",
       "      <td>Cash</td>\n",
       "      <td>2022-03-27</td>\n",
       "      <td>Cevahir AVM</td>\n",
       "    </tr>\n",
       "    <tr>\n",
       "      <th>99452</th>\n",
       "      <td>I219422</td>\n",
       "      <td>C441542</td>\n",
       "      <td>Female</td>\n",
       "      <td>45</td>\n",
       "      <td>Souvenir</td>\n",
       "      <td>5</td>\n",
       "      <td>58.65</td>\n",
       "      <td>Credit Card</td>\n",
       "      <td>2022-09-21</td>\n",
       "      <td>Kanyon</td>\n",
       "    </tr>\n",
       "    <tr>\n",
       "      <th>99456</th>\n",
       "      <td>I232867</td>\n",
       "      <td>C273973</td>\n",
       "      <td>Female</td>\n",
       "      <td>36</td>\n",
       "      <td>Souvenir</td>\n",
       "      <td>3</td>\n",
       "      <td>35.19</td>\n",
       "      <td>Credit Card</td>\n",
       "      <td>2022-10-15</td>\n",
       "      <td>Mall of Istanbul</td>\n",
       "    </tr>\n",
       "  </tbody>\n",
       "</table>\n",
       "<p>45551 rows × 10 columns</p>\n",
       "</div>"
      ],
      "text/plain": [
       "      invoice_no customer_id  gender  age         category  quantity    price  \\\n",
       "0        I138884     C241288  Female   28         Clothing         5  1500.40   \n",
       "5        I227836     C657758  Female   28         Clothing         5  1500.40   \n",
       "6        I121056     C151197  Female   49        Cosmetics         1    40.66   \n",
       "10       I306368     C240286  Female   36  Food & Beverage         2    10.46   \n",
       "11       I139207     C191708  Female   29            Books         1    15.15   \n",
       "...          ...         ...     ...  ...              ...       ...      ...   \n",
       "99434    I186560     C117024  Female   39            Shoes         1   600.17   \n",
       "99435    I141871     C298790  Female   62         Clothing         3   900.24   \n",
       "99436    I579905     C265057  Female   57         Clothing         5  1500.40   \n",
       "99452    I219422     C441542  Female   45         Souvenir         5    58.65   \n",
       "99456    I232867     C273973  Female   36         Souvenir         3    35.19   \n",
       "\n",
       "      payment_method invoice_date      shopping_mall  \n",
       "0        Credit Card   2022-08-05             Kanyon  \n",
       "5        Credit Card   2022-05-24     Forum Istanbul  \n",
       "6               Cash   2022-03-13       Istinye Park  \n",
       "10              Cash   2022-12-25          Metrocity  \n",
       "11       Credit Card   2022-10-28  Emaar Square Mall  \n",
       "...              ...          ...                ...  \n",
       "99434           Cash   2022-03-21             Kanyon  \n",
       "99435           Cash   2022-02-02  Emaar Square Mall  \n",
       "99436           Cash   2022-03-27        Cevahir AVM  \n",
       "99452    Credit Card   2022-09-21             Kanyon  \n",
       "99456    Credit Card   2022-10-15   Mall of Istanbul  \n",
       "\n",
       "[45551 rows x 10 columns]"
      ]
     },
     "execution_count": 85,
     "metadata": {},
     "output_type": "execute_result"
    }
   ],
   "source": [
    "# formatting the invoice date and filtering for 2022\n",
    "df[\"invoice_date\"] = pd.to_datetime(df[\"invoice_date\"], format='%d/%m/%Y')\n",
    "df = df.loc[df[\"invoice_date\"].dt.year == 2022]\n",
    "df"
   ]
  },
  {
   "cell_type": "code",
   "execution_count": 86,
   "id": "452b1ece-27d4-4be6-9511-de64d9f16de3",
   "metadata": {},
   "outputs": [],
   "source": [
    "# creating the total price column, creating dummy for female and taking log of the price,total price and age\n",
    "df['total_price'] = df['quantity'] * df['price']\n",
    "df['price'] = df['price'].astype(int)\n",
    "df['total_price'] = df['total_price'].astype(int)\n",
    "df[\"female\"] = (df.gender == 'Female').astype(int) #dummy\n",
    "df['lnprice'] = np.log(df['price'])\n",
    "df['lnage'] = np.log(df['age'])\n",
    "df['lntotalprice'] = np.log(df['total_price'])\n",
    "df['lntotalprice'] = df['lntotalprice'].astype(int)"
   ]
  },
  {
   "cell_type": "code",
   "execution_count": 87,
   "id": "e7fefdd4-27c8-4e9a-afbe-b63aa99d7fde",
   "metadata": {},
   "outputs": [
    {
     "data": {
      "text/html": [
       "<div>\n",
       "<style scoped>\n",
       "    .dataframe tbody tr th:only-of-type {\n",
       "        vertical-align: middle;\n",
       "    }\n",
       "\n",
       "    .dataframe tbody tr th {\n",
       "        vertical-align: top;\n",
       "    }\n",
       "\n",
       "    .dataframe thead th {\n",
       "        text-align: right;\n",
       "    }\n",
       "</style>\n",
       "<table border=\"1\" class=\"dataframe\">\n",
       "  <thead>\n",
       "    <tr style=\"text-align: right;\">\n",
       "      <th></th>\n",
       "      <th>invoice_no</th>\n",
       "      <th>customer_id</th>\n",
       "      <th>gender</th>\n",
       "      <th>age</th>\n",
       "      <th>category</th>\n",
       "      <th>quantity</th>\n",
       "      <th>price</th>\n",
       "      <th>payment_method</th>\n",
       "      <th>invoice_date</th>\n",
       "      <th>shopping_mall</th>\n",
       "      <th>total_price</th>\n",
       "      <th>female</th>\n",
       "      <th>lnprice</th>\n",
       "      <th>lnage</th>\n",
       "      <th>lntotalprice</th>\n",
       "    </tr>\n",
       "  </thead>\n",
       "  <tbody>\n",
       "    <tr>\n",
       "      <th>0</th>\n",
       "      <td>I138884</td>\n",
       "      <td>C241288</td>\n",
       "      <td>Female</td>\n",
       "      <td>28</td>\n",
       "      <td>Clothing</td>\n",
       "      <td>5</td>\n",
       "      <td>1500</td>\n",
       "      <td>Credit Card</td>\n",
       "      <td>2022-08-05</td>\n",
       "      <td>Kanyon</td>\n",
       "      <td>7502</td>\n",
       "      <td>1</td>\n",
       "      <td>7.313220</td>\n",
       "      <td>3.332205</td>\n",
       "      <td>8</td>\n",
       "    </tr>\n",
       "    <tr>\n",
       "      <th>5</th>\n",
       "      <td>I227836</td>\n",
       "      <td>C657758</td>\n",
       "      <td>Female</td>\n",
       "      <td>28</td>\n",
       "      <td>Clothing</td>\n",
       "      <td>5</td>\n",
       "      <td>1500</td>\n",
       "      <td>Credit Card</td>\n",
       "      <td>2022-05-24</td>\n",
       "      <td>Forum Istanbul</td>\n",
       "      <td>7502</td>\n",
       "      <td>1</td>\n",
       "      <td>7.313220</td>\n",
       "      <td>3.332205</td>\n",
       "      <td>8</td>\n",
       "    </tr>\n",
       "    <tr>\n",
       "      <th>6</th>\n",
       "      <td>I121056</td>\n",
       "      <td>C151197</td>\n",
       "      <td>Female</td>\n",
       "      <td>49</td>\n",
       "      <td>Cosmetics</td>\n",
       "      <td>1</td>\n",
       "      <td>40</td>\n",
       "      <td>Cash</td>\n",
       "      <td>2022-03-13</td>\n",
       "      <td>Istinye Park</td>\n",
       "      <td>40</td>\n",
       "      <td>1</td>\n",
       "      <td>3.688879</td>\n",
       "      <td>3.891820</td>\n",
       "      <td>3</td>\n",
       "    </tr>\n",
       "    <tr>\n",
       "      <th>10</th>\n",
       "      <td>I306368</td>\n",
       "      <td>C240286</td>\n",
       "      <td>Female</td>\n",
       "      <td>36</td>\n",
       "      <td>Food &amp; Beverage</td>\n",
       "      <td>2</td>\n",
       "      <td>10</td>\n",
       "      <td>Cash</td>\n",
       "      <td>2022-12-25</td>\n",
       "      <td>Metrocity</td>\n",
       "      <td>20</td>\n",
       "      <td>1</td>\n",
       "      <td>2.302585</td>\n",
       "      <td>3.583519</td>\n",
       "      <td>2</td>\n",
       "    </tr>\n",
       "    <tr>\n",
       "      <th>11</th>\n",
       "      <td>I139207</td>\n",
       "      <td>C191708</td>\n",
       "      <td>Female</td>\n",
       "      <td>29</td>\n",
       "      <td>Books</td>\n",
       "      <td>1</td>\n",
       "      <td>15</td>\n",
       "      <td>Credit Card</td>\n",
       "      <td>2022-10-28</td>\n",
       "      <td>Emaar Square Mall</td>\n",
       "      <td>15</td>\n",
       "      <td>1</td>\n",
       "      <td>2.708050</td>\n",
       "      <td>3.367296</td>\n",
       "      <td>2</td>\n",
       "    </tr>\n",
       "    <tr>\n",
       "      <th>...</th>\n",
       "      <td>...</td>\n",
       "      <td>...</td>\n",
       "      <td>...</td>\n",
       "      <td>...</td>\n",
       "      <td>...</td>\n",
       "      <td>...</td>\n",
       "      <td>...</td>\n",
       "      <td>...</td>\n",
       "      <td>...</td>\n",
       "      <td>...</td>\n",
       "      <td>...</td>\n",
       "      <td>...</td>\n",
       "      <td>...</td>\n",
       "      <td>...</td>\n",
       "      <td>...</td>\n",
       "    </tr>\n",
       "    <tr>\n",
       "      <th>99434</th>\n",
       "      <td>I186560</td>\n",
       "      <td>C117024</td>\n",
       "      <td>Female</td>\n",
       "      <td>39</td>\n",
       "      <td>Shoes</td>\n",
       "      <td>1</td>\n",
       "      <td>600</td>\n",
       "      <td>Cash</td>\n",
       "      <td>2022-03-21</td>\n",
       "      <td>Kanyon</td>\n",
       "      <td>600</td>\n",
       "      <td>1</td>\n",
       "      <td>6.396930</td>\n",
       "      <td>3.663562</td>\n",
       "      <td>6</td>\n",
       "    </tr>\n",
       "    <tr>\n",
       "      <th>99435</th>\n",
       "      <td>I141871</td>\n",
       "      <td>C298790</td>\n",
       "      <td>Female</td>\n",
       "      <td>62</td>\n",
       "      <td>Clothing</td>\n",
       "      <td>3</td>\n",
       "      <td>900</td>\n",
       "      <td>Cash</td>\n",
       "      <td>2022-02-02</td>\n",
       "      <td>Emaar Square Mall</td>\n",
       "      <td>2700</td>\n",
       "      <td>1</td>\n",
       "      <td>6.802395</td>\n",
       "      <td>4.127134</td>\n",
       "      <td>7</td>\n",
       "    </tr>\n",
       "    <tr>\n",
       "      <th>99436</th>\n",
       "      <td>I579905</td>\n",
       "      <td>C265057</td>\n",
       "      <td>Female</td>\n",
       "      <td>57</td>\n",
       "      <td>Clothing</td>\n",
       "      <td>5</td>\n",
       "      <td>1500</td>\n",
       "      <td>Cash</td>\n",
       "      <td>2022-03-27</td>\n",
       "      <td>Cevahir AVM</td>\n",
       "      <td>7502</td>\n",
       "      <td>1</td>\n",
       "      <td>7.313220</td>\n",
       "      <td>4.043051</td>\n",
       "      <td>8</td>\n",
       "    </tr>\n",
       "    <tr>\n",
       "      <th>99452</th>\n",
       "      <td>I219422</td>\n",
       "      <td>C441542</td>\n",
       "      <td>Female</td>\n",
       "      <td>45</td>\n",
       "      <td>Souvenir</td>\n",
       "      <td>5</td>\n",
       "      <td>58</td>\n",
       "      <td>Credit Card</td>\n",
       "      <td>2022-09-21</td>\n",
       "      <td>Kanyon</td>\n",
       "      <td>293</td>\n",
       "      <td>1</td>\n",
       "      <td>4.060443</td>\n",
       "      <td>3.806662</td>\n",
       "      <td>5</td>\n",
       "    </tr>\n",
       "    <tr>\n",
       "      <th>99456</th>\n",
       "      <td>I232867</td>\n",
       "      <td>C273973</td>\n",
       "      <td>Female</td>\n",
       "      <td>36</td>\n",
       "      <td>Souvenir</td>\n",
       "      <td>3</td>\n",
       "      <td>35</td>\n",
       "      <td>Credit Card</td>\n",
       "      <td>2022-10-15</td>\n",
       "      <td>Mall of Istanbul</td>\n",
       "      <td>105</td>\n",
       "      <td>1</td>\n",
       "      <td>3.555348</td>\n",
       "      <td>3.583519</td>\n",
       "      <td>4</td>\n",
       "    </tr>\n",
       "  </tbody>\n",
       "</table>\n",
       "<p>45551 rows × 15 columns</p>\n",
       "</div>"
      ],
      "text/plain": [
       "      invoice_no customer_id  gender  age         category  quantity  price  \\\n",
       "0        I138884     C241288  Female   28         Clothing         5   1500   \n",
       "5        I227836     C657758  Female   28         Clothing         5   1500   \n",
       "6        I121056     C151197  Female   49        Cosmetics         1     40   \n",
       "10       I306368     C240286  Female   36  Food & Beverage         2     10   \n",
       "11       I139207     C191708  Female   29            Books         1     15   \n",
       "...          ...         ...     ...  ...              ...       ...    ...   \n",
       "99434    I186560     C117024  Female   39            Shoes         1    600   \n",
       "99435    I141871     C298790  Female   62         Clothing         3    900   \n",
       "99436    I579905     C265057  Female   57         Clothing         5   1500   \n",
       "99452    I219422     C441542  Female   45         Souvenir         5     58   \n",
       "99456    I232867     C273973  Female   36         Souvenir         3     35   \n",
       "\n",
       "      payment_method invoice_date      shopping_mall  total_price  female  \\\n",
       "0        Credit Card   2022-08-05             Kanyon         7502       1   \n",
       "5        Credit Card   2022-05-24     Forum Istanbul         7502       1   \n",
       "6               Cash   2022-03-13       Istinye Park           40       1   \n",
       "10              Cash   2022-12-25          Metrocity           20       1   \n",
       "11       Credit Card   2022-10-28  Emaar Square Mall           15       1   \n",
       "...              ...          ...                ...          ...     ...   \n",
       "99434           Cash   2022-03-21             Kanyon          600       1   \n",
       "99435           Cash   2022-02-02  Emaar Square Mall         2700       1   \n",
       "99436           Cash   2022-03-27        Cevahir AVM         7502       1   \n",
       "99452    Credit Card   2022-09-21             Kanyon          293       1   \n",
       "99456    Credit Card   2022-10-15   Mall of Istanbul          105       1   \n",
       "\n",
       "        lnprice     lnage  lntotalprice  \n",
       "0      7.313220  3.332205             8  \n",
       "5      7.313220  3.332205             8  \n",
       "6      3.688879  3.891820             3  \n",
       "10     2.302585  3.583519             2  \n",
       "11     2.708050  3.367296             2  \n",
       "...         ...       ...           ...  \n",
       "99434  6.396930  3.663562             6  \n",
       "99435  6.802395  4.127134             7  \n",
       "99436  7.313220  4.043051             8  \n",
       "99452  4.060443  3.806662             5  \n",
       "99456  3.555348  3.583519             4  \n",
       "\n",
       "[45551 rows x 15 columns]"
      ]
     },
     "execution_count": 87,
     "metadata": {},
     "output_type": "execute_result"
    }
   ],
   "source": [
    "df"
   ]
  },
  {
   "cell_type": "code",
   "execution_count": 88,
   "id": "b1f68efb-c44a-480b-b196-0db7651fa9ee",
   "metadata": {},
   "outputs": [
    {
     "data": {
      "text/html": [
       "<div>\n",
       "<style scoped>\n",
       "    .dataframe tbody tr th:only-of-type {\n",
       "        vertical-align: middle;\n",
       "    }\n",
       "\n",
       "    .dataframe tbody tr th {\n",
       "        vertical-align: top;\n",
       "    }\n",
       "\n",
       "    .dataframe thead th {\n",
       "        text-align: right;\n",
       "    }\n",
       "</style>\n",
       "<table border=\"1\" class=\"dataframe\">\n",
       "  <thead>\n",
       "    <tr style=\"text-align: right;\">\n",
       "      <th></th>\n",
       "      <th>age</th>\n",
       "      <th>quantity</th>\n",
       "      <th>price</th>\n",
       "      <th>total_price</th>\n",
       "      <th>lntotalprice</th>\n",
       "      <th>female</th>\n",
       "    </tr>\n",
       "  </thead>\n",
       "  <tbody>\n",
       "    <tr>\n",
       "      <th>count</th>\n",
       "      <td>45551.000000</td>\n",
       "      <td>45551.000000</td>\n",
       "      <td>45551.000000</td>\n",
       "      <td>45551.000000</td>\n",
       "      <td>45551.000000</td>\n",
       "      <td>45551.000000</td>\n",
       "    </tr>\n",
       "    <tr>\n",
       "      <th>mean</th>\n",
       "      <td>43.400847</td>\n",
       "      <td>3.010845</td>\n",
       "      <td>688.338741</td>\n",
       "      <td>2533.809730</td>\n",
       "      <td>5.685978</td>\n",
       "      <td>0.596957</td>\n",
       "    </tr>\n",
       "    <tr>\n",
       "      <th>std</th>\n",
       "      <td>14.987844</td>\n",
       "      <td>1.413256</td>\n",
       "      <td>945.139943</td>\n",
       "      <td>4247.158044</td>\n",
       "      <td>2.108861</td>\n",
       "      <td>0.490515</td>\n",
       "    </tr>\n",
       "    <tr>\n",
       "      <th>min</th>\n",
       "      <td>18.000000</td>\n",
       "      <td>1.000000</td>\n",
       "      <td>5.000000</td>\n",
       "      <td>5.000000</td>\n",
       "      <td>1.000000</td>\n",
       "      <td>0.000000</td>\n",
       "    </tr>\n",
       "    <tr>\n",
       "      <th>25%</th>\n",
       "      <td>30.000000</td>\n",
       "      <td>2.000000</td>\n",
       "      <td>40.000000</td>\n",
       "      <td>130.000000</td>\n",
       "      <td>4.000000</td>\n",
       "      <td>0.000000</td>\n",
       "    </tr>\n",
       "    <tr>\n",
       "      <th>50%</th>\n",
       "      <td>43.000000</td>\n",
       "      <td>3.000000</td>\n",
       "      <td>203.000000</td>\n",
       "      <td>600.000000</td>\n",
       "      <td>6.000000</td>\n",
       "      <td>1.000000</td>\n",
       "    </tr>\n",
       "    <tr>\n",
       "      <th>75%</th>\n",
       "      <td>56.000000</td>\n",
       "      <td>4.000000</td>\n",
       "      <td>1200.000000</td>\n",
       "      <td>2700.000000</td>\n",
       "      <td>7.000000</td>\n",
       "      <td>1.000000</td>\n",
       "    </tr>\n",
       "    <tr>\n",
       "      <th>max</th>\n",
       "      <td>69.000000</td>\n",
       "      <td>5.000000</td>\n",
       "      <td>5250.000000</td>\n",
       "      <td>26250.000000</td>\n",
       "      <td>10.000000</td>\n",
       "      <td>1.000000</td>\n",
       "    </tr>\n",
       "  </tbody>\n",
       "</table>\n",
       "</div>"
      ],
      "text/plain": [
       "                age      quantity         price   total_price  lntotalprice  \\\n",
       "count  45551.000000  45551.000000  45551.000000  45551.000000  45551.000000   \n",
       "mean      43.400847      3.010845    688.338741   2533.809730      5.685978   \n",
       "std       14.987844      1.413256    945.139943   4247.158044      2.108861   \n",
       "min       18.000000      1.000000      5.000000      5.000000      1.000000   \n",
       "25%       30.000000      2.000000     40.000000    130.000000      4.000000   \n",
       "50%       43.000000      3.000000    203.000000    600.000000      6.000000   \n",
       "75%       56.000000      4.000000   1200.000000   2700.000000      7.000000   \n",
       "max       69.000000      5.000000   5250.000000  26250.000000     10.000000   \n",
       "\n",
       "             female  \n",
       "count  45551.000000  \n",
       "mean       0.596957  \n",
       "std        0.490515  \n",
       "min        0.000000  \n",
       "25%        0.000000  \n",
       "50%        1.000000  \n",
       "75%        1.000000  \n",
       "max        1.000000  "
      ]
     },
     "execution_count": 88,
     "metadata": {},
     "output_type": "execute_result"
    }
   ],
   "source": [
    "# creating Descriptive Statistics Table\n",
    "df.loc[:, [\"age\", \"quantity\", \"price\", \"total_price\", \"lntotalprice\", \"female\", ]].describe()"
   ]
  },
  {
   "cell_type": "markdown",
   "id": "c7c1f717-1949-4ef9-a29c-317295c1d402",
   "metadata": {},
   "source": [
    "* Average age = 43.4 (min:18 max:69)\n",
    "* Mean of total price = 2532\n",
    "* Min lntotalprice = 1, max lntotalprice = 10\n",
    "* %60 female"
   ]
  },
  {
   "cell_type": "code",
   "execution_count": 89,
   "id": "a026e89a-e17d-470c-b7ba-7306dcae3bd7",
   "metadata": {},
   "outputs": [],
   "source": [
    "# creating subgroups according to age : young, middle_age, old\n",
    "df[\"age_group\"] = \"young\"\n",
    "df.loc[df[\"age\"] > 35, \"age_group\"] = \"middle_age\"\n",
    "df.loc[df[\"age\"] > 60, \"age_group\"] = \"old\""
   ]
  },
  {
   "cell_type": "code",
   "execution_count": 90,
   "id": "a47530b1-6c08-4796-92d5-efd82edffc0f",
   "metadata": {},
   "outputs": [
    {
     "data": {
      "text/html": [
       "<div>\n",
       "<style scoped>\n",
       "    .dataframe tbody tr th:only-of-type {\n",
       "        vertical-align: middle;\n",
       "    }\n",
       "\n",
       "    .dataframe tbody tr th {\n",
       "        vertical-align: top;\n",
       "    }\n",
       "\n",
       "    .dataframe thead th {\n",
       "        text-align: right;\n",
       "    }\n",
       "</style>\n",
       "<table border=\"1\" class=\"dataframe\">\n",
       "  <thead>\n",
       "    <tr style=\"text-align: right;\">\n",
       "      <th></th>\n",
       "      <th>invoice_no</th>\n",
       "      <th>customer_id</th>\n",
       "      <th>gender</th>\n",
       "      <th>age</th>\n",
       "      <th>category</th>\n",
       "      <th>quantity</th>\n",
       "      <th>price</th>\n",
       "      <th>payment_method</th>\n",
       "      <th>invoice_date</th>\n",
       "      <th>shopping_mall</th>\n",
       "      <th>total_price</th>\n",
       "      <th>female</th>\n",
       "      <th>lnprice</th>\n",
       "      <th>lnage</th>\n",
       "      <th>lntotalprice</th>\n",
       "      <th>age_group</th>\n",
       "    </tr>\n",
       "  </thead>\n",
       "  <tbody>\n",
       "    <tr>\n",
       "      <th>0</th>\n",
       "      <td>I138884</td>\n",
       "      <td>C241288</td>\n",
       "      <td>Female</td>\n",
       "      <td>28</td>\n",
       "      <td>Clothing</td>\n",
       "      <td>5</td>\n",
       "      <td>1500</td>\n",
       "      <td>Credit Card</td>\n",
       "      <td>2022-08-05</td>\n",
       "      <td>Kanyon</td>\n",
       "      <td>7502</td>\n",
       "      <td>1</td>\n",
       "      <td>7.313220</td>\n",
       "      <td>3.332205</td>\n",
       "      <td>8</td>\n",
       "      <td>young</td>\n",
       "    </tr>\n",
       "    <tr>\n",
       "      <th>5</th>\n",
       "      <td>I227836</td>\n",
       "      <td>C657758</td>\n",
       "      <td>Female</td>\n",
       "      <td>28</td>\n",
       "      <td>Clothing</td>\n",
       "      <td>5</td>\n",
       "      <td>1500</td>\n",
       "      <td>Credit Card</td>\n",
       "      <td>2022-05-24</td>\n",
       "      <td>Forum Istanbul</td>\n",
       "      <td>7502</td>\n",
       "      <td>1</td>\n",
       "      <td>7.313220</td>\n",
       "      <td>3.332205</td>\n",
       "      <td>8</td>\n",
       "      <td>young</td>\n",
       "    </tr>\n",
       "    <tr>\n",
       "      <th>6</th>\n",
       "      <td>I121056</td>\n",
       "      <td>C151197</td>\n",
       "      <td>Female</td>\n",
       "      <td>49</td>\n",
       "      <td>Cosmetics</td>\n",
       "      <td>1</td>\n",
       "      <td>40</td>\n",
       "      <td>Cash</td>\n",
       "      <td>2022-03-13</td>\n",
       "      <td>Istinye Park</td>\n",
       "      <td>40</td>\n",
       "      <td>1</td>\n",
       "      <td>3.688879</td>\n",
       "      <td>3.891820</td>\n",
       "      <td>3</td>\n",
       "      <td>middle_age</td>\n",
       "    </tr>\n",
       "    <tr>\n",
       "      <th>10</th>\n",
       "      <td>I306368</td>\n",
       "      <td>C240286</td>\n",
       "      <td>Female</td>\n",
       "      <td>36</td>\n",
       "      <td>Food &amp; Beverage</td>\n",
       "      <td>2</td>\n",
       "      <td>10</td>\n",
       "      <td>Cash</td>\n",
       "      <td>2022-12-25</td>\n",
       "      <td>Metrocity</td>\n",
       "      <td>20</td>\n",
       "      <td>1</td>\n",
       "      <td>2.302585</td>\n",
       "      <td>3.583519</td>\n",
       "      <td>2</td>\n",
       "      <td>middle_age</td>\n",
       "    </tr>\n",
       "    <tr>\n",
       "      <th>11</th>\n",
       "      <td>I139207</td>\n",
       "      <td>C191708</td>\n",
       "      <td>Female</td>\n",
       "      <td>29</td>\n",
       "      <td>Books</td>\n",
       "      <td>1</td>\n",
       "      <td>15</td>\n",
       "      <td>Credit Card</td>\n",
       "      <td>2022-10-28</td>\n",
       "      <td>Emaar Square Mall</td>\n",
       "      <td>15</td>\n",
       "      <td>1</td>\n",
       "      <td>2.708050</td>\n",
       "      <td>3.367296</td>\n",
       "      <td>2</td>\n",
       "      <td>young</td>\n",
       "    </tr>\n",
       "    <tr>\n",
       "      <th>...</th>\n",
       "      <td>...</td>\n",
       "      <td>...</td>\n",
       "      <td>...</td>\n",
       "      <td>...</td>\n",
       "      <td>...</td>\n",
       "      <td>...</td>\n",
       "      <td>...</td>\n",
       "      <td>...</td>\n",
       "      <td>...</td>\n",
       "      <td>...</td>\n",
       "      <td>...</td>\n",
       "      <td>...</td>\n",
       "      <td>...</td>\n",
       "      <td>...</td>\n",
       "      <td>...</td>\n",
       "      <td>...</td>\n",
       "    </tr>\n",
       "    <tr>\n",
       "      <th>99434</th>\n",
       "      <td>I186560</td>\n",
       "      <td>C117024</td>\n",
       "      <td>Female</td>\n",
       "      <td>39</td>\n",
       "      <td>Shoes</td>\n",
       "      <td>1</td>\n",
       "      <td>600</td>\n",
       "      <td>Cash</td>\n",
       "      <td>2022-03-21</td>\n",
       "      <td>Kanyon</td>\n",
       "      <td>600</td>\n",
       "      <td>1</td>\n",
       "      <td>6.396930</td>\n",
       "      <td>3.663562</td>\n",
       "      <td>6</td>\n",
       "      <td>middle_age</td>\n",
       "    </tr>\n",
       "    <tr>\n",
       "      <th>99435</th>\n",
       "      <td>I141871</td>\n",
       "      <td>C298790</td>\n",
       "      <td>Female</td>\n",
       "      <td>62</td>\n",
       "      <td>Clothing</td>\n",
       "      <td>3</td>\n",
       "      <td>900</td>\n",
       "      <td>Cash</td>\n",
       "      <td>2022-02-02</td>\n",
       "      <td>Emaar Square Mall</td>\n",
       "      <td>2700</td>\n",
       "      <td>1</td>\n",
       "      <td>6.802395</td>\n",
       "      <td>4.127134</td>\n",
       "      <td>7</td>\n",
       "      <td>old</td>\n",
       "    </tr>\n",
       "    <tr>\n",
       "      <th>99436</th>\n",
       "      <td>I579905</td>\n",
       "      <td>C265057</td>\n",
       "      <td>Female</td>\n",
       "      <td>57</td>\n",
       "      <td>Clothing</td>\n",
       "      <td>5</td>\n",
       "      <td>1500</td>\n",
       "      <td>Cash</td>\n",
       "      <td>2022-03-27</td>\n",
       "      <td>Cevahir AVM</td>\n",
       "      <td>7502</td>\n",
       "      <td>1</td>\n",
       "      <td>7.313220</td>\n",
       "      <td>4.043051</td>\n",
       "      <td>8</td>\n",
       "      <td>middle_age</td>\n",
       "    </tr>\n",
       "    <tr>\n",
       "      <th>99452</th>\n",
       "      <td>I219422</td>\n",
       "      <td>C441542</td>\n",
       "      <td>Female</td>\n",
       "      <td>45</td>\n",
       "      <td>Souvenir</td>\n",
       "      <td>5</td>\n",
       "      <td>58</td>\n",
       "      <td>Credit Card</td>\n",
       "      <td>2022-09-21</td>\n",
       "      <td>Kanyon</td>\n",
       "      <td>293</td>\n",
       "      <td>1</td>\n",
       "      <td>4.060443</td>\n",
       "      <td>3.806662</td>\n",
       "      <td>5</td>\n",
       "      <td>middle_age</td>\n",
       "    </tr>\n",
       "    <tr>\n",
       "      <th>99456</th>\n",
       "      <td>I232867</td>\n",
       "      <td>C273973</td>\n",
       "      <td>Female</td>\n",
       "      <td>36</td>\n",
       "      <td>Souvenir</td>\n",
       "      <td>3</td>\n",
       "      <td>35</td>\n",
       "      <td>Credit Card</td>\n",
       "      <td>2022-10-15</td>\n",
       "      <td>Mall of Istanbul</td>\n",
       "      <td>105</td>\n",
       "      <td>1</td>\n",
       "      <td>3.555348</td>\n",
       "      <td>3.583519</td>\n",
       "      <td>4</td>\n",
       "      <td>middle_age</td>\n",
       "    </tr>\n",
       "  </tbody>\n",
       "</table>\n",
       "<p>45551 rows × 16 columns</p>\n",
       "</div>"
      ],
      "text/plain": [
       "      invoice_no customer_id  gender  age         category  quantity  price  \\\n",
       "0        I138884     C241288  Female   28         Clothing         5   1500   \n",
       "5        I227836     C657758  Female   28         Clothing         5   1500   \n",
       "6        I121056     C151197  Female   49        Cosmetics         1     40   \n",
       "10       I306368     C240286  Female   36  Food & Beverage         2     10   \n",
       "11       I139207     C191708  Female   29            Books         1     15   \n",
       "...          ...         ...     ...  ...              ...       ...    ...   \n",
       "99434    I186560     C117024  Female   39            Shoes         1    600   \n",
       "99435    I141871     C298790  Female   62         Clothing         3    900   \n",
       "99436    I579905     C265057  Female   57         Clothing         5   1500   \n",
       "99452    I219422     C441542  Female   45         Souvenir         5     58   \n",
       "99456    I232867     C273973  Female   36         Souvenir         3     35   \n",
       "\n",
       "      payment_method invoice_date      shopping_mall  total_price  female  \\\n",
       "0        Credit Card   2022-08-05             Kanyon         7502       1   \n",
       "5        Credit Card   2022-05-24     Forum Istanbul         7502       1   \n",
       "6               Cash   2022-03-13       Istinye Park           40       1   \n",
       "10              Cash   2022-12-25          Metrocity           20       1   \n",
       "11       Credit Card   2022-10-28  Emaar Square Mall           15       1   \n",
       "...              ...          ...                ...          ...     ...   \n",
       "99434           Cash   2022-03-21             Kanyon          600       1   \n",
       "99435           Cash   2022-02-02  Emaar Square Mall         2700       1   \n",
       "99436           Cash   2022-03-27        Cevahir AVM         7502       1   \n",
       "99452    Credit Card   2022-09-21             Kanyon          293       1   \n",
       "99456    Credit Card   2022-10-15   Mall of Istanbul          105       1   \n",
       "\n",
       "        lnprice     lnage  lntotalprice   age_group  \n",
       "0      7.313220  3.332205             8       young  \n",
       "5      7.313220  3.332205             8       young  \n",
       "6      3.688879  3.891820             3  middle_age  \n",
       "10     2.302585  3.583519             2  middle_age  \n",
       "11     2.708050  3.367296             2       young  \n",
       "...         ...       ...           ...         ...  \n",
       "99434  6.396930  3.663562             6  middle_age  \n",
       "99435  6.802395  4.127134             7         old  \n",
       "99436  7.313220  4.043051             8  middle_age  \n",
       "99452  4.060443  3.806662             5  middle_age  \n",
       "99456  3.555348  3.583519             4  middle_age  \n",
       "\n",
       "[45551 rows x 16 columns]"
      ]
     },
     "execution_count": 90,
     "metadata": {},
     "output_type": "execute_result"
    }
   ],
   "source": [
    "df"
   ]
  },
  {
   "cell_type": "markdown",
   "id": "0b8977c2-aed0-4d3c-81f5-eee696775669",
   "metadata": {},
   "source": [
    "## Horizontal Bar Chart for Average Total Price by Age Group"
   ]
  },
  {
   "cell_type": "code",
   "execution_count": 91,
   "id": "e02a5640-d80f-44d4-8e4f-858458df1295",
   "metadata": {},
   "outputs": [
    {
     "data": {
      "application/vnd.plotly.v1+json": {
       "config": {
        "plotlyServerURL": "https://plot.ly"
       },
       "data": [
        {
         "alignmentgroup": "True",
         "hovertemplate": "gender=Female<br>Average Total Price=%{text}<br>age_group=%{y}<extra></extra>",
         "legendgroup": "Female",
         "marker": {
          "color": "#636efa",
          "pattern": {
           "shape": ""
          }
         },
         "name": "Female",
         "offsetgroup": "Female",
         "orientation": "h",
         "showlegend": true,
         "text": [
          2557,
          2501,
          2534
         ],
         "textposition": "auto",
         "type": "bar",
         "x": [
          2557,
          2501,
          2534
         ],
         "xaxis": "x",
         "y": [
          "middle_age",
          "old",
          "young"
         ],
         "yaxis": "y"
        },
        {
         "alignmentgroup": "True",
         "hovertemplate": "gender=Male<br>Average Total Price=%{text}<br>age_group=%{y}<extra></extra>",
         "legendgroup": "Male",
         "marker": {
          "color": "#EF553B",
          "pattern": {
           "shape": ""
          }
         },
         "name": "Male",
         "offsetgroup": "Male",
         "orientation": "h",
         "showlegend": true,
         "text": [
          2580,
          2557,
          2436
         ],
         "textposition": "auto",
         "type": "bar",
         "x": [
          2580,
          2557,
          2436
         ],
         "xaxis": "x",
         "y": [
          "middle_age",
          "old",
          "young"
         ],
         "yaxis": "y"
        }
       ],
       "layout": {
        "autosize": true,
        "barmode": "group",
        "legend": {
         "title": {
          "text": "gender"
         },
         "tracegroupgap": 0
        },
        "margin": {
         "t": 60
        },
        "paper_bgcolor": "white",
        "plot_bgcolor": "white",
        "template": {
         "data": {
          "bar": [
           {
            "error_x": {
             "color": "#2a3f5f"
            },
            "error_y": {
             "color": "#2a3f5f"
            },
            "marker": {
             "line": {
              "color": "#E5ECF6",
              "width": 0.5
             },
             "pattern": {
              "fillmode": "overlay",
              "size": 10,
              "solidity": 0.2
             }
            },
            "type": "bar"
           }
          ],
          "barpolar": [
           {
            "marker": {
             "line": {
              "color": "#E5ECF6",
              "width": 0.5
             },
             "pattern": {
              "fillmode": "overlay",
              "size": 10,
              "solidity": 0.2
             }
            },
            "type": "barpolar"
           }
          ],
          "carpet": [
           {
            "aaxis": {
             "endlinecolor": "#2a3f5f",
             "gridcolor": "white",
             "linecolor": "white",
             "minorgridcolor": "white",
             "startlinecolor": "#2a3f5f"
            },
            "baxis": {
             "endlinecolor": "#2a3f5f",
             "gridcolor": "white",
             "linecolor": "white",
             "minorgridcolor": "white",
             "startlinecolor": "#2a3f5f"
            },
            "type": "carpet"
           }
          ],
          "choropleth": [
           {
            "colorbar": {
             "outlinewidth": 0,
             "ticks": ""
            },
            "type": "choropleth"
           }
          ],
          "contour": [
           {
            "colorbar": {
             "outlinewidth": 0,
             "ticks": ""
            },
            "colorscale": [
             [
              0,
              "#0d0887"
             ],
             [
              0.1111111111111111,
              "#46039f"
             ],
             [
              0.2222222222222222,
              "#7201a8"
             ],
             [
              0.3333333333333333,
              "#9c179e"
             ],
             [
              0.4444444444444444,
              "#bd3786"
             ],
             [
              0.5555555555555556,
              "#d8576b"
             ],
             [
              0.6666666666666666,
              "#ed7953"
             ],
             [
              0.7777777777777778,
              "#fb9f3a"
             ],
             [
              0.8888888888888888,
              "#fdca26"
             ],
             [
              1,
              "#f0f921"
             ]
            ],
            "type": "contour"
           }
          ],
          "contourcarpet": [
           {
            "colorbar": {
             "outlinewidth": 0,
             "ticks": ""
            },
            "type": "contourcarpet"
           }
          ],
          "heatmap": [
           {
            "colorbar": {
             "outlinewidth": 0,
             "ticks": ""
            },
            "colorscale": [
             [
              0,
              "#0d0887"
             ],
             [
              0.1111111111111111,
              "#46039f"
             ],
             [
              0.2222222222222222,
              "#7201a8"
             ],
             [
              0.3333333333333333,
              "#9c179e"
             ],
             [
              0.4444444444444444,
              "#bd3786"
             ],
             [
              0.5555555555555556,
              "#d8576b"
             ],
             [
              0.6666666666666666,
              "#ed7953"
             ],
             [
              0.7777777777777778,
              "#fb9f3a"
             ],
             [
              0.8888888888888888,
              "#fdca26"
             ],
             [
              1,
              "#f0f921"
             ]
            ],
            "type": "heatmap"
           }
          ],
          "heatmapgl": [
           {
            "colorbar": {
             "outlinewidth": 0,
             "ticks": ""
            },
            "colorscale": [
             [
              0,
              "#0d0887"
             ],
             [
              0.1111111111111111,
              "#46039f"
             ],
             [
              0.2222222222222222,
              "#7201a8"
             ],
             [
              0.3333333333333333,
              "#9c179e"
             ],
             [
              0.4444444444444444,
              "#bd3786"
             ],
             [
              0.5555555555555556,
              "#d8576b"
             ],
             [
              0.6666666666666666,
              "#ed7953"
             ],
             [
              0.7777777777777778,
              "#fb9f3a"
             ],
             [
              0.8888888888888888,
              "#fdca26"
             ],
             [
              1,
              "#f0f921"
             ]
            ],
            "type": "heatmapgl"
           }
          ],
          "histogram": [
           {
            "marker": {
             "pattern": {
              "fillmode": "overlay",
              "size": 10,
              "solidity": 0.2
             }
            },
            "type": "histogram"
           }
          ],
          "histogram2d": [
           {
            "colorbar": {
             "outlinewidth": 0,
             "ticks": ""
            },
            "colorscale": [
             [
              0,
              "#0d0887"
             ],
             [
              0.1111111111111111,
              "#46039f"
             ],
             [
              0.2222222222222222,
              "#7201a8"
             ],
             [
              0.3333333333333333,
              "#9c179e"
             ],
             [
              0.4444444444444444,
              "#bd3786"
             ],
             [
              0.5555555555555556,
              "#d8576b"
             ],
             [
              0.6666666666666666,
              "#ed7953"
             ],
             [
              0.7777777777777778,
              "#fb9f3a"
             ],
             [
              0.8888888888888888,
              "#fdca26"
             ],
             [
              1,
              "#f0f921"
             ]
            ],
            "type": "histogram2d"
           }
          ],
          "histogram2dcontour": [
           {
            "colorbar": {
             "outlinewidth": 0,
             "ticks": ""
            },
            "colorscale": [
             [
              0,
              "#0d0887"
             ],
             [
              0.1111111111111111,
              "#46039f"
             ],
             [
              0.2222222222222222,
              "#7201a8"
             ],
             [
              0.3333333333333333,
              "#9c179e"
             ],
             [
              0.4444444444444444,
              "#bd3786"
             ],
             [
              0.5555555555555556,
              "#d8576b"
             ],
             [
              0.6666666666666666,
              "#ed7953"
             ],
             [
              0.7777777777777778,
              "#fb9f3a"
             ],
             [
              0.8888888888888888,
              "#fdca26"
             ],
             [
              1,
              "#f0f921"
             ]
            ],
            "type": "histogram2dcontour"
           }
          ],
          "mesh3d": [
           {
            "colorbar": {
             "outlinewidth": 0,
             "ticks": ""
            },
            "type": "mesh3d"
           }
          ],
          "parcoords": [
           {
            "line": {
             "colorbar": {
              "outlinewidth": 0,
              "ticks": ""
             }
            },
            "type": "parcoords"
           }
          ],
          "pie": [
           {
            "automargin": true,
            "type": "pie"
           }
          ],
          "scatter": [
           {
            "fillpattern": {
             "fillmode": "overlay",
             "size": 10,
             "solidity": 0.2
            },
            "type": "scatter"
           }
          ],
          "scatter3d": [
           {
            "line": {
             "colorbar": {
              "outlinewidth": 0,
              "ticks": ""
             }
            },
            "marker": {
             "colorbar": {
              "outlinewidth": 0,
              "ticks": ""
             }
            },
            "type": "scatter3d"
           }
          ],
          "scattercarpet": [
           {
            "marker": {
             "colorbar": {
              "outlinewidth": 0,
              "ticks": ""
             }
            },
            "type": "scattercarpet"
           }
          ],
          "scattergeo": [
           {
            "marker": {
             "colorbar": {
              "outlinewidth": 0,
              "ticks": ""
             }
            },
            "type": "scattergeo"
           }
          ],
          "scattergl": [
           {
            "marker": {
             "colorbar": {
              "outlinewidth": 0,
              "ticks": ""
             }
            },
            "type": "scattergl"
           }
          ],
          "scattermapbox": [
           {
            "marker": {
             "colorbar": {
              "outlinewidth": 0,
              "ticks": ""
             }
            },
            "type": "scattermapbox"
           }
          ],
          "scatterpolar": [
           {
            "marker": {
             "colorbar": {
              "outlinewidth": 0,
              "ticks": ""
             }
            },
            "type": "scatterpolar"
           }
          ],
          "scatterpolargl": [
           {
            "marker": {
             "colorbar": {
              "outlinewidth": 0,
              "ticks": ""
             }
            },
            "type": "scatterpolargl"
           }
          ],
          "scatterternary": [
           {
            "marker": {
             "colorbar": {
              "outlinewidth": 0,
              "ticks": ""
             }
            },
            "type": "scatterternary"
           }
          ],
          "surface": [
           {
            "colorbar": {
             "outlinewidth": 0,
             "ticks": ""
            },
            "colorscale": [
             [
              0,
              "#0d0887"
             ],
             [
              0.1111111111111111,
              "#46039f"
             ],
             [
              0.2222222222222222,
              "#7201a8"
             ],
             [
              0.3333333333333333,
              "#9c179e"
             ],
             [
              0.4444444444444444,
              "#bd3786"
             ],
             [
              0.5555555555555556,
              "#d8576b"
             ],
             [
              0.6666666666666666,
              "#ed7953"
             ],
             [
              0.7777777777777778,
              "#fb9f3a"
             ],
             [
              0.8888888888888888,
              "#fdca26"
             ],
             [
              1,
              "#f0f921"
             ]
            ],
            "type": "surface"
           }
          ],
          "table": [
           {
            "cells": {
             "fill": {
              "color": "#EBF0F8"
             },
             "line": {
              "color": "white"
             }
            },
            "header": {
             "fill": {
              "color": "#C8D4E3"
             },
             "line": {
              "color": "white"
             }
            },
            "type": "table"
           }
          ]
         },
         "layout": {
          "annotationdefaults": {
           "arrowcolor": "#2a3f5f",
           "arrowhead": 0,
           "arrowwidth": 1
          },
          "autotypenumbers": "strict",
          "coloraxis": {
           "colorbar": {
            "outlinewidth": 0,
            "ticks": ""
           }
          },
          "colorscale": {
           "diverging": [
            [
             0,
             "#8e0152"
            ],
            [
             0.1,
             "#c51b7d"
            ],
            [
             0.2,
             "#de77ae"
            ],
            [
             0.3,
             "#f1b6da"
            ],
            [
             0.4,
             "#fde0ef"
            ],
            [
             0.5,
             "#f7f7f7"
            ],
            [
             0.6,
             "#e6f5d0"
            ],
            [
             0.7,
             "#b8e186"
            ],
            [
             0.8,
             "#7fbc41"
            ],
            [
             0.9,
             "#4d9221"
            ],
            [
             1,
             "#276419"
            ]
           ],
           "sequential": [
            [
             0,
             "#0d0887"
            ],
            [
             0.1111111111111111,
             "#46039f"
            ],
            [
             0.2222222222222222,
             "#7201a8"
            ],
            [
             0.3333333333333333,
             "#9c179e"
            ],
            [
             0.4444444444444444,
             "#bd3786"
            ],
            [
             0.5555555555555556,
             "#d8576b"
            ],
            [
             0.6666666666666666,
             "#ed7953"
            ],
            [
             0.7777777777777778,
             "#fb9f3a"
            ],
            [
             0.8888888888888888,
             "#fdca26"
            ],
            [
             1,
             "#f0f921"
            ]
           ],
           "sequentialminus": [
            [
             0,
             "#0d0887"
            ],
            [
             0.1111111111111111,
             "#46039f"
            ],
            [
             0.2222222222222222,
             "#7201a8"
            ],
            [
             0.3333333333333333,
             "#9c179e"
            ],
            [
             0.4444444444444444,
             "#bd3786"
            ],
            [
             0.5555555555555556,
             "#d8576b"
            ],
            [
             0.6666666666666666,
             "#ed7953"
            ],
            [
             0.7777777777777778,
             "#fb9f3a"
            ],
            [
             0.8888888888888888,
             "#fdca26"
            ],
            [
             1,
             "#f0f921"
            ]
           ]
          },
          "colorway": [
           "#636efa",
           "#EF553B",
           "#00cc96",
           "#ab63fa",
           "#FFA15A",
           "#19d3f3",
           "#FF6692",
           "#B6E880",
           "#FF97FF",
           "#FECB52"
          ],
          "font": {
           "color": "#2a3f5f"
          },
          "geo": {
           "bgcolor": "white",
           "lakecolor": "white",
           "landcolor": "#E5ECF6",
           "showlakes": true,
           "showland": true,
           "subunitcolor": "white"
          },
          "hoverlabel": {
           "align": "left"
          },
          "hovermode": "closest",
          "mapbox": {
           "style": "light"
          },
          "paper_bgcolor": "white",
          "plot_bgcolor": "#E5ECF6",
          "polar": {
           "angularaxis": {
            "gridcolor": "white",
            "linecolor": "white",
            "ticks": ""
           },
           "bgcolor": "#E5ECF6",
           "radialaxis": {
            "gridcolor": "white",
            "linecolor": "white",
            "ticks": ""
           }
          },
          "scene": {
           "xaxis": {
            "backgroundcolor": "#E5ECF6",
            "gridcolor": "white",
            "gridwidth": 2,
            "linecolor": "white",
            "showbackground": true,
            "ticks": "",
            "zerolinecolor": "white"
           },
           "yaxis": {
            "backgroundcolor": "#E5ECF6",
            "gridcolor": "white",
            "gridwidth": 2,
            "linecolor": "white",
            "showbackground": true,
            "ticks": "",
            "zerolinecolor": "white"
           },
           "zaxis": {
            "backgroundcolor": "#E5ECF6",
            "gridcolor": "white",
            "gridwidth": 2,
            "linecolor": "white",
            "showbackground": true,
            "ticks": "",
            "zerolinecolor": "white"
           }
          },
          "shapedefaults": {
           "line": {
            "color": "#2a3f5f"
           }
          },
          "ternary": {
           "aaxis": {
            "gridcolor": "white",
            "linecolor": "white",
            "ticks": ""
           },
           "baxis": {
            "gridcolor": "white",
            "linecolor": "white",
            "ticks": ""
           },
           "bgcolor": "#E5ECF6",
           "caxis": {
            "gridcolor": "white",
            "linecolor": "white",
            "ticks": ""
           }
          },
          "title": {
           "x": 0.05
          },
          "xaxis": {
           "automargin": true,
           "gridcolor": "white",
           "linecolor": "white",
           "ticks": "",
           "title": {
            "standoff": 15
           },
           "zerolinecolor": "white",
           "zerolinewidth": 2
          },
          "yaxis": {
           "automargin": true,
           "gridcolor": "white",
           "linecolor": "white",
           "ticks": "",
           "title": {
            "standoff": 15
           },
           "zerolinecolor": "white",
           "zerolinewidth": 2
          }
         }
        },
        "xaxis": {
         "anchor": "y",
         "autorange": true,
         "domain": [
          0,
          1
         ],
         "range": [
          0,
          2715.7894736842104
         ],
         "tickvals": [],
         "title": {
          "text": "Average Total Price"
         },
         "type": "linear"
        },
        "yaxis": {
         "anchor": "x",
         "autorange": true,
         "domain": [
          0,
          1
         ],
         "range": [
          -0.5,
          2.5
         ],
         "title": {
          "text": ""
         },
         "type": "category"
        }
       }
      },
      "image/png": "[encoded data removed]",
      "text/html": [
       "<div>                            <div id=\"af9b0c83-1e06-45fc-ac13-b7b66458e0aa\" class=\"plotly-graph-div\" style=\"height:400px; width:100%;\"></div>            <script type=\"text/javascript\">                require([\"plotly\"], function(Plotly) {                    window.PLOTLYENV=window.PLOTLYENV || {};                                    if (document.getElementById(\"af9b0c83-1e06-45fc-ac13-b7b66458e0aa\")) {                    Plotly.newPlot(                        \"af9b0c83-1e06-45fc-ac13-b7b66458e0aa\",                        [{\"alignmentgroup\":\"True\",\"hovertemplate\":\"gender=Female\\u003cbr\\u003eAverage Total Price=%{text}\\u003cbr\\u003eage_group=%{y}\\u003cextra\\u003e\\u003c\\u002fextra\\u003e\",\"legendgroup\":\"Female\",\"marker\":{\"color\":\"#636efa\",\"pattern\":{\"shape\":\"\"}},\"name\":\"Female\",\"offsetgroup\":\"Female\",\"orientation\":\"h\",\"showlegend\":true,\"text\":[2557.0,2501.0,2534.0],\"textposition\":\"auto\",\"x\":[2557.0,2501.0,2534.0],\"xaxis\":\"x\",\"y\":[\"middle_age\",\"old\",\"young\"],\"yaxis\":\"y\",\"type\":\"bar\"},{\"alignmentgroup\":\"True\",\"hovertemplate\":\"gender=Male\\u003cbr\\u003eAverage Total Price=%{text}\\u003cbr\\u003eage_group=%{y}\\u003cextra\\u003e\\u003c\\u002fextra\\u003e\",\"legendgroup\":\"Male\",\"marker\":{\"color\":\"#EF553B\",\"pattern\":{\"shape\":\"\"}},\"name\":\"Male\",\"offsetgroup\":\"Male\",\"orientation\":\"h\",\"showlegend\":true,\"text\":[2580.0,2557.0,2436.0],\"textposition\":\"auto\",\"x\":[2580.0,2557.0,2436.0],\"xaxis\":\"x\",\"y\":[\"middle_age\",\"old\",\"young\"],\"yaxis\":\"y\",\"type\":\"bar\"}],                        {\"template\":{\"data\":{\"histogram2dcontour\":[{\"type\":\"histogram2dcontour\",\"colorbar\":{\"outlinewidth\":0,\"ticks\":\"\"},\"colorscale\":[[0.0,\"#0d0887\"],[0.1111111111111111,\"#46039f\"],[0.2222222222222222,\"#7201a8\"],[0.3333333333333333,\"#9c179e\"],[0.4444444444444444,\"#bd3786\"],[0.5555555555555556,\"#d8576b\"],[0.6666666666666666,\"#ed7953\"],[0.7777777777777778,\"#fb9f3a\"],[0.8888888888888888,\"#fdca26\"],[1.0,\"#f0f921\"]]}],\"choropleth\":[{\"type\":\"choropleth\",\"colorbar\":{\"outlinewidth\":0,\"ticks\":\"\"}}],\"histogram2d\":[{\"type\":\"histogram2d\",\"colorbar\":{\"outlinewidth\":0,\"ticks\":\"\"},\"colorscale\":[[0.0,\"#0d0887\"],[0.1111111111111111,\"#46039f\"],[0.2222222222222222,\"#7201a8\"],[0.3333333333333333,\"#9c179e\"],[0.4444444444444444,\"#bd3786\"],[0.5555555555555556,\"#d8576b\"],[0.6666666666666666,\"#ed7953\"],[0.7777777777777778,\"#fb9f3a\"],[0.8888888888888888,\"#fdca26\"],[1.0,\"#f0f921\"]]}],\"heatmap\":[{\"type\":\"heatmap\",\"colorbar\":{\"outlinewidth\":0,\"ticks\":\"\"},\"colorscale\":[[0.0,\"#0d0887\"],[0.1111111111111111,\"#46039f\"],[0.2222222222222222,\"#7201a8\"],[0.3333333333333333,\"#9c179e\"],[0.4444444444444444,\"#bd3786\"],[0.5555555555555556,\"#d8576b\"],[0.6666666666666666,\"#ed7953\"],[0.7777777777777778,\"#fb9f3a\"],[0.8888888888888888,\"#fdca26\"],[1.0,\"#f0f921\"]]}],\"heatmapgl\":[{\"type\":\"heatmapgl\",\"colorbar\":{\"outlinewidth\":0,\"ticks\":\"\"},\"colorscale\":[[0.0,\"#0d0887\"],[0.1111111111111111,\"#46039f\"],[0.2222222222222222,\"#7201a8\"],[0.3333333333333333,\"#9c179e\"],[0.4444444444444444,\"#bd3786\"],[0.5555555555555556,\"#d8576b\"],[0.6666666666666666,\"#ed7953\"],[0.7777777777777778,\"#fb9f3a\"],[0.8888888888888888,\"#fdca26\"],[1.0,\"#f0f921\"]]}],\"contourcarpet\":[{\"type\":\"contourcarpet\",\"colorbar\":{\"outlinewidth\":0,\"ticks\":\"\"}}],\"contour\":[{\"type\":\"contour\",\"colorbar\":{\"outlinewidth\":0,\"ticks\":\"\"},\"colorscale\":[[0.0,\"#0d0887\"],[0.1111111111111111,\"#46039f\"],[0.2222222222222222,\"#7201a8\"],[0.3333333333333333,\"#9c179e\"],[0.4444444444444444,\"#bd3786\"],[0.5555555555555556,\"#d8576b\"],[0.6666666666666666,\"#ed7953\"],[0.7777777777777778,\"#fb9f3a\"],[0.8888888888888888,\"#fdca26\"],[1.0,\"#f0f921\"]]}],\"surface\":[{\"type\":\"surface\",\"colorbar\":{\"outlinewidth\":0,\"ticks\":\"\"},\"colorscale\":[[0.0,\"#0d0887\"],[0.1111111111111111,\"#46039f\"],[0.2222222222222222,\"#7201a8\"],[0.3333333333333333,\"#9c179e\"],[0.4444444444444444,\"#bd3786\"],[0.5555555555555556,\"#d8576b\"],[0.6666666666666666,\"#ed7953\"],[0.7777777777777778,\"#fb9f3a\"],[0.8888888888888888,\"#fdca26\"],[1.0,\"#f0f921\"]]}],\"mesh3d\":[{\"type\":\"mesh3d\",\"colorbar\":{\"outlinewidth\":0,\"ticks\":\"\"}}],\"scatter\":[{\"fillpattern\":{\"fillmode\":\"overlay\",\"size\":10,\"solidity\":0.2},\"type\":\"scatter\"}],\"parcoords\":[{\"type\":\"parcoords\",\"line\":{\"colorbar\":{\"outlinewidth\":0,\"ticks\":\"\"}}}],\"scatterpolargl\":[{\"type\":\"scatterpolargl\",\"marker\":{\"colorbar\":{\"outlinewidth\":0,\"ticks\":\"\"}}}],\"bar\":[{\"error_x\":{\"color\":\"#2a3f5f\"},\"error_y\":{\"color\":\"#2a3f5f\"},\"marker\":{\"line\":{\"color\":\"#E5ECF6\",\"width\":0.5},\"pattern\":{\"fillmode\":\"overlay\",\"size\":10,\"solidity\":0.2}},\"type\":\"bar\"}],\"scattergeo\":[{\"type\":\"scattergeo\",\"marker\":{\"colorbar\":{\"outlinewidth\":0,\"ticks\":\"\"}}}],\"scatterpolar\":[{\"type\":\"scatterpolar\",\"marker\":{\"colorbar\":{\"outlinewidth\":0,\"ticks\":\"\"}}}],\"histogram\":[{\"marker\":{\"pattern\":{\"fillmode\":\"overlay\",\"size\":10,\"solidity\":0.2}},\"type\":\"histogram\"}],\"scattergl\":[{\"type\":\"scattergl\",\"marker\":{\"colorbar\":{\"outlinewidth\":0,\"ticks\":\"\"}}}],\"scatter3d\":[{\"type\":\"scatter3d\",\"line\":{\"colorbar\":{\"outlinewidth\":0,\"ticks\":\"\"}},\"marker\":{\"colorbar\":{\"outlinewidth\":0,\"ticks\":\"\"}}}],\"scattermapbox\":[{\"type\":\"scattermapbox\",\"marker\":{\"colorbar\":{\"outlinewidth\":0,\"ticks\":\"\"}}}],\"scatterternary\":[{\"type\":\"scatterternary\",\"marker\":{\"colorbar\":{\"outlinewidth\":0,\"ticks\":\"\"}}}],\"scattercarpet\":[{\"type\":\"scattercarpet\",\"marker\":{\"colorbar\":{\"outlinewidth\":0,\"ticks\":\"\"}}}],\"carpet\":[{\"aaxis\":{\"endlinecolor\":\"#2a3f5f\",\"gridcolor\":\"white\",\"linecolor\":\"white\",\"minorgridcolor\":\"white\",\"startlinecolor\":\"#2a3f5f\"},\"baxis\":{\"endlinecolor\":\"#2a3f5f\",\"gridcolor\":\"white\",\"linecolor\":\"white\",\"minorgridcolor\":\"white\",\"startlinecolor\":\"#2a3f5f\"},\"type\":\"carpet\"}],\"table\":[{\"cells\":{\"fill\":{\"color\":\"#EBF0F8\"},\"line\":{\"color\":\"white\"}},\"header\":{\"fill\":{\"color\":\"#C8D4E3\"},\"line\":{\"color\":\"white\"}},\"type\":\"table\"}],\"barpolar\":[{\"marker\":{\"line\":{\"color\":\"#E5ECF6\",\"width\":0.5},\"pattern\":{\"fillmode\":\"overlay\",\"size\":10,\"solidity\":0.2}},\"type\":\"barpolar\"}],\"pie\":[{\"automargin\":true,\"type\":\"pie\"}]},\"layout\":{\"autotypenumbers\":\"strict\",\"colorway\":[\"#636efa\",\"#EF553B\",\"#00cc96\",\"#ab63fa\",\"#FFA15A\",\"#19d3f3\",\"#FF6692\",\"#B6E880\",\"#FF97FF\",\"#FECB52\"],\"font\":{\"color\":\"#2a3f5f\"},\"hovermode\":\"closest\",\"hoverlabel\":{\"align\":\"left\"},\"paper_bgcolor\":\"white\",\"plot_bgcolor\":\"#E5ECF6\",\"polar\":{\"bgcolor\":\"#E5ECF6\",\"angularaxis\":{\"gridcolor\":\"white\",\"linecolor\":\"white\",\"ticks\":\"\"},\"radialaxis\":{\"gridcolor\":\"white\",\"linecolor\":\"white\",\"ticks\":\"\"}},\"ternary\":{\"bgcolor\":\"#E5ECF6\",\"aaxis\":{\"gridcolor\":\"white\",\"linecolor\":\"white\",\"ticks\":\"\"},\"baxis\":{\"gridcolor\":\"white\",\"linecolor\":\"white\",\"ticks\":\"\"},\"caxis\":{\"gridcolor\":\"white\",\"linecolor\":\"white\",\"ticks\":\"\"}},\"coloraxis\":{\"colorbar\":{\"outlinewidth\":0,\"ticks\":\"\"}},\"colorscale\":{\"sequential\":[[0.0,\"#0d0887\"],[0.1111111111111111,\"#46039f\"],[0.2222222222222222,\"#7201a8\"],[0.3333333333333333,\"#9c179e\"],[0.4444444444444444,\"#bd3786\"],[0.5555555555555556,\"#d8576b\"],[0.6666666666666666,\"#ed7953\"],[0.7777777777777778,\"#fb9f3a\"],[0.8888888888888888,\"#fdca26\"],[1.0,\"#f0f921\"]],\"sequentialminus\":[[0.0,\"#0d0887\"],[0.1111111111111111,\"#46039f\"],[0.2222222222222222,\"#7201a8\"],[0.3333333333333333,\"#9c179e\"],[0.4444444444444444,\"#bd3786\"],[0.5555555555555556,\"#d8576b\"],[0.6666666666666666,\"#ed7953\"],[0.7777777777777778,\"#fb9f3a\"],[0.8888888888888888,\"#fdca26\"],[1.0,\"#f0f921\"]],\"diverging\":[[0,\"#8e0152\"],[0.1,\"#c51b7d\"],[0.2,\"#de77ae\"],[0.3,\"#f1b6da\"],[0.4,\"#fde0ef\"],[0.5,\"#f7f7f7\"],[0.6,\"#e6f5d0\"],[0.7,\"#b8e186\"],[0.8,\"#7fbc41\"],[0.9,\"#4d9221\"],[1,\"#276419\"]]},\"xaxis\":{\"gridcolor\":\"white\",\"linecolor\":\"white\",\"ticks\":\"\",\"title\":{\"standoff\":15},\"zerolinecolor\":\"white\",\"automargin\":true,\"zerolinewidth\":2},\"yaxis\":{\"gridcolor\":\"white\",\"linecolor\":\"white\",\"ticks\":\"\",\"title\":{\"standoff\":15},\"zerolinecolor\":\"white\",\"automargin\":true,\"zerolinewidth\":2},\"scene\":{\"xaxis\":{\"backgroundcolor\":\"#E5ECF6\",\"gridcolor\":\"white\",\"linecolor\":\"white\",\"showbackground\":true,\"ticks\":\"\",\"zerolinecolor\":\"white\",\"gridwidth\":2},\"yaxis\":{\"backgroundcolor\":\"#E5ECF6\",\"gridcolor\":\"white\",\"linecolor\":\"white\",\"showbackground\":true,\"ticks\":\"\",\"zerolinecolor\":\"white\",\"gridwidth\":2},\"zaxis\":{\"backgroundcolor\":\"#E5ECF6\",\"gridcolor\":\"white\",\"linecolor\":\"white\",\"showbackground\":true,\"ticks\":\"\",\"zerolinecolor\":\"white\",\"gridwidth\":2}},\"shapedefaults\":{\"line\":{\"color\":\"#2a3f5f\"}},\"annotationdefaults\":{\"arrowcolor\":\"#2a3f5f\",\"arrowhead\":0,\"arrowwidth\":1},\"geo\":{\"bgcolor\":\"white\",\"landcolor\":\"#E5ECF6\",\"subunitcolor\":\"white\",\"showland\":true,\"showlakes\":true,\"lakecolor\":\"white\"},\"title\":{\"x\":0.05},\"mapbox\":{\"style\":\"light\"}}},\"xaxis\":{\"anchor\":\"y\",\"domain\":[0.0,1.0],\"title\":{\"text\":\"Average Total Price\"},\"tickvals\":[]},\"yaxis\":{\"anchor\":\"x\",\"domain\":[0.0,1.0],\"title\":{\"text\":\"\"}},\"legend\":{\"title\":{\"text\":\"gender\"},\"tracegroupgap\":0},\"margin\":{\"t\":60},\"barmode\":\"group\",\"height\":400,\"plot_bgcolor\":\"white\",\"paper_bgcolor\":\"white\"},                        {\"responsive\": true}                    ).then(function(){\n",
       "                            \n",
       "var gd = document.getElementById('af9b0c83-1e06-45fc-ac13-b7b66458e0aa');\n",
       "var x = new MutationObserver(function (mutations, observer) {{\n",
       "        var display = window.getComputedStyle(gd).display;\n",
       "        if (!display || display === 'none') {{\n",
       "            console.log([gd, 'removed!']);\n",
       "            Plotly.purge(gd);\n",
       "            observer.disconnect();\n",
       "        }}\n",
       "}});\n",
       "\n",
       "// Listen for the removal of the full notebook cells\n",
       "var notebookContainer = gd.closest('#notebook-container');\n",
       "if (notebookContainer) {{\n",
       "    x.observe(notebookContainer, {childList: true});\n",
       "}}\n",
       "\n",
       "// Listen for the clearing of the current output cell\n",
       "var outputEl = gd.closest('.output');\n",
       "if (outputEl) {{\n",
       "    x.observe(outputEl, {childList: true});\n",
       "}}\n",
       "\n",
       "                        })                };                });            </script>        </div>"
      ]
     },
     "metadata": {},
     "output_type": "display_data"
    }
   ],
   "source": [
    "# grouping by 'age_group' and calculatig the mean of 'total_price'\n",
    "average_price_by_age_group = df.groupby(['age_group', 'gender'])['total_price'].mean().round().reset_index()\n",
    "\n",
    "# plotting the average amount of money spent by age group using plotly express\n",
    "fig = px.bar(\n",
    "    average_price_by_age_group,\n",
    "    y='age_group',\n",
    "    x='total_price',\n",
    "    color='gender',\n",
    "    labels={'total_price': 'Average Total Price'},\n",
    "    orientation='h',  # setting the orientation to horizontal\n",
    "    height=400,  # increasing the height of the plot\n",
    "    text='total_price',  # showing the total_price values on the bars\n",
    ")\n",
    "\n",
    "# making the plot clustered\n",
    "fig.update_layout(barmode='group')\n",
    "\n",
    "# removing x-axis tick labels\n",
    "fig.update_xaxes(tickvals=[])\n",
    "\n",
    "# removing y-axis title\n",
    "fig.update_yaxes(title_text='')\n",
    "\n",
    "# setting the background color to white\n",
    "fig.update_layout(\n",
    "    plot_bgcolor='white',\n",
    "    paper_bgcolor='white'\n",
    ")\n",
    "\n",
    "\n",
    "# showing the plot\n",
    "fig.show()"
   ]
  },
  {
   "cell_type": "markdown",
   "id": "4a1bef78-5d52-49ce-b8d4-8af3659c614a",
   "metadata": {},
   "source": [
    "* In terms of average spending, the middle age group is the group that spends the most. It is followed by the elderly and the young, respectively."
   ]
  },
  {
   "cell_type": "markdown",
   "id": "e9b73ad8-2968-4cdd-ba16-fd8f945c749f",
   "metadata": {},
   "source": [
    "## Shopping Line Chart for Each Age Group Throughout 2022"
   ]
  },
  {
   "cell_type": "code",
   "execution_count": 92,
   "id": "1cf8b5ef-f6b5-48a4-9891-10a57d19e93e",
   "metadata": {},
   "outputs": [
    {
     "data": {
      "application/vnd.plotly.v1+json": {
       "config": {
        "plotlyServerURL": "https://plot.ly"
       },
       "data": [
        {
         "hovertemplate": "age_group=middle_age<br>invoice_month=%{x}<br>Average Total Price=%{y}<extra></extra>",
         "legendgroup": "middle_age",
         "line": {
          "color": "#636efa",
          "dash": "solid"
         },
         "marker": {
          "symbol": "circle"
         },
         "mode": "lines",
         "name": "middle_age",
         "orientation": "v",
         "showlegend": true,
         "type": "scatter",
         "x": [
          "2022-01",
          "2022-02",
          "2022-03",
          "2022-04",
          "2022-05",
          "2022-06",
          "2022-07",
          "2022-08",
          "2022-09",
          "2022-10",
          "2022-11",
          "2022-12"
         ],
         "xaxis": "x",
         "y": [
          2489.829453167298,
          2432.406654343808,
          2598.552978386927,
          2475.2376021798364,
          2625.8741610738257,
          2614.430744160782,
          2669.9059326563333,
          2588.3583113456466,
          2385.164187643021,
          2708.4930555555557,
          2450.042414355628,
          2722.1714285714284
         ],
         "yaxis": "y"
        },
        {
         "hovertemplate": "age_group=old<br>invoice_month=%{x}<br>Average Total Price=%{y}<extra></extra>",
         "legendgroup": "old",
         "line": {
          "color": "#EF553B",
          "dash": "solid"
         },
         "marker": {
          "symbol": "circle"
         },
         "mode": "lines",
         "name": "old",
         "orientation": "v",
         "showlegend": true,
         "type": "scatter",
         "x": [
          "2022-01",
          "2022-02",
          "2022-03",
          "2022-04",
          "2022-05",
          "2022-06",
          "2022-07",
          "2022-08",
          "2022-09",
          "2022-10",
          "2022-11",
          "2022-12"
         ],
         "xaxis": "x",
         "y": [
          2937.738993710692,
          2565.4750430292597,
          2467.6290322580644,
          2551.0706605222736,
          2434.7785419532324,
          2481.5707547169814,
          2472.6255639097744,
          2239.2960725075527,
          2782.371695178849,
          2830.8280802292265,
          2127.6561983471074,
          2385.1746522411127
         ],
         "yaxis": "y"
        },
        {
         "hovertemplate": "age_group=young<br>invoice_month=%{x}<br>Average Total Price=%{y}<extra></extra>",
         "legendgroup": "young",
         "line": {
          "color": "#00cc96",
          "dash": "solid"
         },
         "marker": {
          "symbol": "circle"
         },
         "mode": "lines",
         "name": "young",
         "orientation": "v",
         "showlegend": true,
         "type": "scatter",
         "x": [
          "2022-01",
          "2022-02",
          "2022-03",
          "2022-04",
          "2022-05",
          "2022-06",
          "2022-07",
          "2022-08",
          "2022-09",
          "2022-10",
          "2022-11",
          "2022-12"
         ],
         "xaxis": "x",
         "y": [
          2416.1099706744867,
          2336.542236524537,
          2465.3896198830407,
          2444.571652310102,
          2609.293103448276,
          2463.6336109008325,
          2524.9019896831246,
          2407.9040590405903,
          2823.311145510836,
          2530.720657276995,
          2382.3663890991675,
          2525.3932151117965
         ],
         "yaxis": "y"
        }
       ],
       "layout": {
        "autosize": true,
        "legend": {
         "title": {
          "text": "age_group"
         },
         "tracegroupgap": 0
        },
        "paper_bgcolor": "white",
        "plot_bgcolor": "white",
        "template": {
         "data": {
          "bar": [
           {
            "error_x": {
             "color": "#2a3f5f"
            },
            "error_y": {
             "color": "#2a3f5f"
            },
            "marker": {
             "line": {
              "color": "#E5ECF6",
              "width": 0.5
             },
             "pattern": {
              "fillmode": "overlay",
              "size": 10,
              "solidity": 0.2
             }
            },
            "type": "bar"
           }
          ],
          "barpolar": [
           {
            "marker": {
             "line": {
              "color": "#E5ECF6",
              "width": 0.5
             },
             "pattern": {
              "fillmode": "overlay",
              "size": 10,
              "solidity": 0.2
             }
            },
            "type": "barpolar"
           }
          ],
          "carpet": [
           {
            "aaxis": {
             "endlinecolor": "#2a3f5f",
             "gridcolor": "white",
             "linecolor": "white",
             "minorgridcolor": "white",
             "startlinecolor": "#2a3f5f"
            },
            "baxis": {
             "endlinecolor": "#2a3f5f",
             "gridcolor": "white",
             "linecolor": "white",
             "minorgridcolor": "white",
             "startlinecolor": "#2a3f5f"
            },
            "type": "carpet"
           }
          ],
          "choropleth": [
           {
            "colorbar": {
             "outlinewidth": 0,
             "ticks": ""
            },
            "type": "choropleth"
           }
          ],
          "contour": [
           {
            "colorbar": {
             "outlinewidth": 0,
             "ticks": ""
            },
            "colorscale": [
             [
              0,
              "#0d0887"
             ],
             [
              0.1111111111111111,
              "#46039f"
             ],
             [
              0.2222222222222222,
              "#7201a8"
             ],
             [
              0.3333333333333333,
              "#9c179e"
             ],
             [
              0.4444444444444444,
              "#bd3786"
             ],
             [
              0.5555555555555556,
              "#d8576b"
             ],
             [
              0.6666666666666666,
              "#ed7953"
             ],
             [
              0.7777777777777778,
              "#fb9f3a"
             ],
             [
              0.8888888888888888,
              "#fdca26"
             ],
             [
              1,
              "#f0f921"
             ]
            ],
            "type": "contour"
           }
          ],
          "contourcarpet": [
           {
            "colorbar": {
             "outlinewidth": 0,
             "ticks": ""
            },
            "type": "contourcarpet"
           }
          ],
          "heatmap": [
           {
            "colorbar": {
             "outlinewidth": 0,
             "ticks": ""
            },
            "colorscale": [
             [
              0,
              "#0d0887"
             ],
             [
              0.1111111111111111,
              "#46039f"
             ],
             [
              0.2222222222222222,
              "#7201a8"
             ],
             [
              0.3333333333333333,
              "#9c179e"
             ],
             [
              0.4444444444444444,
              "#bd3786"
             ],
             [
              0.5555555555555556,
              "#d8576b"
             ],
             [
              0.6666666666666666,
              "#ed7953"
             ],
             [
              0.7777777777777778,
              "#fb9f3a"
             ],
             [
              0.8888888888888888,
              "#fdca26"
             ],
             [
              1,
              "#f0f921"
             ]
            ],
            "type": "heatmap"
           }
          ],
          "heatmapgl": [
           {
            "colorbar": {
             "outlinewidth": 0,
             "ticks": ""
            },
            "colorscale": [
             [
              0,
              "#0d0887"
             ],
             [
              0.1111111111111111,
              "#46039f"
             ],
             [
              0.2222222222222222,
              "#7201a8"
             ],
             [
              0.3333333333333333,
              "#9c179e"
             ],
             [
              0.4444444444444444,
              "#bd3786"
             ],
             [
              0.5555555555555556,
              "#d8576b"
             ],
             [
              0.6666666666666666,
              "#ed7953"
             ],
             [
              0.7777777777777778,
              "#fb9f3a"
             ],
             [
              0.8888888888888888,
              "#fdca26"
             ],
             [
              1,
              "#f0f921"
             ]
            ],
            "type": "heatmapgl"
           }
          ],
          "histogram": [
           {
            "marker": {
             "pattern": {
              "fillmode": "overlay",
              "size": 10,
              "solidity": 0.2
             }
            },
            "type": "histogram"
           }
          ],
          "histogram2d": [
           {
            "colorbar": {
             "outlinewidth": 0,
             "ticks": ""
            },
            "colorscale": [
             [
              0,
              "#0d0887"
             ],
             [
              0.1111111111111111,
              "#46039f"
             ],
             [
              0.2222222222222222,
              "#7201a8"
             ],
             [
              0.3333333333333333,
              "#9c179e"
             ],
             [
              0.4444444444444444,
              "#bd3786"
             ],
             [
              0.5555555555555556,
              "#d8576b"
             ],
             [
              0.6666666666666666,
              "#ed7953"
             ],
             [
              0.7777777777777778,
              "#fb9f3a"
             ],
             [
              0.8888888888888888,
              "#fdca26"
             ],
             [
              1,
              "#f0f921"
             ]
            ],
            "type": "histogram2d"
           }
          ],
          "histogram2dcontour": [
           {
            "colorbar": {
             "outlinewidth": 0,
             "ticks": ""
            },
            "colorscale": [
             [
              0,
              "#0d0887"
             ],
             [
              0.1111111111111111,
              "#46039f"
             ],
             [
              0.2222222222222222,
              "#7201a8"
             ],
             [
              0.3333333333333333,
              "#9c179e"
             ],
             [
              0.4444444444444444,
              "#bd3786"
             ],
             [
              0.5555555555555556,
              "#d8576b"
             ],
             [
              0.6666666666666666,
              "#ed7953"
             ],
             [
              0.7777777777777778,
              "#fb9f3a"
             ],
             [
              0.8888888888888888,
              "#fdca26"
             ],
             [
              1,
              "#f0f921"
             ]
            ],
            "type": "histogram2dcontour"
           }
          ],
          "mesh3d": [
           {
            "colorbar": {
             "outlinewidth": 0,
             "ticks": ""
            },
            "type": "mesh3d"
           }
          ],
          "parcoords": [
           {
            "line": {
             "colorbar": {
              "outlinewidth": 0,
              "ticks": ""
             }
            },
            "type": "parcoords"
           }
          ],
          "pie": [
           {
            "automargin": true,
            "type": "pie"
           }
          ],
          "scatter": [
           {
            "fillpattern": {
             "fillmode": "overlay",
             "size": 10,
             "solidity": 0.2
            },
            "type": "scatter"
           }
          ],
          "scatter3d": [
           {
            "line": {
             "colorbar": {
              "outlinewidth": 0,
              "ticks": ""
             }
            },
            "marker": {
             "colorbar": {
              "outlinewidth": 0,
              "ticks": ""
             }
            },
            "type": "scatter3d"
           }
          ],
          "scattercarpet": [
           {
            "marker": {
             "colorbar": {
              "outlinewidth": 0,
              "ticks": ""
             }
            },
            "type": "scattercarpet"
           }
          ],
          "scattergeo": [
           {
            "marker": {
             "colorbar": {
              "outlinewidth": 0,
              "ticks": ""
             }
            },
            "type": "scattergeo"
           }
          ],
          "scattergl": [
           {
            "marker": {
             "colorbar": {
              "outlinewidth": 0,
              "ticks": ""
             }
            },
            "type": "scattergl"
           }
          ],
          "scattermapbox": [
           {
            "marker": {
             "colorbar": {
              "outlinewidth": 0,
              "ticks": ""
             }
            },
            "type": "scattermapbox"
           }
          ],
          "scatterpolar": [
           {
            "marker": {
             "colorbar": {
              "outlinewidth": 0,
              "ticks": ""
             }
            },
            "type": "scatterpolar"
           }
          ],
          "scatterpolargl": [
           {
            "marker": {
             "colorbar": {
              "outlinewidth": 0,
              "ticks": ""
             }
            },
            "type": "scatterpolargl"
           }
          ],
          "scatterternary": [
           {
            "marker": {
             "colorbar": {
              "outlinewidth": 0,
              "ticks": ""
             }
            },
            "type": "scatterternary"
           }
          ],
          "surface": [
           {
            "colorbar": {
             "outlinewidth": 0,
             "ticks": ""
            },
            "colorscale": [
             [
              0,
              "#0d0887"
             ],
             [
              0.1111111111111111,
              "#46039f"
             ],
             [
              0.2222222222222222,
              "#7201a8"
             ],
             [
              0.3333333333333333,
              "#9c179e"
             ],
             [
              0.4444444444444444,
              "#bd3786"
             ],
             [
              0.5555555555555556,
              "#d8576b"
             ],
             [
              0.6666666666666666,
              "#ed7953"
             ],
             [
              0.7777777777777778,
              "#fb9f3a"
             ],
             [
              0.8888888888888888,
              "#fdca26"
             ],
             [
              1,
              "#f0f921"
             ]
            ],
            "type": "surface"
           }
          ],
          "table": [
           {
            "cells": {
             "fill": {
              "color": "#EBF0F8"
             },
             "line": {
              "color": "white"
             }
            },
            "header": {
             "fill": {
              "color": "#C8D4E3"
             },
             "line": {
              "color": "white"
             }
            },
            "type": "table"
           }
          ]
         },
         "layout": {
          "annotationdefaults": {
           "arrowcolor": "#2a3f5f",
           "arrowhead": 0,
           "arrowwidth": 1
          },
          "autotypenumbers": "strict",
          "coloraxis": {
           "colorbar": {
            "outlinewidth": 0,
            "ticks": ""
           }
          },
          "colorscale": {
           "diverging": [
            [
             0,
             "#8e0152"
            ],
            [
             0.1,
             "#c51b7d"
            ],
            [
             0.2,
             "#de77ae"
            ],
            [
             0.3,
             "#f1b6da"
            ],
            [
             0.4,
             "#fde0ef"
            ],
            [
             0.5,
             "#f7f7f7"
            ],
            [
             0.6,
             "#e6f5d0"
            ],
            [
             0.7,
             "#b8e186"
            ],
            [
             0.8,
             "#7fbc41"
            ],
            [
             0.9,
             "#4d9221"
            ],
            [
             1,
             "#276419"
            ]
           ],
           "sequential": [
            [
             0,
             "#0d0887"
            ],
            [
             0.1111111111111111,
             "#46039f"
            ],
            [
             0.2222222222222222,
             "#7201a8"
            ],
            [
             0.3333333333333333,
             "#9c179e"
            ],
            [
             0.4444444444444444,
             "#bd3786"
            ],
            [
             0.5555555555555556,
             "#d8576b"
            ],
            [
             0.6666666666666666,
             "#ed7953"
            ],
            [
             0.7777777777777778,
             "#fb9f3a"
            ],
            [
             0.8888888888888888,
             "#fdca26"
            ],
            [
             1,
             "#f0f921"
            ]
           ],
           "sequentialminus": [
            [
             0,
             "#0d0887"
            ],
            [
             0.1111111111111111,
             "#46039f"
            ],
            [
             0.2222222222222222,
             "#7201a8"
            ],
            [
             0.3333333333333333,
             "#9c179e"
            ],
            [
             0.4444444444444444,
             "#bd3786"
            ],
            [
             0.5555555555555556,
             "#d8576b"
            ],
            [
             0.6666666666666666,
             "#ed7953"
            ],
            [
             0.7777777777777778,
             "#fb9f3a"
            ],
            [
             0.8888888888888888,
             "#fdca26"
            ],
            [
             1,
             "#f0f921"
            ]
           ]
          },
          "colorway": [
           "#636efa",
           "#EF553B",
           "#00cc96",
           "#ab63fa",
           "#FFA15A",
           "#19d3f3",
           "#FF6692",
           "#B6E880",
           "#FF97FF",
           "#FECB52"
          ],
          "font": {
           "color": "#2a3f5f"
          },
          "geo": {
           "bgcolor": "white",
           "lakecolor": "white",
           "landcolor": "#E5ECF6",
           "showlakes": true,
           "showland": true,
           "subunitcolor": "white"
          },
          "hoverlabel": {
           "align": "left"
          },
          "hovermode": "closest",
          "mapbox": {
           "style": "light"
          },
          "paper_bgcolor": "white",
          "plot_bgcolor": "#E5ECF6",
          "polar": {
           "angularaxis": {
            "gridcolor": "white",
            "linecolor": "white",
            "ticks": ""
           },
           "bgcolor": "#E5ECF6",
           "radialaxis": {
            "gridcolor": "white",
            "linecolor": "white",
            "ticks": ""
           }
          },
          "scene": {
           "xaxis": {
            "backgroundcolor": "#E5ECF6",
            "gridcolor": "white",
            "gridwidth": 2,
            "linecolor": "white",
            "showbackground": true,
            "ticks": "",
            "zerolinecolor": "white"
           },
           "yaxis": {
            "backgroundcolor": "#E5ECF6",
            "gridcolor": "white",
            "gridwidth": 2,
            "linecolor": "white",
            "showbackground": true,
            "ticks": "",
            "zerolinecolor": "white"
           },
           "zaxis": {
            "backgroundcolor": "#E5ECF6",
            "gridcolor": "white",
            "gridwidth": 2,
            "linecolor": "white",
            "showbackground": true,
            "ticks": "",
            "zerolinecolor": "white"
           }
          },
          "shapedefaults": {
           "line": {
            "color": "#2a3f5f"
           }
          },
          "ternary": {
           "aaxis": {
            "gridcolor": "white",
            "linecolor": "white",
            "ticks": ""
           },
           "baxis": {
            "gridcolor": "white",
            "linecolor": "white",
            "ticks": ""
           },
           "bgcolor": "#E5ECF6",
           "caxis": {
            "gridcolor": "white",
            "linecolor": "white",
            "ticks": ""
           }
          },
          "title": {
           "x": 0.05
          },
          "xaxis": {
           "automargin": true,
           "gridcolor": "white",
           "linecolor": "white",
           "ticks": "",
           "title": {
            "standoff": 15
           },
           "zerolinecolor": "white",
           "zerolinewidth": 2
          },
          "yaxis": {
           "automargin": true,
           "gridcolor": "white",
           "linecolor": "white",
           "ticks": "",
           "title": {
            "standoff": 15
           },
           "zerolinecolor": "white",
           "zerolinewidth": 2
          }
         }
        },
        "title": {
         "text": "Average Total Price Over Months by Age Group",
         "x": 0.5
        },
        "xaxis": {
         "anchor": "y",
         "autorange": true,
         "domain": [
          0,
          1
         ],
         "range": [
          "2022-01-01",
          "2022-12-01"
         ],
         "title": {
          "text": ""
         },
         "type": "date"
        },
        "yaxis": {
         "anchor": "x",
         "autorange": true,
         "domain": [
          0,
          1
         ],
         "range": [
          2082.651598604686,
          2982.743593453113
         ],
         "title": {
          "text": ""
         },
         "type": "linear"
        }
       }
      },
      "image/png": "[encoded data removed]",
      "text/html": [
       "<div>                            <div id=\"c5235a9b-1f82-42c7-b7a0-04bd338ec625\" class=\"plotly-graph-div\" style=\"height:525px; width:100%;\"></div>            <script type=\"text/javascript\">                require([\"plotly\"], function(Plotly) {                    window.PLOTLYENV=window.PLOTLYENV || {};                                    if (document.getElementById(\"c5235a9b-1f82-42c7-b7a0-04bd338ec625\")) {                    Plotly.newPlot(                        \"c5235a9b-1f82-42c7-b7a0-04bd338ec625\",                        [{\"hovertemplate\":\"age_group=middle_age\\u003cbr\\u003einvoice_month=%{x}\\u003cbr\\u003eAverage Total Price=%{y}\\u003cextra\\u003e\\u003c\\u002fextra\\u003e\",\"legendgroup\":\"middle_age\",\"line\":{\"color\":\"#636efa\",\"dash\":\"solid\"},\"marker\":{\"symbol\":\"circle\"},\"mode\":\"lines\",\"name\":\"middle_age\",\"orientation\":\"v\",\"showlegend\":true,\"x\":[\"2022-01\",\"2022-02\",\"2022-03\",\"2022-04\",\"2022-05\",\"2022-06\",\"2022-07\",\"2022-08\",\"2022-09\",\"2022-10\",\"2022-11\",\"2022-12\"],\"xaxis\":\"x\",\"y\":[2489.829453167298,2432.406654343808,2598.552978386927,2475.2376021798364,2625.8741610738257,2614.430744160782,2669.9059326563333,2588.3583113456466,2385.164187643021,2708.4930555555557,2450.042414355628,2722.1714285714284],\"yaxis\":\"y\",\"type\":\"scatter\"},{\"hovertemplate\":\"age_group=old\\u003cbr\\u003einvoice_month=%{x}\\u003cbr\\u003eAverage Total Price=%{y}\\u003cextra\\u003e\\u003c\\u002fextra\\u003e\",\"legendgroup\":\"old\",\"line\":{\"color\":\"#EF553B\",\"dash\":\"solid\"},\"marker\":{\"symbol\":\"circle\"},\"mode\":\"lines\",\"name\":\"old\",\"orientation\":\"v\",\"showlegend\":true,\"x\":[\"2022-01\",\"2022-02\",\"2022-03\",\"2022-04\",\"2022-05\",\"2022-06\",\"2022-07\",\"2022-08\",\"2022-09\",\"2022-10\",\"2022-11\",\"2022-12\"],\"xaxis\":\"x\",\"y\":[2937.738993710692,2565.4750430292597,2467.6290322580644,2551.0706605222736,2434.7785419532324,2481.5707547169814,2472.6255639097744,2239.2960725075527,2782.371695178849,2830.8280802292265,2127.6561983471074,2385.1746522411127],\"yaxis\":\"y\",\"type\":\"scatter\"},{\"hovertemplate\":\"age_group=young\\u003cbr\\u003einvoice_month=%{x}\\u003cbr\\u003eAverage Total Price=%{y}\\u003cextra\\u003e\\u003c\\u002fextra\\u003e\",\"legendgroup\":\"young\",\"line\":{\"color\":\"#00cc96\",\"dash\":\"solid\"},\"marker\":{\"symbol\":\"circle\"},\"mode\":\"lines\",\"name\":\"young\",\"orientation\":\"v\",\"showlegend\":true,\"x\":[\"2022-01\",\"2022-02\",\"2022-03\",\"2022-04\",\"2022-05\",\"2022-06\",\"2022-07\",\"2022-08\",\"2022-09\",\"2022-10\",\"2022-11\",\"2022-12\"],\"xaxis\":\"x\",\"y\":[2416.1099706744867,2336.542236524537,2465.3896198830407,2444.571652310102,2609.293103448276,2463.6336109008325,2524.9019896831246,2407.9040590405903,2823.311145510836,2530.720657276995,2382.3663890991675,2525.3932151117965],\"yaxis\":\"y\",\"type\":\"scatter\"}],                        {\"template\":{\"data\":{\"histogram2dcontour\":[{\"type\":\"histogram2dcontour\",\"colorbar\":{\"outlinewidth\":0,\"ticks\":\"\"},\"colorscale\":[[0.0,\"#0d0887\"],[0.1111111111111111,\"#46039f\"],[0.2222222222222222,\"#7201a8\"],[0.3333333333333333,\"#9c179e\"],[0.4444444444444444,\"#bd3786\"],[0.5555555555555556,\"#d8576b\"],[0.6666666666666666,\"#ed7953\"],[0.7777777777777778,\"#fb9f3a\"],[0.8888888888888888,\"#fdca26\"],[1.0,\"#f0f921\"]]}],\"choropleth\":[{\"type\":\"choropleth\",\"colorbar\":{\"outlinewidth\":0,\"ticks\":\"\"}}],\"histogram2d\":[{\"type\":\"histogram2d\",\"colorbar\":{\"outlinewidth\":0,\"ticks\":\"\"},\"colorscale\":[[0.0,\"#0d0887\"],[0.1111111111111111,\"#46039f\"],[0.2222222222222222,\"#7201a8\"],[0.3333333333333333,\"#9c179e\"],[0.4444444444444444,\"#bd3786\"],[0.5555555555555556,\"#d8576b\"],[0.6666666666666666,\"#ed7953\"],[0.7777777777777778,\"#fb9f3a\"],[0.8888888888888888,\"#fdca26\"],[1.0,\"#f0f921\"]]}],\"heatmap\":[{\"type\":\"heatmap\",\"colorbar\":{\"outlinewidth\":0,\"ticks\":\"\"},\"colorscale\":[[0.0,\"#0d0887\"],[0.1111111111111111,\"#46039f\"],[0.2222222222222222,\"#7201a8\"],[0.3333333333333333,\"#9c179e\"],[0.4444444444444444,\"#bd3786\"],[0.5555555555555556,\"#d8576b\"],[0.6666666666666666,\"#ed7953\"],[0.7777777777777778,\"#fb9f3a\"],[0.8888888888888888,\"#fdca26\"],[1.0,\"#f0f921\"]]}],\"heatmapgl\":[{\"type\":\"heatmapgl\",\"colorbar\":{\"outlinewidth\":0,\"ticks\":\"\"},\"colorscale\":[[0.0,\"#0d0887\"],[0.1111111111111111,\"#46039f\"],[0.2222222222222222,\"#7201a8\"],[0.3333333333333333,\"#9c179e\"],[0.4444444444444444,\"#bd3786\"],[0.5555555555555556,\"#d8576b\"],[0.6666666666666666,\"#ed7953\"],[0.7777777777777778,\"#fb9f3a\"],[0.8888888888888888,\"#fdca26\"],[1.0,\"#f0f921\"]]}],\"contourcarpet\":[{\"type\":\"contourcarpet\",\"colorbar\":{\"outlinewidth\":0,\"ticks\":\"\"}}],\"contour\":[{\"type\":\"contour\",\"colorbar\":{\"outlinewidth\":0,\"ticks\":\"\"},\"colorscale\":[[0.0,\"#0d0887\"],[0.1111111111111111,\"#46039f\"],[0.2222222222222222,\"#7201a8\"],[0.3333333333333333,\"#9c179e\"],[0.4444444444444444,\"#bd3786\"],[0.5555555555555556,\"#d8576b\"],[0.6666666666666666,\"#ed7953\"],[0.7777777777777778,\"#fb9f3a\"],[0.8888888888888888,\"#fdca26\"],[1.0,\"#f0f921\"]]}],\"surface\":[{\"type\":\"surface\",\"colorbar\":{\"outlinewidth\":0,\"ticks\":\"\"},\"colorscale\":[[0.0,\"#0d0887\"],[0.1111111111111111,\"#46039f\"],[0.2222222222222222,\"#7201a8\"],[0.3333333333333333,\"#9c179e\"],[0.4444444444444444,\"#bd3786\"],[0.5555555555555556,\"#d8576b\"],[0.6666666666666666,\"#ed7953\"],[0.7777777777777778,\"#fb9f3a\"],[0.8888888888888888,\"#fdca26\"],[1.0,\"#f0f921\"]]}],\"mesh3d\":[{\"type\":\"mesh3d\",\"colorbar\":{\"outlinewidth\":0,\"ticks\":\"\"}}],\"scatter\":[{\"fillpattern\":{\"fillmode\":\"overlay\",\"size\":10,\"solidity\":0.2},\"type\":\"scatter\"}],\"parcoords\":[{\"type\":\"parcoords\",\"line\":{\"colorbar\":{\"outlinewidth\":0,\"ticks\":\"\"}}}],\"scatterpolargl\":[{\"type\":\"scatterpolargl\",\"marker\":{\"colorbar\":{\"outlinewidth\":0,\"ticks\":\"\"}}}],\"bar\":[{\"error_x\":{\"color\":\"#2a3f5f\"},\"error_y\":{\"color\":\"#2a3f5f\"},\"marker\":{\"line\":{\"color\":\"#E5ECF6\",\"width\":0.5},\"pattern\":{\"fillmode\":\"overlay\",\"size\":10,\"solidity\":0.2}},\"type\":\"bar\"}],\"scattergeo\":[{\"type\":\"scattergeo\",\"marker\":{\"colorbar\":{\"outlinewidth\":0,\"ticks\":\"\"}}}],\"scatterpolar\":[{\"type\":\"scatterpolar\",\"marker\":{\"colorbar\":{\"outlinewidth\":0,\"ticks\":\"\"}}}],\"histogram\":[{\"marker\":{\"pattern\":{\"fillmode\":\"overlay\",\"size\":10,\"solidity\":0.2}},\"type\":\"histogram\"}],\"scattergl\":[{\"type\":\"scattergl\",\"marker\":{\"colorbar\":{\"outlinewidth\":0,\"ticks\":\"\"}}}],\"scatter3d\":[{\"type\":\"scatter3d\",\"line\":{\"colorbar\":{\"outlinewidth\":0,\"ticks\":\"\"}},\"marker\":{\"colorbar\":{\"outlinewidth\":0,\"ticks\":\"\"}}}],\"scattermapbox\":[{\"type\":\"scattermapbox\",\"marker\":{\"colorbar\":{\"outlinewidth\":0,\"ticks\":\"\"}}}],\"scatterternary\":[{\"type\":\"scatterternary\",\"marker\":{\"colorbar\":{\"outlinewidth\":0,\"ticks\":\"\"}}}],\"scattercarpet\":[{\"type\":\"scattercarpet\",\"marker\":{\"colorbar\":{\"outlinewidth\":0,\"ticks\":\"\"}}}],\"carpet\":[{\"aaxis\":{\"endlinecolor\":\"#2a3f5f\",\"gridcolor\":\"white\",\"linecolor\":\"white\",\"minorgridcolor\":\"white\",\"startlinecolor\":\"#2a3f5f\"},\"baxis\":{\"endlinecolor\":\"#2a3f5f\",\"gridcolor\":\"white\",\"linecolor\":\"white\",\"minorgridcolor\":\"white\",\"startlinecolor\":\"#2a3f5f\"},\"type\":\"carpet\"}],\"table\":[{\"cells\":{\"fill\":{\"color\":\"#EBF0F8\"},\"line\":{\"color\":\"white\"}},\"header\":{\"fill\":{\"color\":\"#C8D4E3\"},\"line\":{\"color\":\"white\"}},\"type\":\"table\"}],\"barpolar\":[{\"marker\":{\"line\":{\"color\":\"#E5ECF6\",\"width\":0.5},\"pattern\":{\"fillmode\":\"overlay\",\"size\":10,\"solidity\":0.2}},\"type\":\"barpolar\"}],\"pie\":[{\"automargin\":true,\"type\":\"pie\"}]},\"layout\":{\"autotypenumbers\":\"strict\",\"colorway\":[\"#636efa\",\"#EF553B\",\"#00cc96\",\"#ab63fa\",\"#FFA15A\",\"#19d3f3\",\"#FF6692\",\"#B6E880\",\"#FF97FF\",\"#FECB52\"],\"font\":{\"color\":\"#2a3f5f\"},\"hovermode\":\"closest\",\"hoverlabel\":{\"align\":\"left\"},\"paper_bgcolor\":\"white\",\"plot_bgcolor\":\"#E5ECF6\",\"polar\":{\"bgcolor\":\"#E5ECF6\",\"angularaxis\":{\"gridcolor\":\"white\",\"linecolor\":\"white\",\"ticks\":\"\"},\"radialaxis\":{\"gridcolor\":\"white\",\"linecolor\":\"white\",\"ticks\":\"\"}},\"ternary\":{\"bgcolor\":\"#E5ECF6\",\"aaxis\":{\"gridcolor\":\"white\",\"linecolor\":\"white\",\"ticks\":\"\"},\"baxis\":{\"gridcolor\":\"white\",\"linecolor\":\"white\",\"ticks\":\"\"},\"caxis\":{\"gridcolor\":\"white\",\"linecolor\":\"white\",\"ticks\":\"\"}},\"coloraxis\":{\"colorbar\":{\"outlinewidth\":0,\"ticks\":\"\"}},\"colorscale\":{\"sequential\":[[0.0,\"#0d0887\"],[0.1111111111111111,\"#46039f\"],[0.2222222222222222,\"#7201a8\"],[0.3333333333333333,\"#9c179e\"],[0.4444444444444444,\"#bd3786\"],[0.5555555555555556,\"#d8576b\"],[0.6666666666666666,\"#ed7953\"],[0.7777777777777778,\"#fb9f3a\"],[0.8888888888888888,\"#fdca26\"],[1.0,\"#f0f921\"]],\"sequentialminus\":[[0.0,\"#0d0887\"],[0.1111111111111111,\"#46039f\"],[0.2222222222222222,\"#7201a8\"],[0.3333333333333333,\"#9c179e\"],[0.4444444444444444,\"#bd3786\"],[0.5555555555555556,\"#d8576b\"],[0.6666666666666666,\"#ed7953\"],[0.7777777777777778,\"#fb9f3a\"],[0.8888888888888888,\"#fdca26\"],[1.0,\"#f0f921\"]],\"diverging\":[[0,\"#8e0152\"],[0.1,\"#c51b7d\"],[0.2,\"#de77ae\"],[0.3,\"#f1b6da\"],[0.4,\"#fde0ef\"],[0.5,\"#f7f7f7\"],[0.6,\"#e6f5d0\"],[0.7,\"#b8e186\"],[0.8,\"#7fbc41\"],[0.9,\"#4d9221\"],[1,\"#276419\"]]},\"xaxis\":{\"gridcolor\":\"white\",\"linecolor\":\"white\",\"ticks\":\"\",\"title\":{\"standoff\":15},\"zerolinecolor\":\"white\",\"automargin\":true,\"zerolinewidth\":2},\"yaxis\":{\"gridcolor\":\"white\",\"linecolor\":\"white\",\"ticks\":\"\",\"title\":{\"standoff\":15},\"zerolinecolor\":\"white\",\"automargin\":true,\"zerolinewidth\":2},\"scene\":{\"xaxis\":{\"backgroundcolor\":\"#E5ECF6\",\"gridcolor\":\"white\",\"linecolor\":\"white\",\"showbackground\":true,\"ticks\":\"\",\"zerolinecolor\":\"white\",\"gridwidth\":2},\"yaxis\":{\"backgroundcolor\":\"#E5ECF6\",\"gridcolor\":\"white\",\"linecolor\":\"white\",\"showbackground\":true,\"ticks\":\"\",\"zerolinecolor\":\"white\",\"gridwidth\":2},\"zaxis\":{\"backgroundcolor\":\"#E5ECF6\",\"gridcolor\":\"white\",\"linecolor\":\"white\",\"showbackground\":true,\"ticks\":\"\",\"zerolinecolor\":\"white\",\"gridwidth\":2}},\"shapedefaults\":{\"line\":{\"color\":\"#2a3f5f\"}},\"annotationdefaults\":{\"arrowcolor\":\"#2a3f5f\",\"arrowhead\":0,\"arrowwidth\":1},\"geo\":{\"bgcolor\":\"white\",\"landcolor\":\"#E5ECF6\",\"subunitcolor\":\"white\",\"showland\":true,\"showlakes\":true,\"lakecolor\":\"white\"},\"title\":{\"x\":0.05},\"mapbox\":{\"style\":\"light\"}}},\"xaxis\":{\"anchor\":\"y\",\"domain\":[0.0,1.0],\"title\":{\"text\":\"\"}},\"yaxis\":{\"anchor\":\"x\",\"domain\":[0.0,1.0],\"title\":{\"text\":\"\"}},\"legend\":{\"title\":{\"text\":\"age_group\"},\"tracegroupgap\":0},\"title\":{\"text\":\"Average Total Price Over Months by Age Group\",\"x\":0.5},\"plot_bgcolor\":\"white\",\"paper_bgcolor\":\"white\"},                        {\"responsive\": true}                    ).then(function(){\n",
       "                            \n",
       "var gd = document.getElementById('c5235a9b-1f82-42c7-b7a0-04bd338ec625');\n",
       "var x = new MutationObserver(function (mutations, observer) {{\n",
       "        var display = window.getComputedStyle(gd).display;\n",
       "        if (!display || display === 'none') {{\n",
       "            console.log([gd, 'removed!']);\n",
       "            Plotly.purge(gd);\n",
       "            observer.disconnect();\n",
       "        }}\n",
       "}});\n",
       "\n",
       "// Listen for the removal of the full notebook cells\n",
       "var notebookContainer = gd.closest('#notebook-container');\n",
       "if (notebookContainer) {{\n",
       "    x.observe(notebookContainer, {childList: true});\n",
       "}}\n",
       "\n",
       "// Listen for the clearing of the current output cell\n",
       "var outputEl = gd.closest('.output');\n",
       "if (outputEl) {{\n",
       "    x.observe(outputEl, {childList: true});\n",
       "}}\n",
       "\n",
       "                        })                };                });            </script>        </div>"
      ]
     },
     "metadata": {},
     "output_type": "display_data"
    }
   ],
   "source": [
    "# Convert 'invoice_date' column to datetime\n",
    "df['invoice_date'] = pd.to_datetime(df['invoice_date'])\n",
    "\n",
    "# Extract the month from the 'invoice_date' and create a new column\n",
    "df['invoice_month'] = df['invoice_date'].dt.to_period('M').astype(str)\n",
    "\n",
    "# Group by 'age_group' and 'invoice_month', calculate the mean of 'total_price'\n",
    "average_price_by_month_age_group = df.groupby(['age_group', 'invoice_month'])['total_price'].mean().reset_index()\n",
    "\n",
    "# Plot using Plotly Express\n",
    "fig = px.line(\n",
    "    average_price_by_month_age_group,\n",
    "    x='invoice_month',\n",
    "    y='total_price',\n",
    "    color='age_group',\n",
    "    labels={'total_price': 'Average Total Price'},\n",
    "    title='Average Total Price Over Months by Age Group',\n",
    ")\n",
    "\n",
    "# Set the background color to white\n",
    "fig.update_layout(\n",
    "    plot_bgcolor='white',\n",
    "    paper_bgcolor='white',\n",
    "    title_x=0.5,  # Center-align the title\n",
    ")\n",
    "\n",
    "# Remove x-axis and y-axis titles\n",
    "fig.update_xaxes(title_text='')\n",
    "fig.update_yaxes(title_text='')\n",
    "\n",
    "# Show the plot\n",
    "fig.show()"
   ]
  },
  {
   "cell_type": "markdown",
   "id": "11fc72c7-6cc0-49a5-a93f-20903a7c25dc",
   "metadata": {},
   "source": [
    "* In general, between August and September, shopping practices of the elderly and young groups increase more than other periods. In addition, we can say that the young and old groups have the same pattern only in the period between July and September, and the other periods have opposite patterns. While October is the month in which the elderly group shops the most, November is the month in which this group shops the least."
   ]
  },
  {
   "cell_type": "markdown",
   "id": "82d13c98-4e83-4e1a-8c2f-d9d4fc97e3d3",
   "metadata": {},
   "source": [
    "## Clustered Bar Chart of Log Total Price by Category and Payment Method"
   ]
  },
  {
   "cell_type": "code",
   "execution_count": 93,
   "id": "d16450b6-609d-42e5-8e22-7be048a951d4",
   "metadata": {},
   "outputs": [
    {
     "data": {
      "application/vnd.plotly.v1+json": {
       "config": {
        "plotlyServerURL": "https://plot.ly"
       },
       "data": [
        {
         "alignmentgroup": "True",
         "hovertemplate": "payment_method=Cash<br>category=%{x}<br>lntotalprice=%{y}<br>text=%{text}<extra></extra>",
         "legendgroup": "Cash",
         "marker": {
          "color": "rgb(228,26,28)",
          "pattern": {
           "shape": ""
          }
         },
         "name": "Cash",
         "offsetgroup": "Cash",
         "orientation": "v",
         "showlegend": true,
         "text": [
          4318,
          49279,
          15374,
          8381,
          16160,
          3929,
          8395,
          10123
         ],
         "textposition": "auto",
         "type": "bar",
         "x": [
          "Books",
          "Clothing",
          "Cosmetics",
          "Food & Beverage",
          "Shoes",
          "Souvenir",
          "Technology",
          "Toys"
         ],
         "xaxis": "x",
         "y": [
          4318,
          49279,
          15374,
          8381,
          16160,
          3929,
          8395,
          10123
         ],
         "yaxis": "y"
        },
        {
         "alignmentgroup": "True",
         "hovertemplate": "payment_method=Credit Card<br>category=%{x}<br>lntotalprice=%{y}<br>text=%{text}<extra></extra>",
         "legendgroup": "Credit Card",
         "marker": {
          "color": "rgb(55,126,184)",
          "pattern": {
           "shape": ""
          }
         },
         "name": "Credit Card",
         "offsetgroup": "Credit Card",
         "orientation": "v",
         "showlegend": true,
         "text": [
          3057,
          38243,
          12620,
          6771,
          12679,
          3086,
          6808,
          8002
         ],
         "textposition": "auto",
         "type": "bar",
         "x": [
          "Books",
          "Clothing",
          "Cosmetics",
          "Food & Beverage",
          "Shoes",
          "Souvenir",
          "Technology",
          "Toys"
         ],
         "xaxis": "x",
         "y": [
          3057,
          38243,
          12620,
          6771,
          12679,
          3086,
          6808,
          8002
         ],
         "yaxis": "y"
        },
        {
         "alignmentgroup": "True",
         "hovertemplate": "payment_method=Debit Card<br>category=%{x}<br>lntotalprice=%{y}<br>text=%{text}<extra></extra>",
         "legendgroup": "Debit Card",
         "marker": {
          "color": "rgb(77,175,74)",
          "pattern": {
           "shape": ""
          }
         },
         "name": "Debit Card",
         "offsetgroup": "Debit Card",
         "orientation": "v",
         "showlegend": true,
         "text": [
          2018,
          21566,
          6907,
          3760,
          7131,
          1733,
          4219,
          4443
         ],
         "textposition": "auto",
         "type": "bar",
         "x": [
          "Books",
          "Clothing",
          "Cosmetics",
          "Food & Beverage",
          "Shoes",
          "Souvenir",
          "Technology",
          "Toys"
         ],
         "xaxis": "x",
         "y": [
          2018,
          21566,
          6907,
          3760,
          7131,
          1733,
          4219,
          4443
         ],
         "yaxis": "y"
        }
       ],
       "layout": {
        "autosize": true,
        "barmode": "group",
        "legend": {
         "title": {
          "text": "payment_method"
         },
         "tracegroupgap": 0
        },
        "margin": {
         "t": 60
        },
        "paper_bgcolor": "white",
        "plot_bgcolor": "white",
        "template": {
         "data": {
          "bar": [
           {
            "error_x": {
             "color": "#2a3f5f"
            },
            "error_y": {
             "color": "#2a3f5f"
            },
            "marker": {
             "line": {
              "color": "#E5ECF6",
              "width": 0.5
             },
             "pattern": {
              "fillmode": "overlay",
              "size": 10,
              "solidity": 0.2
             }
            },
            "type": "bar"
           }
          ],
          "barpolar": [
           {
            "marker": {
             "line": {
              "color": "#E5ECF6",
              "width": 0.5
             },
             "pattern": {
              "fillmode": "overlay",
              "size": 10,
              "solidity": 0.2
             }
            },
            "type": "barpolar"
           }
          ],
          "carpet": [
           {
            "aaxis": {
             "endlinecolor": "#2a3f5f",
             "gridcolor": "white",
             "linecolor": "white",
             "minorgridcolor": "white",
             "startlinecolor": "#2a3f5f"
            },
            "baxis": {
             "endlinecolor": "#2a3f5f",
             "gridcolor": "white",
             "linecolor": "white",
             "minorgridcolor": "white",
             "startlinecolor": "#2a3f5f"
            },
            "type": "carpet"
           }
          ],
          "choropleth": [
           {
            "colorbar": {
             "outlinewidth": 0,
             "ticks": ""
            },
            "type": "choropleth"
           }
          ],
          "contour": [
           {
            "colorbar": {
             "outlinewidth": 0,
             "ticks": ""
            },
            "colorscale": [
             [
              0,
              "#0d0887"
             ],
             [
              0.1111111111111111,
              "#46039f"
             ],
             [
              0.2222222222222222,
              "#7201a8"
             ],
             [
              0.3333333333333333,
              "#9c179e"
             ],
             [
              0.4444444444444444,
              "#bd3786"
             ],
             [
              0.5555555555555556,
              "#d8576b"
             ],
             [
              0.6666666666666666,
              "#ed7953"
             ],
             [
              0.7777777777777778,
              "#fb9f3a"
             ],
             [
              0.8888888888888888,
              "#fdca26"
             ],
             [
              1,
              "#f0f921"
             ]
            ],
            "type": "contour"
           }
          ],
          "contourcarpet": [
           {
            "colorbar": {
             "outlinewidth": 0,
             "ticks": ""
            },
            "type": "contourcarpet"
           }
          ],
          "heatmap": [
           {
            "colorbar": {
             "outlinewidth": 0,
             "ticks": ""
            },
            "colorscale": [
             [
              0,
              "#0d0887"
             ],
             [
              0.1111111111111111,
              "#46039f"
             ],
             [
              0.2222222222222222,
              "#7201a8"
             ],
             [
              0.3333333333333333,
              "#9c179e"
             ],
             [
              0.4444444444444444,
              "#bd3786"
             ],
             [
              0.5555555555555556,
              "#d8576b"
             ],
             [
              0.6666666666666666,
              "#ed7953"
             ],
             [
              0.7777777777777778,
              "#fb9f3a"
             ],
             [
              0.8888888888888888,
              "#fdca26"
             ],
             [
              1,
              "#f0f921"
             ]
            ],
            "type": "heatmap"
           }
          ],
          "heatmapgl": [
           {
            "colorbar": {
             "outlinewidth": 0,
             "ticks": ""
            },
            "colorscale": [
             [
              0,
              "#0d0887"
             ],
             [
              0.1111111111111111,
              "#46039f"
             ],
             [
              0.2222222222222222,
              "#7201a8"
             ],
             [
              0.3333333333333333,
              "#9c179e"
             ],
             [
              0.4444444444444444,
              "#bd3786"
             ],
             [
              0.5555555555555556,
              "#d8576b"
             ],
             [
              0.6666666666666666,
              "#ed7953"
             ],
             [
              0.7777777777777778,
              "#fb9f3a"
             ],
             [
              0.8888888888888888,
              "#fdca26"
             ],
             [
              1,
              "#f0f921"
             ]
            ],
            "type": "heatmapgl"
           }
          ],
          "histogram": [
           {
            "marker": {
             "pattern": {
              "fillmode": "overlay",
              "size": 10,
              "solidity": 0.2
             }
            },
            "type": "histogram"
           }
          ],
          "histogram2d": [
           {
            "colorbar": {
             "outlinewidth": 0,
             "ticks": ""
            },
            "colorscale": [
             [
              0,
              "#0d0887"
             ],
             [
              0.1111111111111111,
              "#46039f"
             ],
             [
              0.2222222222222222,
              "#7201a8"
             ],
             [
              0.3333333333333333,
              "#9c179e"
             ],
             [
              0.4444444444444444,
              "#bd3786"
             ],
             [
              0.5555555555555556,
              "#d8576b"
             ],
             [
              0.6666666666666666,
              "#ed7953"
             ],
             [
              0.7777777777777778,
              "#fb9f3a"
             ],
             [
              0.8888888888888888,
              "#fdca26"
             ],
             [
              1,
              "#f0f921"
             ]
            ],
            "type": "histogram2d"
           }
          ],
          "histogram2dcontour": [
           {
            "colorbar": {
             "outlinewidth": 0,
             "ticks": ""
            },
            "colorscale": [
             [
              0,
              "#0d0887"
             ],
             [
              0.1111111111111111,
              "#46039f"
             ],
             [
              0.2222222222222222,
              "#7201a8"
             ],
             [
              0.3333333333333333,
              "#9c179e"
             ],
             [
              0.4444444444444444,
              "#bd3786"
             ],
             [
              0.5555555555555556,
              "#d8576b"
             ],
             [
              0.6666666666666666,
              "#ed7953"
             ],
             [
              0.7777777777777778,
              "#fb9f3a"
             ],
             [
              0.8888888888888888,
              "#fdca26"
             ],
             [
              1,
              "#f0f921"
             ]
            ],
            "type": "histogram2dcontour"
           }
          ],
          "mesh3d": [
           {
            "colorbar": {
             "outlinewidth": 0,
             "ticks": ""
            },
            "type": "mesh3d"
           }
          ],
          "parcoords": [
           {
            "line": {
             "colorbar": {
              "outlinewidth": 0,
              "ticks": ""
             }
            },
            "type": "parcoords"
           }
          ],
          "pie": [
           {
            "automargin": true,
            "type": "pie"
           }
          ],
          "scatter": [
           {
            "fillpattern": {
             "fillmode": "overlay",
             "size": 10,
             "solidity": 0.2
            },
            "type": "scatter"
           }
          ],
          "scatter3d": [
           {
            "line": {
             "colorbar": {
              "outlinewidth": 0,
              "ticks": ""
             }
            },
            "marker": {
             "colorbar": {
              "outlinewidth": 0,
              "ticks": ""
             }
            },
            "type": "scatter3d"
           }
          ],
          "scattercarpet": [
           {
            "marker": {
             "colorbar": {
              "outlinewidth": 0,
              "ticks": ""
             }
            },
            "type": "scattercarpet"
           }
          ],
          "scattergeo": [
           {
            "marker": {
             "colorbar": {
              "outlinewidth": 0,
              "ticks": ""
             }
            },
            "type": "scattergeo"
           }
          ],
          "scattergl": [
           {
            "marker": {
             "colorbar": {
              "outlinewidth": 0,
              "ticks": ""
             }
            },
            "type": "scattergl"
           }
          ],
          "scattermapbox": [
           {
            "marker": {
             "colorbar": {
              "outlinewidth": 0,
              "ticks": ""
             }
            },
            "type": "scattermapbox"
           }
          ],
          "scatterpolar": [
           {
            "marker": {
             "colorbar": {
              "outlinewidth": 0,
              "ticks": ""
             }
            },
            "type": "scatterpolar"
           }
          ],
          "scatterpolargl": [
           {
            "marker": {
             "colorbar": {
              "outlinewidth": 0,
              "ticks": ""
             }
            },
            "type": "scatterpolargl"
           }
          ],
          "scatterternary": [
           {
            "marker": {
             "colorbar": {
              "outlinewidth": 0,
              "ticks": ""
             }
            },
            "type": "scatterternary"
           }
          ],
          "surface": [
           {
            "colorbar": {
             "outlinewidth": 0,
             "ticks": ""
            },
            "colorscale": [
             [
              0,
              "#0d0887"
             ],
             [
              0.1111111111111111,
              "#46039f"
             ],
             [
              0.2222222222222222,
              "#7201a8"
             ],
             [
              0.3333333333333333,
              "#9c179e"
             ],
             [
              0.4444444444444444,
              "#bd3786"
             ],
             [
              0.5555555555555556,
              "#d8576b"
             ],
             [
              0.6666666666666666,
              "#ed7953"
             ],
             [
              0.7777777777777778,
              "#fb9f3a"
             ],
             [
              0.8888888888888888,
              "#fdca26"
             ],
             [
              1,
              "#f0f921"
             ]
            ],
            "type": "surface"
           }
          ],
          "table": [
           {
            "cells": {
             "fill": {
              "color": "#EBF0F8"
             },
             "line": {
              "color": "white"
             }
            },
            "header": {
             "fill": {
              "color": "#C8D4E3"
             },
             "line": {
              "color": "white"
             }
            },
            "type": "table"
           }
          ]
         },
         "layout": {
          "annotationdefaults": {
           "arrowcolor": "#2a3f5f",
           "arrowhead": 0,
           "arrowwidth": 1
          },
          "autotypenumbers": "strict",
          "coloraxis": {
           "colorbar": {
            "outlinewidth": 0,
            "ticks": ""
           }
          },
          "colorscale": {
           "diverging": [
            [
             0,
             "#8e0152"
            ],
            [
             0.1,
             "#c51b7d"
            ],
            [
             0.2,
             "#de77ae"
            ],
            [
             0.3,
             "#f1b6da"
            ],
            [
             0.4,
             "#fde0ef"
            ],
            [
             0.5,
             "#f7f7f7"
            ],
            [
             0.6,
             "#e6f5d0"
            ],
            [
             0.7,
             "#b8e186"
            ],
            [
             0.8,
             "#7fbc41"
            ],
            [
             0.9,
             "#4d9221"
            ],
            [
             1,
             "#276419"
            ]
           ],
           "sequential": [
            [
             0,
             "#0d0887"
            ],
            [
             0.1111111111111111,
             "#46039f"
            ],
            [
             0.2222222222222222,
             "#7201a8"
            ],
            [
             0.3333333333333333,
             "#9c179e"
            ],
            [
             0.4444444444444444,
             "#bd3786"
            ],
            [
             0.5555555555555556,
             "#d8576b"
            ],
            [
             0.6666666666666666,
             "#ed7953"
            ],
            [
             0.7777777777777778,
             "#fb9f3a"
            ],
            [
             0.8888888888888888,
             "#fdca26"
            ],
            [
             1,
             "#f0f921"
            ]
           ],
           "sequentialminus": [
            [
             0,
             "#0d0887"
            ],
            [
             0.1111111111111111,
             "#46039f"
            ],
            [
             0.2222222222222222,
             "#7201a8"
            ],
            [
             0.3333333333333333,
             "#9c179e"
            ],
            [
             0.4444444444444444,
             "#bd3786"
            ],
            [
             0.5555555555555556,
             "#d8576b"
            ],
            [
             0.6666666666666666,
             "#ed7953"
            ],
            [
             0.7777777777777778,
             "#fb9f3a"
            ],
            [
             0.8888888888888888,
             "#fdca26"
            ],
            [
             1,
             "#f0f921"
            ]
           ]
          },
          "colorway": [
           "#636efa",
           "#EF553B",
           "#00cc96",
           "#ab63fa",
           "#FFA15A",
           "#19d3f3",
           "#FF6692",
           "#B6E880",
           "#FF97FF",
           "#FECB52"
          ],
          "font": {
           "color": "#2a3f5f"
          },
          "geo": {
           "bgcolor": "white",
           "lakecolor": "white",
           "landcolor": "#E5ECF6",
           "showlakes": true,
           "showland": true,
           "subunitcolor": "white"
          },
          "hoverlabel": {
           "align": "left"
          },
          "hovermode": "closest",
          "mapbox": {
           "style": "light"
          },
          "paper_bgcolor": "white",
          "plot_bgcolor": "#E5ECF6",
          "polar": {
           "angularaxis": {
            "gridcolor": "white",
            "linecolor": "white",
            "ticks": ""
           },
           "bgcolor": "#E5ECF6",
           "radialaxis": {
            "gridcolor": "white",
            "linecolor": "white",
            "ticks": ""
           }
          },
          "scene": {
           "xaxis": {
            "backgroundcolor": "#E5ECF6",
            "gridcolor": "white",
            "gridwidth": 2,
            "linecolor": "white",
            "showbackground": true,
            "ticks": "",
            "zerolinecolor": "white"
           },
           "yaxis": {
            "backgroundcolor": "#E5ECF6",
            "gridcolor": "white",
            "gridwidth": 2,
            "linecolor": "white",
            "showbackground": true,
            "ticks": "",
            "zerolinecolor": "white"
           },
           "zaxis": {
            "backgroundcolor": "#E5ECF6",
            "gridcolor": "white",
            "gridwidth": 2,
            "linecolor": "white",
            "showbackground": true,
            "ticks": "",
            "zerolinecolor": "white"
           }
          },
          "shapedefaults": {
           "line": {
            "color": "#2a3f5f"
           }
          },
          "ternary": {
           "aaxis": {
            "gridcolor": "white",
            "linecolor": "white",
            "ticks": ""
           },
           "baxis": {
            "gridcolor": "white",
            "linecolor": "white",
            "ticks": ""
           },
           "bgcolor": "#E5ECF6",
           "caxis": {
            "gridcolor": "white",
            "linecolor": "white",
            "ticks": ""
           }
          },
          "title": {
           "x": 0.05
          },
          "xaxis": {
           "automargin": true,
           "gridcolor": "white",
           "linecolor": "white",
           "ticks": "",
           "title": {
            "standoff": 15
           },
           "zerolinecolor": "white",
           "zerolinewidth": 2
          },
          "yaxis": {
           "automargin": true,
           "gridcolor": "white",
           "linecolor": "white",
           "ticks": "",
           "title": {
            "standoff": 15
           },
           "zerolinecolor": "white",
           "zerolinewidth": 2
          }
         }
        },
        "title": {
         "text": "Clustered Bar Chart of Log Total Price by Category and Payment Method",
         "x": 0.5
        },
        "xaxis": {
         "anchor": "y",
         "autorange": true,
         "domain": [
          0,
          1
         ],
         "range": [
          -0.5,
          7.5
         ],
         "title": {},
         "type": "category"
        },
        "yaxis": {
         "anchor": "x",
         "autorange": true,
         "domain": [
          0,
          1
         ],
         "range": [
          0,
          51872.63157894737
         ],
         "showgrid": false,
         "showline": false,
         "showticklabels": false,
         "title": {},
         "type": "linear"
        }
       }
      },
      "image/png": "[encoded data removed]",
      "text/html": [
       "<div>                            <div id=\"3e5e21d4-5c0f-4e8b-a923-fd068eb08824\" class=\"plotly-graph-div\" style=\"height:600px; width:100%;\"></div>            <script type=\"text/javascript\">                require([\"plotly\"], function(Plotly) {                    window.PLOTLYENV=window.PLOTLYENV || {};                                    if (document.getElementById(\"3e5e21d4-5c0f-4e8b-a923-fd068eb08824\")) {                    Plotly.newPlot(                        \"3e5e21d4-5c0f-4e8b-a923-fd068eb08824\",                        [{\"alignmentgroup\":\"True\",\"hovertemplate\":\"payment_method=Cash\\u003cbr\\u003ecategory=%{x}\\u003cbr\\u003elntotalprice=%{y}\\u003cbr\\u003etext=%{text}\\u003cextra\\u003e\\u003c\\u002fextra\\u003e\",\"legendgroup\":\"Cash\",\"marker\":{\"color\":\"rgb(228,26,28)\",\"pattern\":{\"shape\":\"\"}},\"name\":\"Cash\",\"offsetgroup\":\"Cash\",\"orientation\":\"v\",\"showlegend\":true,\"text\":[4318.0,49279.0,15374.0,8381.0,16160.0,3929.0,8395.0,10123.0],\"textposition\":\"auto\",\"x\":[\"Books\",\"Clothing\",\"Cosmetics\",\"Food & Beverage\",\"Shoes\",\"Souvenir\",\"Technology\",\"Toys\"],\"xaxis\":\"x\",\"y\":[4318,49279,15374,8381,16160,3929,8395,10123],\"yaxis\":\"y\",\"type\":\"bar\"},{\"alignmentgroup\":\"True\",\"hovertemplate\":\"payment_method=Credit Card\\u003cbr\\u003ecategory=%{x}\\u003cbr\\u003elntotalprice=%{y}\\u003cbr\\u003etext=%{text}\\u003cextra\\u003e\\u003c\\u002fextra\\u003e\",\"legendgroup\":\"Credit Card\",\"marker\":{\"color\":\"rgb(55,126,184)\",\"pattern\":{\"shape\":\"\"}},\"name\":\"Credit Card\",\"offsetgroup\":\"Credit Card\",\"orientation\":\"v\",\"showlegend\":true,\"text\":[3057.0,38243.0,12620.0,6771.0,12679.0,3086.0,6808.0,8002.0],\"textposition\":\"auto\",\"x\":[\"Books\",\"Clothing\",\"Cosmetics\",\"Food & Beverage\",\"Shoes\",\"Souvenir\",\"Technology\",\"Toys\"],\"xaxis\":\"x\",\"y\":[3057,38243,12620,6771,12679,3086,6808,8002],\"yaxis\":\"y\",\"type\":\"bar\"},{\"alignmentgroup\":\"True\",\"hovertemplate\":\"payment_method=Debit Card\\u003cbr\\u003ecategory=%{x}\\u003cbr\\u003elntotalprice=%{y}\\u003cbr\\u003etext=%{text}\\u003cextra\\u003e\\u003c\\u002fextra\\u003e\",\"legendgroup\":\"Debit Card\",\"marker\":{\"color\":\"rgb(77,175,74)\",\"pattern\":{\"shape\":\"\"}},\"name\":\"Debit Card\",\"offsetgroup\":\"Debit Card\",\"orientation\":\"v\",\"showlegend\":true,\"text\":[2018.0,21566.0,6907.0,3760.0,7131.0,1733.0,4219.0,4443.0],\"textposition\":\"auto\",\"x\":[\"Books\",\"Clothing\",\"Cosmetics\",\"Food & Beverage\",\"Shoes\",\"Souvenir\",\"Technology\",\"Toys\"],\"xaxis\":\"x\",\"y\":[2018,21566,6907,3760,7131,1733,4219,4443],\"yaxis\":\"y\",\"type\":\"bar\"}],                        {\"template\":{\"data\":{\"histogram2dcontour\":[{\"type\":\"histogram2dcontour\",\"colorbar\":{\"outlinewidth\":0,\"ticks\":\"\"},\"colorscale\":[[0.0,\"#0d0887\"],[0.1111111111111111,\"#46039f\"],[0.2222222222222222,\"#7201a8\"],[0.3333333333333333,\"#9c179e\"],[0.4444444444444444,\"#bd3786\"],[0.5555555555555556,\"#d8576b\"],[0.6666666666666666,\"#ed7953\"],[0.7777777777777778,\"#fb9f3a\"],[0.8888888888888888,\"#fdca26\"],[1.0,\"#f0f921\"]]}],\"choropleth\":[{\"type\":\"choropleth\",\"colorbar\":{\"outlinewidth\":0,\"ticks\":\"\"}}],\"histogram2d\":[{\"type\":\"histogram2d\",\"colorbar\":{\"outlinewidth\":0,\"ticks\":\"\"},\"colorscale\":[[0.0,\"#0d0887\"],[0.1111111111111111,\"#46039f\"],[0.2222222222222222,\"#7201a8\"],[0.3333333333333333,\"#9c179e\"],[0.4444444444444444,\"#bd3786\"],[0.5555555555555556,\"#d8576b\"],[0.6666666666666666,\"#ed7953\"],[0.7777777777777778,\"#fb9f3a\"],[0.8888888888888888,\"#fdca26\"],[1.0,\"#f0f921\"]]}],\"heatmap\":[{\"type\":\"heatmap\",\"colorbar\":{\"outlinewidth\":0,\"ticks\":\"\"},\"colorscale\":[[0.0,\"#0d0887\"],[0.1111111111111111,\"#46039f\"],[0.2222222222222222,\"#7201a8\"],[0.3333333333333333,\"#9c179e\"],[0.4444444444444444,\"#bd3786\"],[0.5555555555555556,\"#d8576b\"],[0.6666666666666666,\"#ed7953\"],[0.7777777777777778,\"#fb9f3a\"],[0.8888888888888888,\"#fdca26\"],[1.0,\"#f0f921\"]]}],\"heatmapgl\":[{\"type\":\"heatmapgl\",\"colorbar\":{\"outlinewidth\":0,\"ticks\":\"\"},\"colorscale\":[[0.0,\"#0d0887\"],[0.1111111111111111,\"#46039f\"],[0.2222222222222222,\"#7201a8\"],[0.3333333333333333,\"#9c179e\"],[0.4444444444444444,\"#bd3786\"],[0.5555555555555556,\"#d8576b\"],[0.6666666666666666,\"#ed7953\"],[0.7777777777777778,\"#fb9f3a\"],[0.8888888888888888,\"#fdca26\"],[1.0,\"#f0f921\"]]}],\"contourcarpet\":[{\"type\":\"contourcarpet\",\"colorbar\":{\"outlinewidth\":0,\"ticks\":\"\"}}],\"contour\":[{\"type\":\"contour\",\"colorbar\":{\"outlinewidth\":0,\"ticks\":\"\"},\"colorscale\":[[0.0,\"#0d0887\"],[0.1111111111111111,\"#46039f\"],[0.2222222222222222,\"#7201a8\"],[0.3333333333333333,\"#9c179e\"],[0.4444444444444444,\"#bd3786\"],[0.5555555555555556,\"#d8576b\"],[0.6666666666666666,\"#ed7953\"],[0.7777777777777778,\"#fb9f3a\"],[0.8888888888888888,\"#fdca26\"],[1.0,\"#f0f921\"]]}],\"surface\":[{\"type\":\"surface\",\"colorbar\":{\"outlinewidth\":0,\"ticks\":\"\"},\"colorscale\":[[0.0,\"#0d0887\"],[0.1111111111111111,\"#46039f\"],[0.2222222222222222,\"#7201a8\"],[0.3333333333333333,\"#9c179e\"],[0.4444444444444444,\"#bd3786\"],[0.5555555555555556,\"#d8576b\"],[0.6666666666666666,\"#ed7953\"],[0.7777777777777778,\"#fb9f3a\"],[0.8888888888888888,\"#fdca26\"],[1.0,\"#f0f921\"]]}],\"mesh3d\":[{\"type\":\"mesh3d\",\"colorbar\":{\"outlinewidth\":0,\"ticks\":\"\"}}],\"scatter\":[{\"fillpattern\":{\"fillmode\":\"overlay\",\"size\":10,\"solidity\":0.2},\"type\":\"scatter\"}],\"parcoords\":[{\"type\":\"parcoords\",\"line\":{\"colorbar\":{\"outlinewidth\":0,\"ticks\":\"\"}}}],\"scatterpolargl\":[{\"type\":\"scatterpolargl\",\"marker\":{\"colorbar\":{\"outlinewidth\":0,\"ticks\":\"\"}}}],\"bar\":[{\"error_x\":{\"color\":\"#2a3f5f\"},\"error_y\":{\"color\":\"#2a3f5f\"},\"marker\":{\"line\":{\"color\":\"#E5ECF6\",\"width\":0.5},\"pattern\":{\"fillmode\":\"overlay\",\"size\":10,\"solidity\":0.2}},\"type\":\"bar\"}],\"scattergeo\":[{\"type\":\"scattergeo\",\"marker\":{\"colorbar\":{\"outlinewidth\":0,\"ticks\":\"\"}}}],\"scatterpolar\":[{\"type\":\"scatterpolar\",\"marker\":{\"colorbar\":{\"outlinewidth\":0,\"ticks\":\"\"}}}],\"histogram\":[{\"marker\":{\"pattern\":{\"fillmode\":\"overlay\",\"size\":10,\"solidity\":0.2}},\"type\":\"histogram\"}],\"scattergl\":[{\"type\":\"scattergl\",\"marker\":{\"colorbar\":{\"outlinewidth\":0,\"ticks\":\"\"}}}],\"scatter3d\":[{\"type\":\"scatter3d\",\"line\":{\"colorbar\":{\"outlinewidth\":0,\"ticks\":\"\"}},\"marker\":{\"colorbar\":{\"outlinewidth\":0,\"ticks\":\"\"}}}],\"scattermapbox\":[{\"type\":\"scattermapbox\",\"marker\":{\"colorbar\":{\"outlinewidth\":0,\"ticks\":\"\"}}}],\"scatterternary\":[{\"type\":\"scatterternary\",\"marker\":{\"colorbar\":{\"outlinewidth\":0,\"ticks\":\"\"}}}],\"scattercarpet\":[{\"type\":\"scattercarpet\",\"marker\":{\"colorbar\":{\"outlinewidth\":0,\"ticks\":\"\"}}}],\"carpet\":[{\"aaxis\":{\"endlinecolor\":\"#2a3f5f\",\"gridcolor\":\"white\",\"linecolor\":\"white\",\"minorgridcolor\":\"white\",\"startlinecolor\":\"#2a3f5f\"},\"baxis\":{\"endlinecolor\":\"#2a3f5f\",\"gridcolor\":\"white\",\"linecolor\":\"white\",\"minorgridcolor\":\"white\",\"startlinecolor\":\"#2a3f5f\"},\"type\":\"carpet\"}],\"table\":[{\"cells\":{\"fill\":{\"color\":\"#EBF0F8\"},\"line\":{\"color\":\"white\"}},\"header\":{\"fill\":{\"color\":\"#C8D4E3\"},\"line\":{\"color\":\"white\"}},\"type\":\"table\"}],\"barpolar\":[{\"marker\":{\"line\":{\"color\":\"#E5ECF6\",\"width\":0.5},\"pattern\":{\"fillmode\":\"overlay\",\"size\":10,\"solidity\":0.2}},\"type\":\"barpolar\"}],\"pie\":[{\"automargin\":true,\"type\":\"pie\"}]},\"layout\":{\"autotypenumbers\":\"strict\",\"colorway\":[\"#636efa\",\"#EF553B\",\"#00cc96\",\"#ab63fa\",\"#FFA15A\",\"#19d3f3\",\"#FF6692\",\"#B6E880\",\"#FF97FF\",\"#FECB52\"],\"font\":{\"color\":\"#2a3f5f\"},\"hovermode\":\"closest\",\"hoverlabel\":{\"align\":\"left\"},\"paper_bgcolor\":\"white\",\"plot_bgcolor\":\"#E5ECF6\",\"polar\":{\"bgcolor\":\"#E5ECF6\",\"angularaxis\":{\"gridcolor\":\"white\",\"linecolor\":\"white\",\"ticks\":\"\"},\"radialaxis\":{\"gridcolor\":\"white\",\"linecolor\":\"white\",\"ticks\":\"\"}},\"ternary\":{\"bgcolor\":\"#E5ECF6\",\"aaxis\":{\"gridcolor\":\"white\",\"linecolor\":\"white\",\"ticks\":\"\"},\"baxis\":{\"gridcolor\":\"white\",\"linecolor\":\"white\",\"ticks\":\"\"},\"caxis\":{\"gridcolor\":\"white\",\"linecolor\":\"white\",\"ticks\":\"\"}},\"coloraxis\":{\"colorbar\":{\"outlinewidth\":0,\"ticks\":\"\"}},\"colorscale\":{\"sequential\":[[0.0,\"#0d0887\"],[0.1111111111111111,\"#46039f\"],[0.2222222222222222,\"#7201a8\"],[0.3333333333333333,\"#9c179e\"],[0.4444444444444444,\"#bd3786\"],[0.5555555555555556,\"#d8576b\"],[0.6666666666666666,\"#ed7953\"],[0.7777777777777778,\"#fb9f3a\"],[0.8888888888888888,\"#fdca26\"],[1.0,\"#f0f921\"]],\"sequentialminus\":[[0.0,\"#0d0887\"],[0.1111111111111111,\"#46039f\"],[0.2222222222222222,\"#7201a8\"],[0.3333333333333333,\"#9c179e\"],[0.4444444444444444,\"#bd3786\"],[0.5555555555555556,\"#d8576b\"],[0.6666666666666666,\"#ed7953\"],[0.7777777777777778,\"#fb9f3a\"],[0.8888888888888888,\"#fdca26\"],[1.0,\"#f0f921\"]],\"diverging\":[[0,\"#8e0152\"],[0.1,\"#c51b7d\"],[0.2,\"#de77ae\"],[0.3,\"#f1b6da\"],[0.4,\"#fde0ef\"],[0.5,\"#f7f7f7\"],[0.6,\"#e6f5d0\"],[0.7,\"#b8e186\"],[0.8,\"#7fbc41\"],[0.9,\"#4d9221\"],[1,\"#276419\"]]},\"xaxis\":{\"gridcolor\":\"white\",\"linecolor\":\"white\",\"ticks\":\"\",\"title\":{\"standoff\":15},\"zerolinecolor\":\"white\",\"automargin\":true,\"zerolinewidth\":2},\"yaxis\":{\"gridcolor\":\"white\",\"linecolor\":\"white\",\"ticks\":\"\",\"title\":{\"standoff\":15},\"zerolinecolor\":\"white\",\"automargin\":true,\"zerolinewidth\":2},\"scene\":{\"xaxis\":{\"backgroundcolor\":\"#E5ECF6\",\"gridcolor\":\"white\",\"linecolor\":\"white\",\"showbackground\":true,\"ticks\":\"\",\"zerolinecolor\":\"white\",\"gridwidth\":2},\"yaxis\":{\"backgroundcolor\":\"#E5ECF6\",\"gridcolor\":\"white\",\"linecolor\":\"white\",\"showbackground\":true,\"ticks\":\"\",\"zerolinecolor\":\"white\",\"gridwidth\":2},\"zaxis\":{\"backgroundcolor\":\"#E5ECF6\",\"gridcolor\":\"white\",\"linecolor\":\"white\",\"showbackground\":true,\"ticks\":\"\",\"zerolinecolor\":\"white\",\"gridwidth\":2}},\"shapedefaults\":{\"line\":{\"color\":\"#2a3f5f\"}},\"annotationdefaults\":{\"arrowcolor\":\"#2a3f5f\",\"arrowhead\":0,\"arrowwidth\":1},\"geo\":{\"bgcolor\":\"white\",\"landcolor\":\"#E5ECF6\",\"subunitcolor\":\"white\",\"showland\":true,\"showlakes\":true,\"lakecolor\":\"white\"},\"title\":{\"x\":0.05},\"mapbox\":{\"style\":\"light\"}}},\"xaxis\":{\"anchor\":\"y\",\"domain\":[0.0,1.0],\"title\":{}},\"yaxis\":{\"anchor\":\"x\",\"domain\":[0.0,1.0],\"title\":{},\"showline\":false,\"showgrid\":false,\"showticklabels\":false},\"legend\":{\"title\":{\"text\":\"payment_method\"},\"tracegroupgap\":0},\"margin\":{\"t\":60},\"barmode\":\"group\",\"height\":600,\"title\":{\"text\":\"Clustered Bar Chart of Log Total Price by Category and Payment Method\",\"x\":0.5},\"plot_bgcolor\":\"white\",\"paper_bgcolor\":\"white\"},                        {\"responsive\": true}                    ).then(function(){\n",
       "                            \n",
       "var gd = document.getElementById('3e5e21d4-5c0f-4e8b-a923-fd068eb08824');\n",
       "var x = new MutationObserver(function (mutations, observer) {{\n",
       "        var display = window.getComputedStyle(gd).display;\n",
       "        if (!display || display === 'none') {{\n",
       "            console.log([gd, 'removed!']);\n",
       "            Plotly.purge(gd);\n",
       "            observer.disconnect();\n",
       "        }}\n",
       "}});\n",
       "\n",
       "// Listen for the removal of the full notebook cells\n",
       "var notebookContainer = gd.closest('#notebook-container');\n",
       "if (notebookContainer) {{\n",
       "    x.observe(notebookContainer, {childList: true});\n",
       "}}\n",
       "\n",
       "// Listen for the clearing of the current output cell\n",
       "var outputEl = gd.closest('.output');\n",
       "if (outputEl) {{\n",
       "    x.observe(outputEl, {childList: true});\n",
       "}}\n",
       "\n",
       "                        })                };                });            </script>        </div>"
      ]
     },
     "metadata": {},
     "output_type": "display_data"
    }
   ],
   "source": [
    "# converting 'payment_method' column to categorical\n",
    "df['payment_method'] = pd.Categorical(df['payment_method'])\n",
    "\n",
    "# grouping by 'category' and 'payment_method', and calculating sum of log total price\n",
    "grouped_df = df.groupby(['category', 'payment_method'])['lntotalprice'].sum().reset_index()\n",
    "\n",
    "# getting unique payment methods and define colors\n",
    "payment_methods = grouped_df['payment_method'].unique()\n",
    "colors = px.colors.qualitative.Set1[:len(payment_methods)]\n",
    "\n",
    "# creating a clustered bar chart using Plotly Express\n",
    "fig = px.bar(\n",
    "    grouped_df,\n",
    "    x='category',\n",
    "    y='lntotalprice',\n",
    "    color='payment_method',\n",
    "    color_discrete_sequence=colors,\n",
    "    text=grouped_df['lntotalprice'].round(0).astype(int),  # displaying integers (rounded lnprice) as text\n",
    "    height=600,\n",
    ")\n",
    "\n",
    "# customizing the layout\n",
    "fig.update_layout(\n",
    "    barmode='group',  # setting the bar mode to 'group' for clustered bars\n",
    "    plot_bgcolor='white',\n",
    "    paper_bgcolor='white',\n",
    "    title='Clustered Bar Chart of Log Total Price by Category and Payment Method',\n",
    "    title_x=0.5,  # centering the main title\n",
    "    xaxis_title=None,  # removing x-axis title\n",
    "    yaxis_title=None,  # removing y-axis title\n",
    "    yaxis=dict(showline=False, showgrid=False, showticklabels=False),  # removing y-axis\n",
    ")\n",
    "\n",
    "# showing the plot\n",
    "fig.show()"
   ]
  },
  {
   "cell_type": "code",
   "execution_count": 94,
   "id": "44c9e4a3-579a-48d0-9068-79efcaebff90",
   "metadata": {},
   "outputs": [
    {
     "data": {
      "text/html": [
       "<div>\n",
       "<style scoped>\n",
       "    .dataframe tbody tr th:only-of-type {\n",
       "        vertical-align: middle;\n",
       "    }\n",
       "\n",
       "    .dataframe tbody tr th {\n",
       "        vertical-align: top;\n",
       "    }\n",
       "\n",
       "    .dataframe thead th {\n",
       "        text-align: right;\n",
       "    }\n",
       "</style>\n",
       "<table border=\"1\" class=\"dataframe\">\n",
       "  <thead>\n",
       "    <tr style=\"text-align: right;\">\n",
       "      <th></th>\n",
       "      <th>age</th>\n",
       "      <th>lnage</th>\n",
       "      <th>quantity</th>\n",
       "      <th>price</th>\n",
       "      <th>total_price</th>\n",
       "      <th>lntotalprice</th>\n",
       "      <th>female</th>\n",
       "    </tr>\n",
       "  </thead>\n",
       "  <tbody>\n",
       "    <tr>\n",
       "      <th>count</th>\n",
       "      <td>45551.000000</td>\n",
       "      <td>45551.000000</td>\n",
       "      <td>45551.000000</td>\n",
       "      <td>45551.000000</td>\n",
       "      <td>45551.000000</td>\n",
       "      <td>45551.000000</td>\n",
       "      <td>45551.000000</td>\n",
       "    </tr>\n",
       "    <tr>\n",
       "      <th>mean</th>\n",
       "      <td>43.400847</td>\n",
       "      <td>3.703257</td>\n",
       "      <td>3.010845</td>\n",
       "      <td>688.338741</td>\n",
       "      <td>2533.809730</td>\n",
       "      <td>5.685978</td>\n",
       "      <td>0.596957</td>\n",
       "    </tr>\n",
       "    <tr>\n",
       "      <th>std</th>\n",
       "      <td>14.987844</td>\n",
       "      <td>0.379641</td>\n",
       "      <td>1.413256</td>\n",
       "      <td>945.139943</td>\n",
       "      <td>4247.158044</td>\n",
       "      <td>2.108861</td>\n",
       "      <td>0.490515</td>\n",
       "    </tr>\n",
       "    <tr>\n",
       "      <th>min</th>\n",
       "      <td>18.000000</td>\n",
       "      <td>2.890372</td>\n",
       "      <td>1.000000</td>\n",
       "      <td>5.000000</td>\n",
       "      <td>5.000000</td>\n",
       "      <td>1.000000</td>\n",
       "      <td>0.000000</td>\n",
       "    </tr>\n",
       "    <tr>\n",
       "      <th>25%</th>\n",
       "      <td>30.000000</td>\n",
       "      <td>3.401197</td>\n",
       "      <td>2.000000</td>\n",
       "      <td>40.000000</td>\n",
       "      <td>130.000000</td>\n",
       "      <td>4.000000</td>\n",
       "      <td>0.000000</td>\n",
       "    </tr>\n",
       "    <tr>\n",
       "      <th>50%</th>\n",
       "      <td>43.000000</td>\n",
       "      <td>3.761200</td>\n",
       "      <td>3.000000</td>\n",
       "      <td>203.000000</td>\n",
       "      <td>600.000000</td>\n",
       "      <td>6.000000</td>\n",
       "      <td>1.000000</td>\n",
       "    </tr>\n",
       "    <tr>\n",
       "      <th>75%</th>\n",
       "      <td>56.000000</td>\n",
       "      <td>4.025352</td>\n",
       "      <td>4.000000</td>\n",
       "      <td>1200.000000</td>\n",
       "      <td>2700.000000</td>\n",
       "      <td>7.000000</td>\n",
       "      <td>1.000000</td>\n",
       "    </tr>\n",
       "    <tr>\n",
       "      <th>max</th>\n",
       "      <td>69.000000</td>\n",
       "      <td>4.234107</td>\n",
       "      <td>5.000000</td>\n",
       "      <td>5250.000000</td>\n",
       "      <td>26250.000000</td>\n",
       "      <td>10.000000</td>\n",
       "      <td>1.000000</td>\n",
       "    </tr>\n",
       "  </tbody>\n",
       "</table>\n",
       "</div>"
      ],
      "text/plain": [
       "                age         lnage      quantity         price   total_price  \\\n",
       "count  45551.000000  45551.000000  45551.000000  45551.000000  45551.000000   \n",
       "mean      43.400847      3.703257      3.010845    688.338741   2533.809730   \n",
       "std       14.987844      0.379641      1.413256    945.139943   4247.158044   \n",
       "min       18.000000      2.890372      1.000000      5.000000      5.000000   \n",
       "25%       30.000000      3.401197      2.000000     40.000000    130.000000   \n",
       "50%       43.000000      3.761200      3.000000    203.000000    600.000000   \n",
       "75%       56.000000      4.025352      4.000000   1200.000000   2700.000000   \n",
       "max       69.000000      4.234107      5.000000   5250.000000  26250.000000   \n",
       "\n",
       "       lntotalprice        female  \n",
       "count  45551.000000  45551.000000  \n",
       "mean       5.685978      0.596957  \n",
       "std        2.108861      0.490515  \n",
       "min        1.000000      0.000000  \n",
       "25%        4.000000      0.000000  \n",
       "50%        6.000000      1.000000  \n",
       "75%        7.000000      1.000000  \n",
       "max       10.000000      1.000000  "
      ]
     },
     "execution_count": 94,
     "metadata": {},
     "output_type": "execute_result"
    }
   ],
   "source": [
    "df.loc[:, [\"age\", \"lnage\", \"quantity\", \"price\", \"total_price\", \"lntotalprice\", \"female\", ]].describe()"
   ]
  },
  {
   "cell_type": "markdown",
   "id": "2e19d628-4504-44cb-b3ad-4dcff62b8cdc",
   "metadata": {},
   "source": [
    "## LOG-LEVEL REGRESSION\n",
    "\n",
    "$(\\ln{totalprice})^E = \\alpha + \\beta \\times age$"
   ]
  },
  {
   "cell_type": "code",
   "execution_count": 95,
   "id": "8a2ae095-c5e5-4145-a4f4-3713497e8dd0",
   "metadata": {},
   "outputs": [
    {
     "data": {
      "text/html": [
       "<table class=\"simpletable\">\n",
       "<caption>OLS Regression Results</caption>\n",
       "<tr>\n",
       "  <th>Dep. Variable:</th>      <td>lntotalprice</td>   <th>  R-squared:         </th> <td>   0.030</td>\n",
       "</tr>\n",
       "<tr>\n",
       "  <th>Model:</th>                   <td>OLS</td>       <th>  Adj. R-squared:    </th> <td>   0.010</td>\n",
       "</tr>\n",
       "<tr>\n",
       "  <th>Method:</th>             <td>Least Squares</td>  <th>  F-statistic:       </th> <td>   1.911</td>\n",
       "</tr>\n",
       "<tr>\n",
       "  <th>Date:</th>             <td>Sun, 24 Dec 2023</td> <th>  Prob (F-statistic):</th>  <td> 0.173</td> \n",
       "</tr>\n",
       "<tr>\n",
       "  <th>Time:</th>                 <td>01:41:29</td>     <th>  Log-Likelihood:    </th> <td>  64.444</td>\n",
       "</tr>\n",
       "<tr>\n",
       "  <th>No. Observations:</th>      <td>    52</td>      <th>  AIC:               </th> <td>  -124.9</td>\n",
       "</tr>\n",
       "<tr>\n",
       "  <th>Df Residuals:</th>          <td>    50</td>      <th>  BIC:               </th> <td>  -121.0</td>\n",
       "</tr>\n",
       "<tr>\n",
       "  <th>Df Model:</th>              <td>     1</td>      <th>                     </th>     <td> </td>   \n",
       "</tr>\n",
       "<tr>\n",
       "  <th>Covariance Type:</th>         <td>HC1</td>       <th>                     </th>     <td> </td>   \n",
       "</tr>\n",
       "</table>\n",
       "<table class=\"simpletable\">\n",
       "<tr>\n",
       "      <td></td>         <th>coef</th>     <th>std err</th>      <th>z</th>      <th>P>|z|</th>  <th>[0.025</th>    <th>0.975]</th>  \n",
       "</tr>\n",
       "<tr>\n",
       "  <th>Intercept</th> <td>    5.6500</td> <td>    0.030</td> <td>  188.911</td> <td> 0.000</td> <td>    5.591</td> <td>    5.709</td>\n",
       "</tr>\n",
       "<tr>\n",
       "  <th>age</th>       <td>    0.0008</td> <td>    0.001</td> <td>    1.383</td> <td> 0.167</td> <td>   -0.000</td> <td>    0.002</td>\n",
       "</tr>\n",
       "</table>\n",
       "<table class=\"simpletable\">\n",
       "<tr>\n",
       "  <th>Omnibus:</th>       <td> 3.001</td> <th>  Durbin-Watson:     </th> <td>   2.422</td>\n",
       "</tr>\n",
       "<tr>\n",
       "  <th>Prob(Omnibus):</th> <td> 0.223</td> <th>  Jarque-Bera (JB):  </th> <td>   2.640</td>\n",
       "</tr>\n",
       "<tr>\n",
       "  <th>Skew:</th>          <td> 0.455</td> <th>  Prob(JB):          </th> <td>   0.267</td>\n",
       "</tr>\n",
       "<tr>\n",
       "  <th>Kurtosis:</th>      <td> 2.375</td> <th>  Cond. No.          </th> <td>    141.</td>\n",
       "</tr>\n",
       "</table><br/><br/>Notes:<br/>[1] Standard Errors are heteroscedasticity robust (HC1)"
      ],
      "text/latex": [
       "\\begin{center}\n",
       "\\begin{tabular}{lclc}\n",
       "\\toprule\n",
       "\\textbf{Dep. Variable:}    &   lntotalprice   & \\textbf{  R-squared:         } &     0.030   \\\\\n",
       "\\textbf{Model:}            &       OLS        & \\textbf{  Adj. R-squared:    } &     0.010   \\\\\n",
       "\\textbf{Method:}           &  Least Squares   & \\textbf{  F-statistic:       } &     1.911   \\\\\n",
       "\\textbf{Date:}             & Sun, 24 Dec 2023 & \\textbf{  Prob (F-statistic):} &    0.173    \\\\\n",
       "\\textbf{Time:}             &     01:41:29     & \\textbf{  Log-Likelihood:    } &    64.444   \\\\\n",
       "\\textbf{No. Observations:} &          52      & \\textbf{  AIC:               } &    -124.9   \\\\\n",
       "\\textbf{Df Residuals:}     &          50      & \\textbf{  BIC:               } &    -121.0   \\\\\n",
       "\\textbf{Df Model:}         &           1      & \\textbf{                     } &             \\\\\n",
       "\\textbf{Covariance Type:}  &       HC1        & \\textbf{                     } &             \\\\\n",
       "\\bottomrule\n",
       "\\end{tabular}\n",
       "\\begin{tabular}{lcccccc}\n",
       "                   & \\textbf{coef} & \\textbf{std err} & \\textbf{z} & \\textbf{P$> |$z$|$} & \\textbf{[0.025} & \\textbf{0.975]}  \\\\\n",
       "\\midrule\n",
       "\\textbf{Intercept} &       5.6500  &        0.030     &   188.911  &         0.000        &        5.591    &        5.709     \\\\\n",
       "\\textbf{age}       &       0.0008  &        0.001     &     1.383  &         0.167        &       -0.000    &        0.002     \\\\\n",
       "\\bottomrule\n",
       "\\end{tabular}\n",
       "\\begin{tabular}{lclc}\n",
       "\\textbf{Omnibus:}       &  3.001 & \\textbf{  Durbin-Watson:     } &    2.422  \\\\\n",
       "\\textbf{Prob(Omnibus):} &  0.223 & \\textbf{  Jarque-Bera (JB):  } &    2.640  \\\\\n",
       "\\textbf{Skew:}          &  0.455 & \\textbf{  Prob(JB):          } &    0.267  \\\\\n",
       "\\textbf{Kurtosis:}      &  2.375 & \\textbf{  Cond. No.          } &     141.  \\\\\n",
       "\\bottomrule\n",
       "\\end{tabular}\n",
       "%\\caption{OLS Regression Results}\n",
       "\\end{center}\n",
       "\n",
       "Notes: \\newline\n",
       " [1] Standard Errors are heteroscedasticity robust (HC1)"
      ],
      "text/plain": [
       "<class 'statsmodels.iolib.summary.Summary'>\n",
       "\"\"\"\n",
       "                            OLS Regression Results                            \n",
       "==============================================================================\n",
       "Dep. Variable:           lntotalprice   R-squared:                       0.030\n",
       "Model:                            OLS   Adj. R-squared:                  0.010\n",
       "Method:                 Least Squares   F-statistic:                     1.911\n",
       "Date:                Sun, 24 Dec 2023   Prob (F-statistic):              0.173\n",
       "Time:                        01:41:29   Log-Likelihood:                 64.444\n",
       "No. Observations:                  52   AIC:                            -124.9\n",
       "Df Residuals:                      50   BIC:                            -121.0\n",
       "Df Model:                           1                                         \n",
       "Covariance Type:                  HC1                                         \n",
       "==============================================================================\n",
       "                 coef    std err          z      P>|z|      [0.025      0.975]\n",
       "------------------------------------------------------------------------------\n",
       "Intercept      5.6500      0.030    188.911      0.000       5.591       5.709\n",
       "age            0.0008      0.001      1.383      0.167      -0.000       0.002\n",
       "==============================================================================\n",
       "Omnibus:                        3.001   Durbin-Watson:                   2.422\n",
       "Prob(Omnibus):                  0.223   Jarque-Bera (JB):                2.640\n",
       "Skew:                           0.455   Prob(JB):                        0.267\n",
       "Kurtosis:                       2.375   Cond. No.                         141.\n",
       "==============================================================================\n",
       "\n",
       "Notes:\n",
       "[1] Standard Errors are heteroscedasticity robust (HC1)\n",
       "\"\"\""
      ]
     },
     "execution_count": 95,
     "metadata": {},
     "output_type": "execute_result"
    }
   ],
   "source": [
    "# grouping lntotalprice mean by age\n",
    "average_lntotalprice_by_age = df.groupby('age')['lntotalprice'].mean().reset_index()\n",
    "\n",
    "# log-level regression\n",
    "reg2 = smf.ols(formula=\"lntotalprice~age\", data=average_lntotalprice_by_age).fit(cov_type=\"HC1\")\n",
    "reg2.summary()"
   ]
  },
  {
   "cell_type": "markdown",
   "id": "8e5f6936-5e75-42d1-967d-ffdea88b7613",
   "metadata": {},
   "source": [
    "* If the age increases by 1, the logarithmic total price value increases by 0.08% on average. Confidence interval goes from 5.709 to 0.002 which is quite wide. It can be understood that we can be 95% confident that average difference between log total price of people who have 1 year difference between their ages is between 5.709 and 0.002 and this interval does not include 0 that means that our coefficient (0.0008) is statistically significant."
   ]
  },
  {
   "cell_type": "code",
   "execution_count": 96,
   "id": "9b3674fe-05d4-481b-80b3-07c0d4a50db4",
   "metadata": {},
   "outputs": [
    {
     "data": {
      "image/png": "[encoded data removed]",
      "text/plain": [
       "<Figure size 640x480 with 1 Axes>"
      ]
     },
     "metadata": {
      "image/png": {
       "height": 480,
       "width": 640
      }
     },
     "output_type": "display_data"
    },
    {
     "data": {
      "text/plain": [
       "<Figure Size: (640 x 480)>"
      ]
     },
     "execution_count": 96,
     "metadata": {},
     "output_type": "execute_result"
    }
   ],
   "source": [
    "(\n",
    "    ggplot(average_lntotalprice_by_age, aes(x=\"age\", y=\"lntotalprice\"))\n",
    "    + geom_point(color=color[0])\n",
    "    + geom_smooth(color=color[1], method=\"lm\", se=False)\n",
    "    + labs(x=\"Age)\", y=\"Ln(Total Price(TL)\")\n",
    "    + theme_bw()\n",
    ")"
   ]
  },
  {
   "cell_type": "markdown",
   "id": "2bee3af4-3d9b-4d7c-9679-4e03d833642b",
   "metadata": {},
   "source": [
    "* Since the results obtained with log-log, level-log and level-level plots were not more reasonable than log-level, it was decided to proceed with log-level."
   ]
  },
  {
   "cell_type": "markdown",
   "id": "5fb98b4c-85b9-4b24-bb70-e41257209580",
   "metadata": {},
   "source": [
    "## Log total price and age: regression that capture nonlinearity"
   ]
  },
  {
   "cell_type": "code",
   "execution_count": 97,
   "id": "30363d65-3cd0-46e6-a1a2-f11ceb48c420",
   "metadata": {},
   "outputs": [
    {
     "data": {
      "image/png": "[encoded data removed]",
      "text/plain": [
       "<Figure size 640x480 with 1 Axes>"
      ]
     },
     "metadata": {
      "image/png": {
       "height": 480,
       "width": 640
      }
     },
     "output_type": "display_data"
    },
    {
     "data": {
      "text/plain": [
       "<Figure Size: (640 x 480)>"
      ]
     },
     "execution_count": 97,
     "metadata": {},
     "output_type": "execute_result"
    }
   ],
   "source": [
    "(\n",
    "    ggplot(average_lntotalprice_by_age, aes(x=\"age\", y=\"lntotalprice\"))\n",
    "    + geom_point(color=color[0])\n",
    "    + geom_smooth(method=\"loess\", color=color[1], se=False)\n",
    "    + labs(x=\"Age (years)\", y=\"ln(totalprice)\")\n",
    "    + theme_bw()\n",
    ")"
   ]
  },
  {
   "cell_type": "markdown",
   "id": "ca8691d1-3c4c-414d-a030-61b11ea6627f",
   "metadata": {},
   "source": [
    "Total expenditure difference are slightly higher for older ages among young adults: average total expenditure is about 0.02 log unit more for 35-year-old people than for 18-year-old clients\n",
    "\n",
    "People between 35 and 45 years old have the most difference in terms of total expenditure. Old age values are near to young people\n",
    "\n",
    "- increasing for middle age\n",
    "- flat middle\n",
    "- slightly decreasing for older\n",
    "- Knots at 30 and 50\n"
   ]
  },
  {
   "cell_type": "markdown",
   "id": "5c051fac-e6a6-45d7-839f-d32bfa27e7e4",
   "metadata": {},
   "source": [
    "Need to approximate the lowess curve with\n",
    "\n",
    "* quadratic model\n",
    "* piecewise linear spline with knots at 30 and 50"
   ]
  },
  {
   "cell_type": "markdown",
   "id": "66115e57-40fe-463e-8255-f9a72a4c7f63",
   "metadata": {},
   "source": [
    "## Quadratic Model"
   ]
  },
  {
   "cell_type": "code",
   "execution_count": 98,
   "id": "01d8a8ab-48e9-4312-8279-cb9f2942b325",
   "metadata": {},
   "outputs": [],
   "source": [
    "average_lntotalprice_by_age[\"agesq\"] = np.power(average_lntotalprice_by_age[\"age\"], 2)"
   ]
  },
  {
   "cell_type": "code",
   "execution_count": 99,
   "id": "04bae521-5049-44fc-89db-d4a1bbff58bd",
   "metadata": {},
   "outputs": [
    {
     "data": {
      "text/html": [
       "<table class=\"simpletable\">\n",
       "<caption>OLS Regression Results</caption>\n",
       "<tr>\n",
       "  <th>Dep. Variable:</th>      <td>lntotalprice</td>   <th>  R-squared:         </th> <td>   0.047</td>\n",
       "</tr>\n",
       "<tr>\n",
       "  <th>Model:</th>                   <td>OLS</td>       <th>  Adj. R-squared:    </th> <td>   0.008</td>\n",
       "</tr>\n",
       "<tr>\n",
       "  <th>Method:</th>             <td>Least Squares</td>  <th>  F-statistic:       </th> <td>   1.014</td>\n",
       "</tr>\n",
       "<tr>\n",
       "  <th>Date:</th>             <td>Sun, 24 Dec 2023</td> <th>  Prob (F-statistic):</th>  <td> 0.370</td> \n",
       "</tr>\n",
       "<tr>\n",
       "  <th>Time:</th>                 <td>01:41:30</td>     <th>  Log-Likelihood:    </th> <td>  64.912</td>\n",
       "</tr>\n",
       "<tr>\n",
       "  <th>No. Observations:</th>      <td>    52</td>      <th>  AIC:               </th> <td>  -123.8</td>\n",
       "</tr>\n",
       "<tr>\n",
       "  <th>Df Residuals:</th>          <td>    49</td>      <th>  BIC:               </th> <td>  -118.0</td>\n",
       "</tr>\n",
       "<tr>\n",
       "  <th>Df Model:</th>              <td>     2</td>      <th>                     </th>     <td> </td>   \n",
       "</tr>\n",
       "<tr>\n",
       "  <th>Covariance Type:</th>         <td>HC1</td>       <th>                     </th>     <td> </td>   \n",
       "</tr>\n",
       "</table>\n",
       "<table class=\"simpletable\">\n",
       "<tr>\n",
       "      <td></td>         <th>coef</th>     <th>std err</th>      <th>z</th>      <th>P>|z|</th>  <th>[0.025</th>    <th>0.975]</th>  \n",
       "</tr>\n",
       "<tr>\n",
       "  <th>Intercept</th> <td>    5.5725</td> <td>    0.099</td> <td>   56.165</td> <td> 0.000</td> <td>    5.378</td> <td>    5.767</td>\n",
       "</tr>\n",
       "<tr>\n",
       "  <th>age</th>       <td>    0.0049</td> <td>    0.005</td> <td>    1.018</td> <td> 0.308</td> <td>   -0.004</td> <td>    0.014</td>\n",
       "</tr>\n",
       "<tr>\n",
       "  <th>agesq</th>     <td>-4.649e-05</td> <td> 5.17e-05</td> <td>   -0.899</td> <td> 0.369</td> <td>   -0.000</td> <td> 5.49e-05</td>\n",
       "</tr>\n",
       "</table>\n",
       "<table class=\"simpletable\">\n",
       "<tr>\n",
       "  <th>Omnibus:</th>       <td> 2.495</td> <th>  Durbin-Watson:     </th> <td>   2.463</td>\n",
       "</tr>\n",
       "<tr>\n",
       "  <th>Prob(Omnibus):</th> <td> 0.287</td> <th>  Jarque-Bera (JB):  </th> <td>   2.139</td>\n",
       "</tr>\n",
       "<tr>\n",
       "  <th>Skew:</th>          <td> 0.379</td> <th>  Prob(JB):          </th> <td>   0.343</td>\n",
       "</tr>\n",
       "<tr>\n",
       "  <th>Kurtosis:</th>      <td> 2.358</td> <th>  Cond. No.          </th> <td>2.21e+04</td>\n",
       "</tr>\n",
       "</table><br/><br/>Notes:<br/>[1] Standard Errors are heteroscedasticity robust (HC1)<br/>[2] The condition number is large, 2.21e+04. This might indicate that there are<br/>strong multicollinearity or other numerical problems."
      ],
      "text/latex": [
       "\\begin{center}\n",
       "\\begin{tabular}{lclc}\n",
       "\\toprule\n",
       "\\textbf{Dep. Variable:}    &   lntotalprice   & \\textbf{  R-squared:         } &     0.047   \\\\\n",
       "\\textbf{Model:}            &       OLS        & \\textbf{  Adj. R-squared:    } &     0.008   \\\\\n",
       "\\textbf{Method:}           &  Least Squares   & \\textbf{  F-statistic:       } &     1.014   \\\\\n",
       "\\textbf{Date:}             & Sun, 24 Dec 2023 & \\textbf{  Prob (F-statistic):} &    0.370    \\\\\n",
       "\\textbf{Time:}             &     01:41:30     & \\textbf{  Log-Likelihood:    } &    64.912   \\\\\n",
       "\\textbf{No. Observations:} &          52      & \\textbf{  AIC:               } &    -123.8   \\\\\n",
       "\\textbf{Df Residuals:}     &          49      & \\textbf{  BIC:               } &    -118.0   \\\\\n",
       "\\textbf{Df Model:}         &           2      & \\textbf{                     } &             \\\\\n",
       "\\textbf{Covariance Type:}  &       HC1        & \\textbf{                     } &             \\\\\n",
       "\\bottomrule\n",
       "\\end{tabular}\n",
       "\\begin{tabular}{lcccccc}\n",
       "                   & \\textbf{coef} & \\textbf{std err} & \\textbf{z} & \\textbf{P$> |$z$|$} & \\textbf{[0.025} & \\textbf{0.975]}  \\\\\n",
       "\\midrule\n",
       "\\textbf{Intercept} &       5.5725  &        0.099     &    56.165  &         0.000        &        5.378    &        5.767     \\\\\n",
       "\\textbf{age}       &       0.0049  &        0.005     &     1.018  &         0.308        &       -0.004    &        0.014     \\\\\n",
       "\\textbf{agesq}     &   -4.649e-05  &     5.17e-05     &    -0.899  &         0.369        &       -0.000    &     5.49e-05     \\\\\n",
       "\\bottomrule\n",
       "\\end{tabular}\n",
       "\\begin{tabular}{lclc}\n",
       "\\textbf{Omnibus:}       &  2.495 & \\textbf{  Durbin-Watson:     } &    2.463  \\\\\n",
       "\\textbf{Prob(Omnibus):} &  0.287 & \\textbf{  Jarque-Bera (JB):  } &    2.139  \\\\\n",
       "\\textbf{Skew:}          &  0.379 & \\textbf{  Prob(JB):          } &    0.343  \\\\\n",
       "\\textbf{Kurtosis:}      &  2.358 & \\textbf{  Cond. No.          } & 2.21e+04  \\\\\n",
       "\\bottomrule\n",
       "\\end{tabular}\n",
       "%\\caption{OLS Regression Results}\n",
       "\\end{center}\n",
       "\n",
       "Notes: \\newline\n",
       " [1] Standard Errors are heteroscedasticity robust (HC1) \\newline\n",
       " [2] The condition number is large, 2.21e+04. This might indicate that there are \\newline\n",
       " strong multicollinearity or other numerical problems."
      ],
      "text/plain": [
       "<class 'statsmodels.iolib.summary.Summary'>\n",
       "\"\"\"\n",
       "                            OLS Regression Results                            \n",
       "==============================================================================\n",
       "Dep. Variable:           lntotalprice   R-squared:                       0.047\n",
       "Model:                            OLS   Adj. R-squared:                  0.008\n",
       "Method:                 Least Squares   F-statistic:                     1.014\n",
       "Date:                Sun, 24 Dec 2023   Prob (F-statistic):              0.370\n",
       "Time:                        01:41:30   Log-Likelihood:                 64.912\n",
       "No. Observations:                  52   AIC:                            -123.8\n",
       "Df Residuals:                      49   BIC:                            -118.0\n",
       "Df Model:                           2                                         \n",
       "Covariance Type:                  HC1                                         \n",
       "==============================================================================\n",
       "                 coef    std err          z      P>|z|      [0.025      0.975]\n",
       "------------------------------------------------------------------------------\n",
       "Intercept      5.5725      0.099     56.165      0.000       5.378       5.767\n",
       "age            0.0049      0.005      1.018      0.308      -0.004       0.014\n",
       "agesq      -4.649e-05   5.17e-05     -0.899      0.369      -0.000    5.49e-05\n",
       "==============================================================================\n",
       "Omnibus:                        2.495   Durbin-Watson:                   2.463\n",
       "Prob(Omnibus):                  0.287   Jarque-Bera (JB):                2.139\n",
       "Skew:                           0.379   Prob(JB):                        0.343\n",
       "Kurtosis:                       2.358   Cond. No.                     2.21e+04\n",
       "==============================================================================\n",
       "\n",
       "Notes:\n",
       "[1] Standard Errors are heteroscedasticity robust (HC1)\n",
       "[2] The condition number is large, 2.21e+04. This might indicate that there are\n",
       "strong multicollinearity or other numerical problems.\n",
       "\"\"\""
      ]
     },
     "execution_count": 99,
     "metadata": {},
     "output_type": "execute_result"
    }
   ],
   "source": [
    "reg5 = smf.ols(formula=\"lntotalprice~age+agesq\", data=average_lntotalprice_by_age).fit(cov_type=\"HC1\")\n",
    "reg5.summary()"
   ]
  },
  {
   "cell_type": "code",
   "execution_count": 100,
   "id": "b188c636-0ef0-4c40-b5c7-c20675af62e0",
   "metadata": {},
   "outputs": [
    {
     "data": {
      "image/png": "[encoded data removed]",
      "text/plain": [
       "<Figure size 640x480 with 1 Axes>"
      ]
     },
     "metadata": {
      "image/png": {
       "height": 480,
       "width": 640
      }
     },
     "output_type": "display_data"
    },
    {
     "data": {
      "text/plain": [
       "<Figure Size: (640 x 480)>"
      ]
     },
     "execution_count": 100,
     "metadata": {},
     "output_type": "execute_result"
    }
   ],
   "source": [
    "(\n",
    "    ggplot(average_lntotalprice_by_age, aes(x=\"age\", y=\"lntotalprice\"),\n",
    "    )\n",
    "    + geom_point(color=color[0], size=1, alpha=0.8, show_legend=False, na_rm=True)\n",
    "    + stat_smooth(method=\"lm\", formula=\"y ~ poly(x,2)\", colour=color[1], se=False, size=0.8, linetype=\"solid\")\n",
    "    + labs(x=\"Age (years)\", y=\"ln(totalprice)\")\n",
    "    + theme_bw()\n",
    ")"
   ]
  },
  {
   "cell_type": "markdown",
   "id": "495944b4-663b-4f74-8a92-08f95f7cf65f",
   "metadata": {},
   "source": [
    "* Nearly same pattern with loess"
   ]
  },
  {
   "cell_type": "markdown",
   "id": "79674372-16fe-4696-8208-b747a22a43a0",
   "metadata": {},
   "source": [
    "## Piecewise Linear Spline with Knots at 30 and 50"
   ]
  },
  {
   "cell_type": "code",
   "execution_count": 101,
   "id": "4dea5dd8-9c6e-49ad-aab8-d7542c987ad6",
   "metadata": {},
   "outputs": [
    {
     "data": {
      "text/html": [
       "<table class=\"simpletable\">\n",
       "<caption>OLS Regression Results</caption>\n",
       "<tr>\n",
       "  <th>Dep. Variable:</th>      <td>lntotalprice</td>   <th>  R-squared:         </th> <td>   0.059</td>\n",
       "</tr>\n",
       "<tr>\n",
       "  <th>Model:</th>                   <td>OLS</td>       <th>  Adj. R-squared:    </th> <td>  -0.000</td>\n",
       "</tr>\n",
       "<tr>\n",
       "  <th>Method:</th>             <td>Least Squares</td>  <th>  F-statistic:       </th> <td>  0.8817</td>\n",
       "</tr>\n",
       "<tr>\n",
       "  <th>Date:</th>             <td>Sun, 24 Dec 2023</td> <th>  Prob (F-statistic):</th>  <td> 0.457</td> \n",
       "</tr>\n",
       "<tr>\n",
       "  <th>Time:</th>                 <td>01:41:30</td>     <th>  Log-Likelihood:    </th> <td>  65.227</td>\n",
       "</tr>\n",
       "<tr>\n",
       "  <th>No. Observations:</th>      <td>    52</td>      <th>  AIC:               </th> <td>  -122.5</td>\n",
       "</tr>\n",
       "<tr>\n",
       "  <th>Df Residuals:</th>          <td>    48</td>      <th>  BIC:               </th> <td>  -114.6</td>\n",
       "</tr>\n",
       "<tr>\n",
       "  <th>Df Model:</th>              <td>     3</td>      <th>                     </th>     <td> </td>   \n",
       "</tr>\n",
       "<tr>\n",
       "  <th>Covariance Type:</th>         <td>HC1</td>       <th>                     </th>     <td> </td>   \n",
       "</tr>\n",
       "</table>\n",
       "<table class=\"simpletable\">\n",
       "<tr>\n",
       "              <td></td>                 <th>coef</th>     <th>std err</th>      <th>z</th>      <th>P>|z|</th>  <th>[0.025</th>    <th>0.975]</th>  \n",
       "</tr>\n",
       "<tr>\n",
       "  <th>Intercept</th>                 <td>    5.6691</td> <td>    0.128</td> <td>   44.404</td> <td> 0.000</td> <td>    5.419</td> <td>    5.919</td>\n",
       "</tr>\n",
       "<tr>\n",
       "  <th>lspline(age, [30, 50])[0]</th> <td>   -0.0002</td> <td>    0.005</td> <td>   -0.049</td> <td> 0.961</td> <td>   -0.010</td> <td>    0.009</td>\n",
       "</tr>\n",
       "<tr>\n",
       "  <th>lspline(age, [30, 50])[1]</th> <td>    0.0026</td> <td>    0.002</td> <td>    1.292</td> <td> 0.197</td> <td>   -0.001</td> <td>    0.007</td>\n",
       "</tr>\n",
       "<tr>\n",
       "  <th>lspline(age, [30, 50])[2]</th> <td>   -0.0018</td> <td>    0.002</td> <td>   -0.850</td> <td> 0.395</td> <td>   -0.006</td> <td>    0.002</td>\n",
       "</tr>\n",
       "</table>\n",
       "<table class=\"simpletable\">\n",
       "<tr>\n",
       "  <th>Omnibus:</th>       <td> 1.769</td> <th>  Durbin-Watson:     </th> <td>   2.500</td>\n",
       "</tr>\n",
       "<tr>\n",
       "  <th>Prob(Omnibus):</th> <td> 0.413</td> <th>  Jarque-Bera (JB):  </th> <td>   1.551</td>\n",
       "</tr>\n",
       "<tr>\n",
       "  <th>Skew:</th>          <td> 0.286</td> <th>  Prob(JB):          </th> <td>   0.461</td>\n",
       "</tr>\n",
       "<tr>\n",
       "  <th>Kurtosis:</th>      <td> 2.376</td> <th>  Cond. No.          </th> <td>    333.</td>\n",
       "</tr>\n",
       "</table><br/><br/>Notes:<br/>[1] Standard Errors are heteroscedasticity robust (HC1)"
      ],
      "text/latex": [
       "\\begin{center}\n",
       "\\begin{tabular}{lclc}\n",
       "\\toprule\n",
       "\\textbf{Dep. Variable:}            &   lntotalprice   & \\textbf{  R-squared:         } &     0.059   \\\\\n",
       "\\textbf{Model:}                    &       OLS        & \\textbf{  Adj. R-squared:    } &    -0.000   \\\\\n",
       "\\textbf{Method:}                   &  Least Squares   & \\textbf{  F-statistic:       } &    0.8817   \\\\\n",
       "\\textbf{Date:}                     & Sun, 24 Dec 2023 & \\textbf{  Prob (F-statistic):} &    0.457    \\\\\n",
       "\\textbf{Time:}                     &     01:41:30     & \\textbf{  Log-Likelihood:    } &    65.227   \\\\\n",
       "\\textbf{No. Observations:}         &          52      & \\textbf{  AIC:               } &    -122.5   \\\\\n",
       "\\textbf{Df Residuals:}             &          48      & \\textbf{  BIC:               } &    -114.6   \\\\\n",
       "\\textbf{Df Model:}                 &           3      & \\textbf{                     } &             \\\\\n",
       "\\textbf{Covariance Type:}          &       HC1        & \\textbf{                     } &             \\\\\n",
       "\\bottomrule\n",
       "\\end{tabular}\n",
       "\\begin{tabular}{lcccccc}\n",
       "                                   & \\textbf{coef} & \\textbf{std err} & \\textbf{z} & \\textbf{P$> |$z$|$} & \\textbf{[0.025} & \\textbf{0.975]}  \\\\\n",
       "\\midrule\n",
       "\\textbf{Intercept}                 &       5.6691  &        0.128     &    44.404  &         0.000        &        5.419    &        5.919     \\\\\n",
       "\\textbf{lspline(age, [30, 50])[0]} &      -0.0002  &        0.005     &    -0.049  &         0.961        &       -0.010    &        0.009     \\\\\n",
       "\\textbf{lspline(age, [30, 50])[1]} &       0.0026  &        0.002     &     1.292  &         0.197        &       -0.001    &        0.007     \\\\\n",
       "\\textbf{lspline(age, [30, 50])[2]} &      -0.0018  &        0.002     &    -0.850  &         0.395        &       -0.006    &        0.002     \\\\\n",
       "\\bottomrule\n",
       "\\end{tabular}\n",
       "\\begin{tabular}{lclc}\n",
       "\\textbf{Omnibus:}       &  1.769 & \\textbf{  Durbin-Watson:     } &    2.500  \\\\\n",
       "\\textbf{Prob(Omnibus):} &  0.413 & \\textbf{  Jarque-Bera (JB):  } &    1.551  \\\\\n",
       "\\textbf{Skew:}          &  0.286 & \\textbf{  Prob(JB):          } &    0.461  \\\\\n",
       "\\textbf{Kurtosis:}      &  2.376 & \\textbf{  Cond. No.          } &     333.  \\\\\n",
       "\\bottomrule\n",
       "\\end{tabular}\n",
       "%\\caption{OLS Regression Results}\n",
       "\\end{center}\n",
       "\n",
       "Notes: \\newline\n",
       " [1] Standard Errors are heteroscedasticity robust (HC1)"
      ],
      "text/plain": [
       "<class 'statsmodels.iolib.summary.Summary'>\n",
       "\"\"\"\n",
       "                            OLS Regression Results                            \n",
       "==============================================================================\n",
       "Dep. Variable:           lntotalprice   R-squared:                       0.059\n",
       "Model:                            OLS   Adj. R-squared:                 -0.000\n",
       "Method:                 Least Squares   F-statistic:                    0.8817\n",
       "Date:                Sun, 24 Dec 2023   Prob (F-statistic):              0.457\n",
       "Time:                        01:41:30   Log-Likelihood:                 65.227\n",
       "No. Observations:                  52   AIC:                            -122.5\n",
       "Df Residuals:                      48   BIC:                            -114.6\n",
       "Df Model:                           3                                         \n",
       "Covariance Type:                  HC1                                         \n",
       "=============================================================================================\n",
       "                                coef    std err          z      P>|z|      [0.025      0.975]\n",
       "---------------------------------------------------------------------------------------------\n",
       "Intercept                     5.6691      0.128     44.404      0.000       5.419       5.919\n",
       "lspline(age, [30, 50])[0]    -0.0002      0.005     -0.049      0.961      -0.010       0.009\n",
       "lspline(age, [30, 50])[1]     0.0026      0.002      1.292      0.197      -0.001       0.007\n",
       "lspline(age, [30, 50])[2]    -0.0018      0.002     -0.850      0.395      -0.006       0.002\n",
       "==============================================================================\n",
       "Omnibus:                        1.769   Durbin-Watson:                   2.500\n",
       "Prob(Omnibus):                  0.413   Jarque-Bera (JB):                1.551\n",
       "Skew:                           0.286   Prob(JB):                        0.461\n",
       "Kurtosis:                       2.376   Cond. No.                         333.\n",
       "==============================================================================\n",
       "\n",
       "Notes:\n",
       "[1] Standard Errors are heteroscedasticity robust (HC1)\n",
       "\"\"\""
      ]
     },
     "execution_count": 101,
     "metadata": {},
     "output_type": "execute_result"
    }
   ],
   "source": [
    "reg6 = smf.ols(formula=\"lntotalprice~lspline(age,[30,50])\", data=average_lntotalprice_by_age).fit(cov_type=\"HC1\")\n",
    "reg6.summary()"
   ]
  },
  {
   "cell_type": "code",
   "execution_count": 102,
   "id": "f4ae64a5-b772-40c3-9290-309f494b717b",
   "metadata": {},
   "outputs": [
    {
     "data": {
      "text/html": [
       "<table style=\"text-align:center\"><tr><td colspan=\"4\" style=\"border-bottom: 1px solid black\"></td></tr>\n",
       "<tr><td style=\"text-align:left\"></td><td colspan=\"3\"><em>Dependent variable: lntotalprice</em></td></tr><tr><td style=\"text-align:left\"></td><tr><td style=\"text-align:left\"></td><td>(1)</td><td>(2)</td><td>(3)</td></tr>\n",
       "<tr><td colspan=\"4\" style=\"border-bottom: 1px solid black\"></td></tr>\n",
       "\n",
       "<tr><td style=\"text-align:left\">age</td><td>0.001<sup></sup></td><td>0.005<sup></sup></td><td></td></tr>\n",
       "<tr><td style=\"text-align:left\"></td><td>(0.001)</td><td>(0.005)</td><td></td></tr>\n",
       "<tr><td style=\"text-align:left\">age squared</td><td></td><td>-0.000<sup></sup></td><td></td></tr>\n",
       "<tr><td style=\"text-align:left\"></td><td></td><td>(0.000)</td><td></td></tr>\n",
       "<tr><td style=\"text-align:left\">age spline <30</td><td></td><td></td><td>-0.000<sup></sup></td></tr>\n",
       "<tr><td style=\"text-align:left\"></td><td></td><td></td><td>(0.005)</td></tr>\n",
       "<tr><td style=\"text-align:left\">age spline 30–50</td><td></td><td></td><td>0.003<sup></sup></td></tr>\n",
       "<tr><td style=\"text-align:left\"></td><td></td><td></td><td>(0.002)</td></tr>\n",
       "<tr><td style=\"text-align:left\">age spline 50<</td><td></td><td></td><td>-0.002<sup></sup></td></tr>\n",
       "<tr><td style=\"text-align:left\"></td><td></td><td></td><td>(0.002)</td></tr>\n",
       "<tr><td style=\"text-align:left\">Constant</td><td>5.650<sup>***</sup></td><td>5.573<sup>***</sup></td><td>5.669<sup>***</sup></td></tr>\n",
       "<tr><td style=\"text-align:left\"></td><td>(0.030)</td><td>(0.099)</td><td>(0.128)</td></tr>\n",
       "\n",
       "<td colspan=\"4\" style=\"border-bottom: 1px solid black\"></td></tr>\n",
       "<tr><td style=\"text-align: left\">Observations</td><td>52</td><td>52</td><td>52</td></tr><tr><td style=\"text-align: left\">R<sup>2</sup></td><td>0.030</td><td>0.047</td><td>0.059</td></tr><tr><td style=\"text-align: left\">Adjusted R<sup>2</sup></td><td>0.010</td><td>0.008</td><td>-0.000</td></tr><tr><td style=\"text-align: left\">Residual Std. Error</td><td>0.071 (df=50)</td><td>0.072 (df=49)</td><td>0.072 (df=48)</td></tr><tr><td style=\"text-align: left\">F Statistic</td><td>1.911<sup></sup> (df=1; 50)</td><td>1.014<sup></sup> (df=2; 49)</td><td>0.882<sup></sup> (df=3; 48)</td></tr>\n",
       "<tr><td colspan=\"4\" style=\"border-bottom: 1px solid black\"></td></tr><tr><td style=\"text-align: left\">Note:</td><td colspan=\"3\" style=\"text-align: right\"><sup>*</sup>p&lt;0.1; <sup>**</sup>p&lt;0.05; <sup>***</sup>p&lt;0.01</td></tr></table>"
      ],
      "text/plain": [
       "<stargazer.stargazer.Stargazer at 0x297b26b50>"
      ]
     },
     "execution_count": 102,
     "metadata": {},
     "output_type": "execute_result"
    }
   ],
   "source": [
    "stargazer = Stargazer([reg2, reg5, reg6])\n",
    "stargazer.covariate_order(\n",
    "    [\n",
    "        \"age\",\n",
    "        \"agesq\",\n",
    "        \"lspline(age, [30, 50])[0]\",\n",
    "        \"lspline(age, [30, 50])[1]\",\n",
    "        \"lspline(age, [30, 50])[2]\",\n",
    "        \"Intercept\",\n",
    "    ]\n",
    ")\n",
    "stargazer.rename_covariates(\n",
    "    {\n",
    "        \"Intercept\": \"Constant\",\n",
    "        \"agesq\": \"age squared\",\n",
    "        \"lspline(age, [30, 50])[0]\": \"age spline <30\",\n",
    "        \"lspline(age, [30, 50])[1]\": \"age spline 30–50\",\n",
    "        \"lspline(age, [30, 50])[2]\": \"age spline 50<\",\n",
    "    }\n",
    ")\n",
    "stargazer"
   ]
  },
  {
   "cell_type": "markdown",
   "id": "fa0d74d9-c99c-4341-9e24-d98c15736482",
   "metadata": {},
   "source": [
    "(1) Linear specification: Clients that are 1 year older are expected to spend 0.1% more on average (in this sample)\n",
    "\n",
    "(2) Piecewise linear spline with 2 knots (30, 50):\n",
    "\n",
    "among clients between 18 and 50, it does not matter.\n",
    "\n",
    "between 30 and 50, those 1 year older are expected to spend 0.2% higher \n",
    "\n",
    "above 50, estimate not statistically different from 0"
   ]
  },
  {
   "cell_type": "markdown",
   "id": "5245729c-5c82-4062-8ebd-6abd33a6adaf",
   "metadata": {},
   "source": [
    "## Log Total Price - age and gender"
   ]
  },
  {
   "cell_type": "code",
   "execution_count": 103,
   "id": "babac82a-b0a9-4a8a-804d-4c1db952fbb8",
   "metadata": {},
   "outputs": [],
   "source": [
    "average_lntotalprice_by_ageandfemale = df.groupby(['age', 'female'])['lntotalprice'].mean().reset_index()\n",
    "\n",
    "reg7 = smf.ols(\"lntotalprice~age+female\", data=average_lntotalprice_by_ageandfemale).fit(covtype=\"HC1\")\n",
    "reg8 = smf.ols(formula=\"age~female\", data=df).fit(cov_type=\"HC1\")"
   ]
  },
  {
   "cell_type": "code",
   "execution_count": 104,
   "id": "653a7104-76e0-4424-831b-4708529ac635",
   "metadata": {},
   "outputs": [
    {
     "data": {
      "text/html": [
       "<table style=\"text-align:center\"><tr><td colspan=\"3\" style=\"border-bottom: 1px solid black\"></td></tr>\n",
       "<tr><td style=\"text-align:left\"></td><tr><td></td><td colspan=\"1\">ln total price</td><td colspan=\"1\">age</td></tr><tr><td style=\"text-align:left\"></td><td>(1)</td><td>(2)</td></tr>\n",
       "<tr><td colspan=\"3\" style=\"border-bottom: 1px solid black\"></td></tr>\n",
       "\n",
       "<tr><td style=\"text-align:left\">female</td><td>-0.004<sup></sup></td><td>-0.051<sup></sup></td></tr>\n",
       "<tr><td style=\"text-align:left\"></td><td>(0.022)</td><td>(0.143)</td></tr>\n",
       "<tr><td style=\"text-align:left\">age</td><td>0.001<sup></sup></td><td></td></tr>\n",
       "<tr><td style=\"text-align:left\"></td><td>(0.001)</td><td></td></tr>\n",
       "<tr><td style=\"text-align:left\">Constant</td><td>5.641<sup>***</sup></td><td>43.431<sup>***</sup></td></tr>\n",
       "<tr><td style=\"text-align:left\"></td><td>(0.035)</td><td>(0.111)</td></tr>\n",
       "\n",
       "<td colspan=\"3\" style=\"border-bottom: 1px solid black\"></td></tr>\n",
       "<tr><td style=\"text-align: left\">Observations</td><td>104</td><td>45551</td></tr><tr><td style=\"text-align: left\">R<sup>2</sup></td><td>0.022</td><td>0.000</td></tr><tr><td style=\"text-align: left\">Adjusted R<sup>2</sup></td><td>0.003</td><td>-0.000</td></tr><tr><td style=\"text-align: left\">Residual Std. Error</td><td>0.112 (df=101)</td><td>14.988 (df=45549)</td></tr><tr><td style=\"text-align: left\">F Statistic</td><td>1.134<sup></sup> (df=2; 101)</td><td>0.126<sup></sup> (df=1; 45549)</td></tr>\n",
       "<tr><td colspan=\"3\" style=\"border-bottom: 1px solid black\"></td></tr><tr><td style=\"text-align: left\">Note:</td><td colspan=\"2\" style=\"text-align: right\"><sup>*</sup>p&lt;0.1; <sup>**</sup>p&lt;0.05; <sup>***</sup>p&lt;0.01</td></tr></table>"
      ],
      "text/plain": [
       "<stargazer.stargazer.Stargazer at 0x299e66990>"
      ]
     },
     "execution_count": 104,
     "metadata": {},
     "output_type": "execute_result"
    }
   ],
   "source": [
    "stargazer = Stargazer([reg7,reg8])\n",
    "stargazer.custom_columns([\"ln total price\", \"age\"], [1, 1])\n",
    "stargazer.covariate_order([\"female\", \"age\", \"Intercept\"])\n",
    "stargazer.rename_covariates({\"Intercept\": \"Constant\"})\n",
    "stargazer"
   ]
  },
  {
   "cell_type": "markdown",
   "id": "a9ee26d9-41b1-4b53-ae8e-33984eda8634",
   "metadata": {},
   "source": [
    "* Female clients are tend to spend 0.07 less than male clients on average. At same age, female clients are tend to spend 5.1 less than man on average"
   ]
  },
  {
   "cell_type": "markdown",
   "id": "ea0d535d-3c4c-4665-8417-1fa478d99e99",
   "metadata": {},
   "source": [
    "## Age distribution: Age distribution separately for males and females"
   ]
  },
  {
   "cell_type": "code",
   "execution_count": 105,
   "id": "086c6f40-f903-477a-a055-aad44554f014",
   "metadata": {},
   "outputs": [
    {
     "data": {
      "image/png": "[encoded data removed]",
      "text/plain": [
       "<Figure size 640x480 with 2 Axes>"
      ]
     },
     "metadata": {
      "image/png": {
       "height": 480,
       "width": 640
      }
     },
     "output_type": "display_data"
    },
    {
     "data": {
      "text/plain": [
       "<Figure Size: (640 x 480)>"
      ]
     },
     "execution_count": 105,
     "metadata": {},
     "output_type": "execute_result"
    }
   ],
   "source": [
    "(\n",
    "    ggplot(df, aes(x=\"age\", y=\"2*stat(count)/sum(stat(count))\"))\n",
    "    + geom_histogram(\n",
    "        binwidth=4,\n",
    "        color=\"white\",\n",
    "        fill=color[0],\n",
    "        size=0.25,\n",
    "        alpha=0.8,\n",
    "        show_legend=False,\n",
    "        na_rm=True,\n",
    "    )\n",
    "    + labs(x=\"Age (years)\", y=\"Percent\")\n",
    "    + facet_wrap(\"~female\", labeller={\"0\": \"Male\", \"1\": \"Female\"})\n",
    "    + labs(x=\"Age (years)\", y=\"Percent\")\n",
    "    + scale_x_continuous(\n",
    "        limits=(24, 64),\n",
    "        breaks=seq(25, 65, by=5),\n",
    "    )\n",
    "    + scale_y_continuous(\n",
    "        limits=(0, 0.15), breaks=seq(0, 0.15, by=0.02), labels=percent_format()\n",
    "    )\n",
    "    + theme_bw()\n",
    ")"
   ]
  },
  {
   "cell_type": "markdown",
   "id": "cab33fc6-a719-47ab-b690-649289bc6570",
   "metadata": {},
   "source": [
    "## Nonlinear pattern log totalprice - age\n",
    "* Including squared, cubic and power 4"
   ]
  },
  {
   "cell_type": "code",
   "execution_count": 106,
   "id": "07375b3e-a97f-4660-a5ac-9c2f5933d127",
   "metadata": {},
   "outputs": [],
   "source": [
    "average_lntotalprice_by_ageandfemale[\"agesq\"] = np.power(average_lntotalprice_by_ageandfemale[\"age\"], 2)\n",
    "average_lntotalprice_by_ageandfemale[\"agecu\"] = np.power(average_lntotalprice_by_ageandfemale[\"age\"], 3)\n",
    "average_lntotalprice_by_ageandfemale[\"agequ\"] = np.power(average_lntotalprice_by_ageandfemale[\"age\"], 4)"
   ]
  },
  {
   "cell_type": "code",
   "execution_count": 107,
   "id": "40913daa-a35d-4276-ac7d-6c7656f5c973",
   "metadata": {},
   "outputs": [],
   "source": [
    "reg9 = smf.ols(formula=\"lntotalprice~female\", data=average_lntotalprice_by_ageandfemale).fit(cov_type=\"HC1\") #unconditional\n",
    "reg10 = smf.ols(formula=\"lntotalprice~female+age\", data=average_lntotalprice_by_ageandfemale).fit(cov_type=\"HC1\") #age enters linearly\n",
    "reg11 = smf.ols(formula=\"lntotalprice~female+age+agesq\", data=average_lntotalprice_by_ageandfemale).fit(cov_type=\"HC1\") #add quadratic\n",
    "reg12 = smf.ols(formula=\"lntotalprice~female+age+agesq+agecu+agequ\", data=average_lntotalprice_by_ageandfemale).fit(cov_type=\"HC1\") #4-th order polynomial"
   ]
  },
  {
   "cell_type": "code",
   "execution_count": 108,
   "id": "1d6b214f-493a-48c9-a9f2-b11e1e826209",
   "metadata": {},
   "outputs": [
    {
     "data": {
      "text/html": [
       "<table style=\"text-align:center\"><tr><td colspan=\"5\" style=\"border-bottom: 1px solid black\"></td></tr>\n",
       "<tr><td style=\"text-align:left\"></td><td colspan=\"4\"><em>Dependent variable: lntotalprice</em></td></tr><tr><td style=\"text-align:left\"></td><tr><td style=\"text-align:left\"></td><td>(1)</td><td>(2)</td><td>(3)</td><td>(4)</td></tr>\n",
       "<tr><td colspan=\"5\" style=\"border-bottom: 1px solid black\"></td></tr>\n",
       "\n",
       "<tr><td style=\"text-align:left\">female</td><td>-0.004<sup></sup></td><td>-0.004<sup></sup></td><td>-0.004<sup></sup></td><td>-0.004<sup></sup></td></tr>\n",
       "<tr><td style=\"text-align:left\"></td><td>(0.022)</td><td>(0.022)</td><td>(0.022)</td><td>(0.022)</td></tr>\n",
       "<tr><td style=\"text-align:left\">age</td><td></td><td>0.001<sup></sup></td><td>0.006<sup></sup></td><td>-0.082<sup></sup></td></tr>\n",
       "<tr><td style=\"text-align:left\"></td><td></td><td>(0.001)</td><td>(0.006)</td><td>(0.120)</td></tr>\n",
       "<tr><td style=\"text-align:left\">agesq</td><td></td><td></td><td>-0.000<sup></sup></td><td>0.003<sup></sup></td></tr>\n",
       "<tr><td style=\"text-align:left\"></td><td></td><td></td><td>(0.000)</td><td>(0.004)</td></tr>\n",
       "<tr><td style=\"text-align:left\">agecu</td><td></td><td></td><td></td><td>-0.000<sup></sup></td></tr>\n",
       "<tr><td style=\"text-align:left\"></td><td></td><td></td><td></td><td>(0.000)</td></tr>\n",
       "<tr><td style=\"text-align:left\">agequ</td><td></td><td></td><td></td><td>0.000<sup></sup></td></tr>\n",
       "<tr><td style=\"text-align:left\"></td><td></td><td></td><td></td><td>(0.000)</td></tr>\n",
       "<tr><td style=\"text-align:left\">Constant</td><td>5.688<sup>***</sup></td><td>5.641<sup>***</sup></td><td>5.550<sup>***</sup></td><td>6.367<sup>***</sup></td></tr>\n",
       "<tr><td style=\"text-align:left\"></td><td>(0.018)</td><td>(0.042)</td><td>(0.124)</td><td>(1.161)</td></tr>\n",
       "\n",
       "<td colspan=\"5\" style=\"border-bottom: 1px solid black\"></td></tr>\n",
       "<tr><td style=\"text-align: left\">Observations</td><td>104</td><td>104</td><td>104</td><td>104</td></tr><tr><td style=\"text-align: left\">R<sup>2</sup></td><td>0.000</td><td>0.022</td><td>0.032</td><td>0.041</td></tr><tr><td style=\"text-align: left\">Adjusted R<sup>2</sup></td><td>-0.009</td><td>0.003</td><td>0.003</td><td>-0.008</td></tr><tr><td style=\"text-align: left\">Residual Std. Error</td><td>0.113 (df=102)</td><td>0.112 (df=101)</td><td>0.112 (df=100)</td><td>0.113 (df=98)</td></tr><tr><td style=\"text-align: left\">F Statistic</td><td>0.036<sup></sup> (df=1; 102)</td><td>1.239<sup></sup> (df=2; 101)</td><td>0.960<sup></sup> (df=3; 100)</td><td>0.832<sup></sup> (df=5; 98)</td></tr>\n",
       "<tr><td colspan=\"5\" style=\"border-bottom: 1px solid black\"></td></tr><tr><td style=\"text-align: left\">Note:</td><td colspan=\"4\" style=\"text-align: right\"><sup>*</sup>p&lt;0.1; <sup>**</sup>p&lt;0.05; <sup>***</sup>p&lt;0.01</td></tr></table>"
      ],
      "text/plain": [
       "<stargazer.stargazer.Stargazer at 0x297e30990>"
      ]
     },
     "execution_count": 108,
     "metadata": {},
     "output_type": "execute_result"
    }
   ],
   "source": [
    "stargazer = Stargazer([reg9, reg10, reg11, reg12])\n",
    "stargazer.covariate_order([\"female\", \"age\", \"agesq\", \"agecu\", \"agequ\", \"Intercept\"])\n",
    "stargazer.rename_covariates({\"Intercept\": \"Constant\"})\n",
    "stargazer"
   ]
  },
  {
   "cell_type": "markdown",
   "id": "aae33778-21cc-4b65-a176-2bb289cad57f",
   "metadata": {},
   "source": [
    "- estimates of conditional difference are close to each other and within each others' CIs\n",
    "\n",
    "> the functional form for age does not really matter if we are interested in the average totalprice gap\n",
    "\n",
    "- coefficient estimates of higher order polynomials are not statistically significant\n",
    "\n",
    "> nonlinear pattern is very unlikely true in the population\n",
    "\n",
    "- Adjusted $R^2$ goes up for the more complicated specifications \n"
   ]
  },
  {
   "cell_type": "markdown",
   "id": "3b0632cf-a495-4977-bce4-e4fca68f7a20",
   "metadata": {},
   "source": [
    "## Gender differences in totalprice – log totalprice, gender, age, and their interaction"
   ]
  },
  {
   "cell_type": "code",
   "execution_count": 109,
   "id": "c2f3c663-a712-44b9-9fbc-22ae2d1c595a",
   "metadata": {},
   "outputs": [],
   "source": [
    "reg13 = smf.ols(formula=\"lntotalprice~age\", data=average_lntotalprice_by_ageandfemale.query(\"female==1\")).fit(cov_type=\"HC1\")\n",
    "reg14 = smf.ols(formula=\"lntotalprice~age\", data=average_lntotalprice_by_ageandfemale.query(\"female==0\")).fit(cov_type=\"HC1\")\n",
    "reg15 = smf.ols(formula=\"lntotalprice~female+age+age*female\", data=average_lntotalprice_by_ageandfemale).fit(cov_type=\"HC1\")"
   ]
  },
  {
   "cell_type": "code",
   "execution_count": 110,
   "id": "647e006d-d9f2-413e-a0f6-b796501743e0",
   "metadata": {},
   "outputs": [
    {
     "data": {
      "text/html": [
       "<table style=\"text-align:center\"><tr><td colspan=\"4\" style=\"border-bottom: 1px solid black\"></td></tr>\n",
       "<tr><td style=\"text-align:left\"></td><td colspan=\"3\"><em>Dependent variable: lntotalprice</em></td></tr><tr><td style=\"text-align:left\"></td><tr><td></td><td colspan=\"1\">Women</td><td colspan=\"1\">Men</td><td colspan=\"1\">All</td></tr><tr><td style=\"text-align:left\"></td><td>(1)</td><td>(2)</td><td>(3)</td></tr>\n",
       "<tr><td colspan=\"4\" style=\"border-bottom: 1px solid black\"></td></tr>\n",
       "\n",
       "<tr><td style=\"text-align:left\">female</td><td></td><td></td><td>0.122<sup>*</sup></td></tr>\n",
       "<tr><td style=\"text-align:left\"></td><td></td><td></td><td>(0.071)</td></tr>\n",
       "<tr><td style=\"text-align:left\">age</td><td>-0.000<sup></sup></td><td>0.003<sup>**</sup></td><td>0.003<sup>**</sup></td></tr>\n",
       "<tr><td style=\"text-align:left\"></td><td>(0.001)</td><td>(0.001)</td><td>(0.001)</td></tr>\n",
       "<tr><td style=\"text-align:left\">female x age</td><td></td><td></td><td>-0.003<sup>**</sup></td></tr>\n",
       "<tr><td style=\"text-align:left\"></td><td></td><td></td><td>(0.001)</td></tr>\n",
       "<tr><td style=\"text-align:left\">Constant</td><td>5.700<sup>***</sup></td><td>5.578<sup>***</sup></td><td>5.578<sup>***</sup></td></tr>\n",
       "<tr><td style=\"text-align:left\"></td><td>(0.032)</td><td>(0.064)</td><td>(0.064)</td></tr>\n",
       "\n",
       "<td colspan=\"4\" style=\"border-bottom: 1px solid black\"></td></tr>\n",
       "<tr><td style=\"text-align: left\">Observations</td><td>52</td><td>52</td><td>104</td></tr><tr><td style=\"text-align: left\">R<sup>2</sup></td><td>0.004</td><td>0.086</td><td>0.060</td></tr><tr><td style=\"text-align: left\">Adjusted R<sup>2</sup></td><td>-0.016</td><td>0.067</td><td>0.032</td></tr><tr><td style=\"text-align: left\">Residual Std. Error</td><td>0.090 (df=50)</td><td>0.127 (df=50)</td><td>0.110 (df=100)</td></tr><tr><td style=\"text-align: left\">F Statistic</td><td>0.239<sup></sup> (df=1; 50)</td><td>3.936<sup>*</sup> (df=1; 50)</td><td>1.558<sup></sup> (df=3; 100)</td></tr>\n",
       "<tr><td colspan=\"4\" style=\"border-bottom: 1px solid black\"></td></tr><tr><td style=\"text-align: left\">Note:</td><td colspan=\"3\" style=\"text-align: right\"><sup>*</sup>p&lt;0.1; <sup>**</sup>p&lt;0.05; <sup>***</sup>p&lt;0.01</td></tr></table>"
      ],
      "text/plain": [
       "<stargazer.stargazer.Stargazer at 0x298001110>"
      ]
     },
     "execution_count": 110,
     "metadata": {},
     "output_type": "execute_result"
    }
   ],
   "source": [
    "stargazer = Stargazer([reg13, reg14, reg15])\n",
    "stargazer.covariate_order([\"female\", \"age\", \"age:female\", \"Intercept\"])\n",
    "stargazer.rename_covariates({\"Intercept\": \"Constant\", \"age:female\": \"female x age\"})\n",
    "stargazer.custom_columns([\"Women\", \"Men\", \"All\"], [1, 1, 1])\n",
    "stargazer"
   ]
  },
  {
   "cell_type": "markdown",
   "id": "2d987344-d992-48c4-a746-dbb02bfd0f05",
   "metadata": {},
   "source": [
    "- (1): women who are one year older are expected to spend 0.1% less, on average\n",
    "- (2): men who are one year older are expected to spend 0.2% more, on average\n",
    "- (3): slope of log totalprice - age pattern is 0.003 less positive for women, on average  -> can do **inference** about gender differences"
   ]
  },
  {
   "cell_type": "markdown",
   "id": "eb260f3d-c816-4802-9d81-f4d57979784b",
   "metadata": {},
   "source": [
    "## Gender differences in totalprice – log totalprice, gender, 4th-order polynomial of age, and their interaction"
   ]
  },
  {
   "cell_type": "code",
   "execution_count": 111,
   "id": "b0324da1-f87b-4aa3-98bd-d115770fc0f3",
   "metadata": {},
   "outputs": [],
   "source": [
    "reg16 = smf.ols(formula=\"lntotalprice~age+agesq+agecu+agequ\", data=average_lntotalprice_by_ageandfemale.query(\"female==1\")).fit(\n",
    "    cov_type=\"HC1\"\n",
    ") #women\n",
    "reg17 = smf.ols(formula=\"lntotalprice~age+agesq+agecu+agequ\", data=average_lntotalprice_by_ageandfemale.query(\"female==0\")).fit(\n",
    "    cov_type=\"HC1\"\n",
    ") #men\n",
    "reg18 = smf.ols(\n",
    "    formula=\"lntotalprice ~ age + agesq + agecu + agequ + female + female*age + female*agesq + female*agecu + female*agequ\",\n",
    "    data=average_lntotalprice_by_ageandfemale,\n",
    ").fit(cov_type=\"HC1\")"
   ]
  },
  {
   "cell_type": "code",
   "execution_count": 112,
   "id": "e2073ae8-f4d6-4e89-8805-89dd8bc800ea",
   "metadata": {},
   "outputs": [
    {
     "data": {
      "text/html": [
       "<table style=\"text-align:center\"><tr><td colspan=\"4\" style=\"border-bottom: 1px solid black\"></td></tr>\n",
       "<tr><td style=\"text-align:left\"></td><td colspan=\"3\"><em>Dependent variable: lntotalprice</em></td></tr><tr><td style=\"text-align:left\"></td><tr><td style=\"text-align:left\"></td><td>(1)</td><td>(2)</td><td>(3)</td></tr>\n",
       "<tr><td colspan=\"4\" style=\"border-bottom: 1px solid black\"></td></tr>\n",
       "\n",
       "<tr><td style=\"text-align:left\">Intercept</td><td>5.515<sup>***</sup></td><td>7.214<sup>***</sup></td><td>7.214<sup>***</sup></td></tr>\n",
       "<tr><td style=\"text-align:left\"></td><td>(0.850)</td><td>(2.014)</td><td>(2.014)</td></tr>\n",
       "<tr><td style=\"text-align:left\">age</td><td>0.028<sup></sup></td><td>-0.191<sup></sup></td><td>-0.191<sup></sup></td></tr>\n",
       "<tr><td style=\"text-align:left\"></td><td>(0.094)</td><td>(0.205)</td><td>(0.205)</td></tr>\n",
       "<tr><td style=\"text-align:left\">agecu</td><td>0.000<sup></sup></td><td>-0.000<sup></sup></td><td>-0.000<sup></sup></td></tr>\n",
       "<tr><td style=\"text-align:left\"></td><td>(0.000)</td><td>(0.000)</td><td>(0.000)</td></tr>\n",
       "<tr><td style=\"text-align:left\">agequ</td><td>-0.000<sup></sup></td><td>0.000<sup></sup></td><td>0.000<sup></sup></td></tr>\n",
       "<tr><td style=\"text-align:left\"></td><td>(0.000)</td><td>(0.000)</td><td>(0.000)</td></tr>\n",
       "<tr><td style=\"text-align:left\">agesq</td><td>-0.001<sup></sup></td><td>0.008<sup></sup></td><td>0.008<sup></sup></td></tr>\n",
       "<tr><td style=\"text-align:left\"></td><td>(0.004)</td><td>(0.007)</td><td>(0.007)</td></tr>\n",
       "<tr><td style=\"text-align:left\">female</td><td></td><td></td><td>-1.699<sup></sup></td></tr>\n",
       "<tr><td style=\"text-align:left\"></td><td></td><td></td><td>(2.186)</td></tr>\n",
       "<tr><td style=\"text-align:left\">female:age</td><td></td><td></td><td>0.220<sup></sup></td></tr>\n",
       "<tr><td style=\"text-align:left\"></td><td></td><td></td><td>(0.225)</td></tr>\n",
       "<tr><td style=\"text-align:left\">female:agecu</td><td></td><td></td><td>0.000<sup></sup></td></tr>\n",
       "<tr><td style=\"text-align:left\"></td><td></td><td></td><td>(0.000)</td></tr>\n",
       "<tr><td style=\"text-align:left\">female:agequ</td><td></td><td></td><td>-0.000<sup></sup></td></tr>\n",
       "<tr><td style=\"text-align:left\"></td><td></td><td></td><td>(0.000)</td></tr>\n",
       "<tr><td style=\"text-align:left\">female:agesq</td><td></td><td></td><td>-0.009<sup></sup></td></tr>\n",
       "<tr><td style=\"text-align:left\"></td><td></td><td></td><td>(0.008)</td></tr>\n",
       "\n",
       "<td colspan=\"4\" style=\"border-bottom: 1px solid black\"></td></tr>\n",
       "<tr><td style=\"text-align: left\">Observations</td><td>52</td><td>52</td><td>104</td></tr><tr><td style=\"text-align: left\">R<sup>2</sup></td><td>0.026</td><td>0.155</td><td>0.114</td></tr><tr><td style=\"text-align: left\">Adjusted R<sup>2</sup></td><td>-0.057</td><td>0.083</td><td>0.029</td></tr><tr><td style=\"text-align: left\">Residual Std. Error</td><td>0.092 (df=47)</td><td>0.126 (df=47)</td><td>0.110 (df=94)</td></tr><tr><td style=\"text-align: left\">F Statistic</td><td>0.384<sup></sup> (df=4; 47)</td><td>2.072<sup>*</sup> (df=4; 47)</td><td>1.089<sup></sup> (df=9; 94)</td></tr>\n",
       "<tr><td colspan=\"4\" style=\"border-bottom: 1px solid black\"></td></tr><tr><td style=\"text-align: left\">Note:</td><td colspan=\"3\" style=\"text-align: right\"><sup>*</sup>p&lt;0.1; <sup>**</sup>p&lt;0.05; <sup>***</sup>p&lt;0.01</td></tr></table>"
      ],
      "text/plain": [
       "<stargazer.stargazer.Stargazer at 0x297e6e590>"
      ]
     },
     "execution_count": 112,
     "metadata": {},
     "output_type": "execute_result"
    }
   ],
   "source": [
    "Stargazer([reg16, reg17, reg18])"
   ]
  },
  {
   "cell_type": "markdown",
   "id": "3c176d09-ab6b-458d-901b-a3b4088804fa",
   "metadata": {},
   "source": [
    "## Causal Analysis"
   ]
  },
  {
   "cell_type": "markdown",
   "id": "bb71cb61-a425-4a79-b806-2709efb6b79c",
   "metadata": {},
   "source": [
    "## Including other variables to see the effects of them to the regression"
   ]
  },
  {
   "cell_type": "code",
   "execution_count": 113,
   "id": "722bc6b0-3695-45a4-a433-ddd9ef984359",
   "metadata": {},
   "outputs": [
    {
     "data": {
      "text/plain": [
       "array(['Clothing', 'Cosmetics', 'Food & Beverage', 'Books', 'Toys',\n",
       "       'Shoes', 'Technology', 'Souvenir'], dtype=object)"
      ]
     },
     "execution_count": 113,
     "metadata": {},
     "output_type": "execute_result"
    }
   ],
   "source": [
    "df['category'].unique()"
   ]
  },
  {
   "cell_type": "code",
   "execution_count": 114,
   "id": "c10e18e6-19cd-4a62-819f-d80856fafafc",
   "metadata": {},
   "outputs": [],
   "source": [
    "# creating dummies for unique category variables\n",
    "df[\"Clothing\"] = (df[\"category\"] == 'Clothing').astype(int)\n",
    "df[\"Cosmetics\"] = (df[\"category\"] == 'Cosmetics').astype(int)\n",
    "df[\"FoodBeverage\"] = (df[\"category\"] == 'Food & Beverage').astype(int)\n",
    "df[\"Books\"] = (df[\"category\"] == 'Books').astype(int)\n",
    "df[\"Toys\"] = (df[\"category\"] == 'Toys').astype(int)\n",
    "df[\"Shoes\"] = (df[\"category\"] == 'Shoes').astype(int)\n",
    "df[\"Technology\"] = (df[\"category\"] == 'Technology').astype(int)\n",
    "df[\"Souvenir\"] = (df[\"category\"] == 'Souvenir').astype(int)\n",
    "\n",
    "df[\"ages\"] = np.power(df[\"age\"], 2)\n",
    "df[\"agesq\"] = np.power(df[\"age\"], 2)\n",
    "df[\"agecu\"] = np.power(df[\"age\"], 3)\n",
    "df[\"agequ\"] = np.power(df[\"age\"], 4)\n",
    "\n",
    "# creating dummies for unique payment method variables\n",
    "df[\"CreditCard\"] = (df[\"payment_method\"] == 'Credit Card').astype(int)\n",
    "df[\"Cash\"] = (df[\"payment_method\"] == 'Cash').astype(int)\n",
    "df[\"DebitCard\"] = (df[\"payment_method\"] == 'Debit Card').astype(int)\n",
    "\n",
    "# creating dummies for unique shopping mall variables\n",
    "df[\"Kanyon\"] = (df[\"shopping_mall\"] == 'Kanyon').astype(int)\n",
    "df[\"ForumIstanbul\"] = (df[\"shopping_mall\"] == 'Forum Istanbul').astype(int)\n",
    "df[\"IstinyePark\"] = (df[\"shopping_mall\"] == 'Istinye Park').astype(int)\n",
    "df[\"Metrocity\"] = (df[\"shopping_mall\"] == 'Metrocity').astype(int)\n",
    "df[\"EmaarSquareMall\"] = (df[\"shopping_mall\"] == 'Emaar Square Mall').astype(int)\n",
    "df[\"CevahirAVM\"] = (df[\"shopping_mall\"] == 'Cevahir AVM').astype(int)\n",
    "df[\"ZorluCenter\"] = (df[\"shopping_mall\"] == 'Zorlu Center').astype(int)\n",
    "df[\"MallofIstanbul\"] = (df[\"shopping_mall\"] == 'Mall of Istanbul').astype(int)\n",
    "df[\"MetropolAVM\"] = (df[\"shopping_mall\"] == 'Metropol AVM').astype(int)\n",
    "df[\"ViaportOutlet\"] = (df[\"shopping_mall\"] == 'Viaport Outlet').astype(int)\n",
    "\n",
    "df[\"quantitysq\"] = np.power(df[\"quantity\"], 2)\n",
    "df[\"quantitycu\"] = np.power(df[\"quantity\"], 3)\n",
    "df[\"quantityqu\"] = np.power(df[\"quantity\"], 4)\n"
   ]
  },
  {
   "cell_type": "code",
   "execution_count": 115,
   "id": "b5104c9f-5e91-43b9-a5db-c923ddc4e1ae",
   "metadata": {},
   "outputs": [],
   "source": [
    "df[\"quantitysq\"] = np.power(df[\"quantity\"], 2)\n",
    "df[\"quantitycu\"] = np.power(df[\"quantity\"], 3)\n",
    "df[\"quantityqu\"] = np.power(df[\"quantity\"], 4)"
   ]
  },
  {
   "cell_type": "code",
   "execution_count": 116,
   "id": "8a419bae-05f1-4c6b-8f9d-7f42f35b262d",
   "metadata": {},
   "outputs": [],
   "source": [
    "grouped_data = df.groupby(['age', 'female', 'Clothing', 'Cosmetics', 'FoodBeverage', 'Books', 'Toys', 'Shoes', 'Technology', 'Souvenir', 'CreditCard', 'Cash', 'DebitCard', 'Kanyon', 'ForumIstanbul', 'IstinyePark', 'Metrocity',\n",
    "                           'EmaarSquareMall', 'CevahirAVM', 'ZorluCenter', 'MallofIstanbul', 'MetropolAVM', 'ViaportOutlet', 'agesq', 'agecu', 'agequ', 'quantitysq', 'quantitycu', 'quantityqu'])['lntotalprice'].mean().reset_index()"
   ]
  },
  {
   "cell_type": "code",
   "execution_count": 117,
   "id": "859428a3-7255-49eb-afee-42733af572b1",
   "metadata": {},
   "outputs": [],
   "source": [
    "# Extended regressions\n",
    "reg19 = smf.ols(formula=\"lntotalprice ~ female\", data=df).fit(cov_type=\"HC1\")\n",
    "reg20 = smf.ols(formula=\"lntotalprice ~ female + age\", data=df).fit(cov_type=\"HC1\")\n",
    "reg21 = smf.ols(\n",
    "    formula=\"lntotalprice ~ female + age + Clothing + Cosmetics + FoodBeverage + Books + Toys + Shoes + Technology + Souvenir + CreditCard + Cash + DebitCard + Kanyon + ForumIstanbul + IstinyePark + Metrocity + \\\n",
    "             EmaarSquareMall + CevahirAVM + ZorluCenter + MallofIstanbul + MetropolAVM + ViaportOutlet\",\n",
    "    data=df,\n",
    ").fit(cov_type=\"HC1\")\n",
    "reg22 = smf.ols(\n",
    "    formula=\"lntotalprice ~ age + female + Clothing + Cosmetics + FoodBeverage + Books + Toys + Shoes + Technology + Souvenir + CreditCard + Cash + DebitCard + Kanyon + ForumIstanbul + IstinyePark + Metrocity + \\\n",
    "             EmaarSquareMall + CevahirAVM + ZorluCenter + MallofIstanbul + MetropolAVM + ViaportOutlet + agesq + agecu + agequ + quantitysq + quantitycu + quantityqu\",\n",
    "    data=df,   \n",
    ").fit(cov_type=\"HC1\")"
   ]
  },
  {
   "cell_type": "code",
   "execution_count": 118,
   "id": "2d396627-23f6-4083-a28e-7a99ee5ed28c",
   "metadata": {},
   "outputs": [
    {
     "data": {
      "text/html": [
       "<table style=\"text-align:center\"><tr><td colspan=\"5\" style=\"border-bottom: 1px solid black\"></td></tr>\n",
       "<tr><td style=\"text-align:left\"></td><td colspan=\"4\"><em>Dependent variable: lntotalprice</em></td></tr><tr><td style=\"text-align:left\"></td><tr><td style=\"text-align:left\"></td><td>(1)</td><td>(2)</td><td>(3)</td><td>(4)</td></tr>\n",
       "<tr><td colspan=\"5\" style=\"border-bottom: 1px solid black\"></td></tr>\n",
       "\n",
       "<tr><td style=\"text-align:left\">female</td><td>-0.002<sup></sup></td><td>-0.002<sup></sup></td><td>0.008<sup></sup></td><td>0.001<sup></sup></td></tr>\n",
       "<tr><td style=\"text-align:left\"></td><td>(0.020)</td><td>(0.020)</td><td>(0.011)</td><td>(0.003)</td></tr>\n",
       "\n",
       "<tr><td style=\"text-align: left\">Age</td><td></td><td>Yes</td><td>Yes</td><td>Yes</td></tr><tr><td style=\"text-align: left\">Category</td><td></td><td></td><td>Yes</td><td>Yes</td></tr><tr><td style=\"text-align: left\">Payment Method</td><td></td><td></td><td>Yes</td><td>Yes</td></tr><tr><td style=\"text-align: left\">Shopping Mall</td><td></td><td></td><td>Yes</td><td>Yes</td></tr><tr><td style=\"text-align: left\">Age in polynomial</td><td></td><td></td><td></td><td>Yes</td></tr><tr><td style=\"text-align: left\">Hours in polynomial</td><td></td><td></td><td></td><td>Yes</td></tr><td colspan=\"5\" style=\"border-bottom: 1px solid black\"></td></tr>\n",
       "<tr><td style=\"text-align: left\">Observations</td><td>45551</td><td>45551</td><td>45551</td><td>45551</td></tr><tr><td style=\"text-align: left\">R<sup>2</sup></td><td>0.000</td><td>0.000</td><td>0.711</td><td>0.981</td></tr><tr><td style=\"text-align: left\">Adjusted R<sup>2</sup></td><td>-0.000</td><td>-0.000</td><td>0.711</td><td>0.981</td></tr><tr><td style=\"text-align: left\">Residual Std. Error</td><td>2.109 (df=45549)</td><td>2.109 (df=45548)</td><td>1.135 (df=45530)</td><td>0.291 (df=45524)</td></tr><tr><td style=\"text-align: left\">F Statistic</td><td>0.011<sup></sup> (df=1; 45549)</td><td>0.788<sup></sup> (df=2; 45548)</td><td>60282.116<sup>***</sup> (df=20; 45530)</td><td>658973.736<sup>***</sup> (df=26; 45524)</td></tr>\n",
       "<tr><td colspan=\"5\" style=\"border-bottom: 1px solid black\"></td></tr><tr><td style=\"text-align: left\">Note:</td><td colspan=\"4\" style=\"text-align: right\"><sup>*</sup>p&lt;0.1; <sup>**</sup>p&lt;0.05; <sup>***</sup>p&lt;0.01</td></tr></table>"
      ],
      "text/plain": [
       "<stargazer.stargazer.Stargazer at 0x29776d550>"
      ]
     },
     "execution_count": 118,
     "metadata": {},
     "output_type": "execute_result"
    }
   ],
   "source": [
    "stargazer = Stargazer([reg19, reg20, reg21, reg22])\n",
    "stargazer.covariate_order([\"female\"])\n",
    "stargazer.add_line(\"Age\", [\"\", \"Yes\", \"Yes\", \"Yes\"])\n",
    "stargazer.add_line(\"Category\", [\"\", \"\", \"Yes\", \"Yes\"])\n",
    "stargazer.add_line(\"Payment Method\", [\"\", \"\", \"Yes\", \"Yes\"])\n",
    "stargazer.add_line(\"Shopping Mall\", [\"\", \"\", \"Yes\", \"Yes\"])\n",
    "stargazer.add_line(\"Age in polynomial\", [\"\", \"\", \"\", \"Yes\"])\n",
    "stargazer.add_line(\"Hours in polynomial\", [\"\", \"\", \"\", \"Yes\"])\n",
    "stargazer"
   ]
  },
  {
   "cell_type": "markdown",
   "id": "c97f8bb1-3b5d-48dd-a75d-59cc727aadac",
   "metadata": {
    "scrolled": true
   },
   "source": [
    "- (1): women are expected to spend, on average, 0.5% less than men (in the data)\n",
    "- (2): conditioning on age and on education, the difference is 0.5% -> differences in age and education do not contribute that much to gender difference in totalprice \n",
    "- (3): including all other covariates, the estimated coefficient is 0.4% -> comparing people with same payment method, category and shopping malls, women are expected to spend 0.4% more than men\n",
    "- (4): include potential nonlinearities in age and quantities -> does not matter"
   ]
  },
  {
   "cell_type": "code",
   "execution_count": null,
   "id": "235a81ce-ed3e-4672-a612-0d31824eb869",
   "metadata": {},
   "outputs": [],
   "source": [
    "# creating pdf file from this ipynb file\n",
    "from nbconvert import PDFExporter\n",
    "import nbformat\n",
    "\n",
    "\n",
    "notebook_filename = 'DA2_Final_Project_ApoDuman.ipynb'\n",
    "\n",
    "# reading the notebook\n",
    "with open(notebook_filename, 'r', encoding='utf-8') as notebook_file:\n",
    "    notebook_content = nbformat.read(notebook_file, as_version=4)\n",
    "\n",
    "# creating a PDFExporter\n",
    "pdf_exporter = PDFExporter()\n",
    "\n",
    "# generating a PDF\n",
    "pdf_data, _ = pdf_exporter.from_notebook_node(notebook_content)\n",
    "\n",
    "# writing the PDF to a file\n",
    "pdf_filename = notebook_filename.replace('.ipynb', '.pdf')\n",
    "with open(pdf_filename, 'wb') as pdf_file:\n",
    "    pdf_file.write(pdf_data)"
   ]
  }
 ],
 "metadata": {
  "kernelspec": {
   "display_name": "Python 3 (ipykernel)",
   "language": "python",
   "name": "python3"
  },
  "language_info": {
   "codemirror_mode": {
    "name": "ipython",
    "version": 3
   },
   "file_extension": ".py",
   "mimetype": "text/x-python",
   "name": "python",
   "nbconvert_exporter": "python",
   "pygments_lexer": "ipython3",
   "version": "3.11.5"
  }
 },
 "nbformat": 4,
 "nbformat_minor": 5
}
